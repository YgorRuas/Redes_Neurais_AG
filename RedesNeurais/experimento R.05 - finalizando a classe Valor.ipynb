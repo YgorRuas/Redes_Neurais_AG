{
 "cells": [
  {
   "cell_type": "markdown",
   "metadata": {},
   "source": [
    "Finalizando a classe Valor\n",
    "==========================\n",
    "\n"
   ]
  },
  {
   "cell_type": "markdown",
   "metadata": {},
   "source": [
    "## Introdução\n",
    "\n"
   ]
  },
  {
   "cell_type": "markdown",
   "metadata": {},
   "source": [
    "Chegou a hora de finalizar a classe `Valor`!\n",
    "\n"
   ]
  },
  {
   "cell_type": "markdown",
   "metadata": {},
   "source": [
    "## Objetivo\n",
    "\n"
   ]
  },
  {
   "cell_type": "markdown",
   "metadata": {},
   "source": [
    "O objetivo é fazer com que a classe `Valor` seja capaz de realizar algumas operações necessárias para que seja usada na nossa rede neural artificial.\n",
    "\n"
   ]
  },
  {
   "cell_type": "markdown",
   "metadata": {},
   "source": [
    "## Importações\n",
    "\n"
   ]
  },
  {
   "cell_type": "code",
   "execution_count": 133,
   "metadata": {},
   "outputs": [],
   "source": [
    "import math\n",
    "from funcoes import plota_grafo "
   ]
  },
  {
   "cell_type": "markdown",
   "metadata": {},
   "source": [
    "## Código e discussão\n",
    "\n"
   ]
  },
  {
   "cell_type": "markdown",
   "metadata": {},
   "source": [
    "### Finalizando a classe `Valor`\n",
    "\n"
   ]
  },
  {
   "cell_type": "markdown",
   "metadata": {},
   "source": [
    "Aqui está a classe `Valor` assim como feita na aula anterior. Vamos modificá-la para cumprir nossos objetivos (ver objetivos na próxima seção).\n",
    "\n"
   ]
  },
  {
   "cell_type": "code",
   "execution_count": 134,
   "metadata": {},
   "outputs": [],
   "source": [
    "class Valor:\n",
    "    def __init__(self, data, progenitor=(), operador_mae=\"\", rotulo=\"\"):\n",
    "        self.data = data\n",
    "        self.progenitor = progenitor\n",
    "        self.operador_mae = operador_mae\n",
    "        self.rotulo = rotulo\n",
    "        self.grad = 0\n",
    "\n",
    "    def __repr__(self):\n",
    "        return f\"Valor(data={self.data})\"\n",
    "\n",
    "    def __add__(self, outro_valor):\n",
    "        if not isinstance(outro_valor, Valor):\n",
    "            outro_valor = Valor(outro_valor)\n",
    "        data = self.data + outro_valor.data\n",
    "        progenitor = (self, outro_valor)\n",
    "        operador_mae = \"+\"\n",
    "        saida = Valor(data, progenitor, operador_mae)\n",
    "\n",
    "        def propagar_adicao():\n",
    "            self.grad += saida.grad * 1\n",
    "            outro_valor.grad += saida.grad * 1\n",
    "\n",
    "        saida.propagar = propagar_adicao\n",
    "\n",
    "        return saida\n",
    "    \n",
    "    def __radd__(self, outro_valor): # outro_valor + self\n",
    "        return self + outro_valor\n",
    "\n",
    "\n",
    "    def __mul__(self, outro_valor):\n",
    "        if not isinstance(outro_valor, Valor):\n",
    "            outro_valor = Valor(outro_valor)\n",
    "        data = self.data * outro_valor.data\n",
    "        progenitor = (self, outro_valor)\n",
    "        operador_mae = \"*\"\n",
    "        saida = Valor(data, progenitor, operador_mae)\n",
    "\n",
    "        def propagar_multiplicacao():\n",
    "            self.grad += saida.grad * outro_valor.data\n",
    "            outro_valor.grad += saida.grad * self.data\n",
    "\n",
    "        saida.propagar = propagar_multiplicacao\n",
    "\n",
    "        return saida\n",
    "    \n",
    "    def __rmul__(self,outro_valor): # outro_valor * self\n",
    "        return self * outro_valor\n",
    "    \n",
    "    def propagar(self):\n",
    "        pass\n",
    "\n",
    "    def propagar_tudo(self):\n",
    "        ordem_topologica = []\n",
    "        visitados = set()\n",
    "\n",
    "        def constroi_ordem_topologica(v):\n",
    "            if v not in visitados:\n",
    "                visitados.add(v)\n",
    "                for progenitor in v.progenitor:\n",
    "                    constroi_ordem_topologica(progenitor)\n",
    "                ordem_topologica.append(v)\n",
    "\n",
    "        constroi_ordem_topologica(self)\n",
    "\n",
    "        self.grad = 1  # o gradiente do vértice folha deve ser 1\n",
    "\n",
    "        for v in reversed(ordem_topologica):\n",
    "            v.propagar()\n",
    "            \n",
    "            \n",
    "    def exp(self):\n",
    "        data = math.exp(self.data)\n",
    "        progenitor = (self, )\n",
    "        operador_mae = \"exp\"\n",
    "        saida = Valor(data, progenitor, operador_mae)\n",
    "\n",
    "        def propagar_exp():\n",
    "            self.grad += saida.grad * data\n",
    "\n",
    "        saida.propagar = propagar_exp\n",
    "\n",
    "        return saida \n",
    "    \n",
    "    def __pow__(self, expoente): # self ** expoente\n",
    "        \n",
    "        assert isinstance(expoente, (int, float))\n",
    "        data = self.data ** expoente\n",
    "        progenitor = (self, )\n",
    "        operador_mae = f\"**{expoente}\"\n",
    "        saida = Valor(data, progenitor, operador_mae)\n",
    "\n",
    "        def propagar_exponenciacao():\n",
    "            self.grad += saida.grad * expoente * (self.data ** (expoente - 1))\n",
    "\n",
    "        saida.propagar = propagar_exponenciacao\n",
    "\n",
    "        return saida\n",
    "    \n",
    "    def __truediv__(self, outro_valor): # self / outro valor\n",
    "        return self * outro_valor ** (-1)\n",
    "    \n",
    "    def __neg__(self): # - self\n",
    "        return self * (-1)\n",
    "    \n",
    "    def __sub__(self, outro_valor): # self - outro_valor\n",
    "        return self + (-outro_valor)\n",
    "    \n",
    "    def __rsub__(self, outro_valor): # outro_valor - self\n",
    "        return self * (-1) + outro_valor\n",
    "    \n",
    "    def sig(self):\n",
    "        return self.exp() / (self.exp() + 1) "
   ]
  },
  {
   "cell_type": "markdown",
   "metadata": {},
   "source": [
    "### Objetivos a serem cumpridos\n",
    "\n"
   ]
  },
  {
   "cell_type": "markdown",
   "metadata": {},
   "source": [
    "Quero poder acidionar uma instância de `Valor` com uma constante qualquer.\n",
    "\n"
   ]
  },
  {
   "cell_type": "code",
   "execution_count": 135,
   "metadata": {},
   "outputs": [
    {
     "name": "stdout",
     "output_type": "stream",
     "text": [
      "Valor(data=11)\n"
     ]
    }
   ],
   "source": [
    "a = Valor(10, rotulo=\"a\")\n",
    "b = a + 1\n",
    "print(b)"
   ]
  },
  {
   "cell_type": "markdown",
   "metadata": {},
   "source": [
    "Quero poder multiplicar uma instância de `Valor` com uma constante qualquer.\n",
    "\n"
   ]
  },
  {
   "cell_type": "code",
   "execution_count": 136,
   "metadata": {},
   "outputs": [
    {
     "name": "stdout",
     "output_type": "stream",
     "text": [
      "Valor(data=100)\n"
     ]
    }
   ],
   "source": [
    "a = Valor(10, rotulo=\"a\")\n",
    "b = a * 10\n",
    "print(b)"
   ]
  },
  {
   "cell_type": "markdown",
   "metadata": {},
   "source": [
    "Quero poder acidionar uma instância de `Valor` com uma constante qualquer, mas na ordem oposta.\n",
    "\n"
   ]
  },
  {
   "cell_type": "code",
   "execution_count": 137,
   "metadata": {},
   "outputs": [
    {
     "name": "stdout",
     "output_type": "stream",
     "text": [
      "Valor(data=11)\n"
     ]
    }
   ],
   "source": [
    "a = Valor(10, rotulo=\"a\")\n",
    "b = 1 + a\n",
    "print(b)"
   ]
  },
  {
   "cell_type": "markdown",
   "metadata": {},
   "source": [
    "Quero poder multiplicar uma instância de `Valor` com uma constante qualquer, mas na ordem oposta.\n",
    "\n"
   ]
  },
  {
   "cell_type": "code",
   "execution_count": 138,
   "metadata": {},
   "outputs": [
    {
     "name": "stdout",
     "output_type": "stream",
     "text": [
      "Valor(data=100)\n"
     ]
    }
   ],
   "source": [
    "a = Valor(10, rotulo=\"a\")\n",
    "b = 10 * a\n",
    "print(b)"
   ]
  },
  {
   "cell_type": "markdown",
   "metadata": {},
   "source": [
    "Quero poder aplicar a função exponencial ($e^x$) em uma instância de `Valor`, computando corretamente o gradiente local desta operação.\n",
    "\n"
   ]
  },
  {
   "cell_type": "code",
   "execution_count": 139,
   "metadata": {},
   "outputs": [
    {
     "name": "stdout",
     "output_type": "stream",
     "text": [
      "Valor(data=2.718281828459045)\n"
     ]
    }
   ],
   "source": [
    "a = Valor(1, rotulo=\"a\")\n",
    "b = a.exp()\n",
    "print(b)"
   ]
  },
  {
   "cell_type": "markdown",
   "metadata": {},
   "source": [
    "Quero poder elevar uma instância de `Valor` a um número real qualquer. **Nota**: não vai funcionar se fizer um `Valor` elevado a outro `Valor` pois vamos propagar os gradientes apenas considerando que estamos elevando a uma constante qualquer.\n",
    "\n"
   ]
  },
  {
   "cell_type": "code",
   "execution_count": 140,
   "metadata": {},
   "outputs": [
    {
     "name": "stdout",
     "output_type": "stream",
     "text": [
      "Valor(data=100)\n"
     ]
    }
   ],
   "source": [
    "a = Valor(10, rotulo=\"a\")\n",
    "b = a**2\n",
    "print(b)"
   ]
  },
  {
   "cell_type": "markdown",
   "metadata": {},
   "source": [
    "Quero poder dividir uma instância de `Valor` por outra instância de `Valor`.\n",
    "\n"
   ]
  },
  {
   "cell_type": "code",
   "execution_count": 141,
   "metadata": {},
   "outputs": [
    {
     "name": "stdout",
     "output_type": "stream",
     "text": [
      "Valor(data=0.5)\n"
     ]
    },
    {
     "data": {
      "image/svg+xml": [
       "<?xml version=\"1.0\" encoding=\"UTF-8\" standalone=\"no\"?>\n",
       "<!DOCTYPE svg PUBLIC \"-//W3C//DTD SVG 1.1//EN\"\n",
       " \"http://www.w3.org/Graphics/SVG/1.1/DTD/svg11.dtd\">\n",
       "<!-- Generated by graphviz version 6.0.2 (20221011.1828)\n",
       " -->\n",
       "<!-- Pages: 1 -->\n",
       "<svg width=\"819pt\" height=\"100pt\"\n",
       " viewBox=\"0.00 0.00 819.00 100.00\" xmlns=\"http://www.w3.org/2000/svg\" xmlns:xlink=\"http://www.w3.org/1999/xlink\">\n",
       "<g id=\"graph0\" class=\"graph\" transform=\"scale(1 1) rotate(0) translate(4 96)\">\n",
       "<polygon fill=\"white\" stroke=\"none\" points=\"-4,4 -4,-96 815,-96 815,4 -4,4\"/>\n",
       "<!-- 2276009523472 -->\n",
       "<g id=\"node1\" class=\"node\">\n",
       "<title>2276009523472</title>\n",
       "<polygon fill=\"none\" stroke=\"black\" points=\"315.5,-0.5 315.5,-36.5 499.5,-36.5 499.5,-0.5 315.5,-0.5\"/>\n",
       "<text text-anchor=\"middle\" x=\"325.5\" y=\"-14.8\" font-family=\"Times New Roman,serif\" font-size=\"14.00\"> </text>\n",
       "<polyline fill=\"none\" stroke=\"black\" points=\"335.5,-0.5 335.5,-36.5\"/>\n",
       "<text text-anchor=\"middle\" x=\"376\" y=\"-14.8\" font-family=\"Times New Roman,serif\" font-size=\"14.00\">data 0.5000</text>\n",
       "<polyline fill=\"none\" stroke=\"black\" points=\"416.5,-0.5 416.5,-36.5\"/>\n",
       "<text text-anchor=\"middle\" x=\"458\" y=\"-14.8\" font-family=\"Times New Roman,serif\" font-size=\"14.00\">grad 0.0000</text>\n",
       "</g>\n",
       "<!-- 2276009524768* -->\n",
       "<g id=\"node4\" class=\"node\">\n",
       "<title>2276009524768*</title>\n",
       "<ellipse fill=\"none\" stroke=\"black\" cx=\"564\" cy=\"-45.5\" rx=\"27\" ry=\"18\"/>\n",
       "<text text-anchor=\"middle\" x=\"564\" y=\"-41.8\" font-family=\"Times New Roman,serif\" font-size=\"14.00\">*</text>\n",
       "</g>\n",
       "<!-- 2276009523472&#45;&gt;2276009524768* -->\n",
       "<g id=\"edge5\" class=\"edge\">\n",
       "<title>2276009523472&#45;&gt;2276009524768*</title>\n",
       "<path fill=\"none\" stroke=\"black\" d=\"M499.71,-34.44C509.56,-36.16 519.09,-37.83 527.65,-39.32\"/>\n",
       "<polygon fill=\"black\" stroke=\"black\" points=\"527.09,-42.78 537.54,-41.05 528.3,-35.88 527.09,-42.78\"/>\n",
       "</g>\n",
       "<!-- 2276009523472**&#45;1 -->\n",
       "<g id=\"node2\" class=\"node\">\n",
       "<title>2276009523472**&#45;1</title>\n",
       "<ellipse fill=\"none\" stroke=\"black\" cx=\"251\" cy=\"-18.5\" rx=\"27\" ry=\"18\"/>\n",
       "<text text-anchor=\"middle\" x=\"251\" y=\"-14.8\" font-family=\"Times New Roman,serif\" font-size=\"14.00\">**&#45;1</text>\n",
       "</g>\n",
       "<!-- 2276009523472**&#45;1&#45;&gt;2276009523472 -->\n",
       "<g id=\"edge1\" class=\"edge\">\n",
       "<title>2276009523472**&#45;1&#45;&gt;2276009523472</title>\n",
       "<path fill=\"none\" stroke=\"black\" d=\"M278.21,-18.5C286.07,-18.5 295.2,-18.5 304.91,-18.5\"/>\n",
       "<polygon fill=\"black\" stroke=\"black\" points=\"305.2,-22 315.2,-18.5 305.2,-15 305.2,-22\"/>\n",
       "</g>\n",
       "<!-- 2276009524768 -->\n",
       "<g id=\"node3\" class=\"node\">\n",
       "<title>2276009524768</title>\n",
       "<polygon fill=\"none\" stroke=\"black\" points=\"627,-27.5 627,-63.5 811,-63.5 811,-27.5 627,-27.5\"/>\n",
       "<text text-anchor=\"middle\" x=\"637\" y=\"-41.8\" font-family=\"Times New Roman,serif\" font-size=\"14.00\"> </text>\n",
       "<polyline fill=\"none\" stroke=\"black\" points=\"647,-27.5 647,-63.5\"/>\n",
       "<text text-anchor=\"middle\" x=\"687.5\" y=\"-41.8\" font-family=\"Times New Roman,serif\" font-size=\"14.00\">data 0.5000</text>\n",
       "<polyline fill=\"none\" stroke=\"black\" points=\"728,-27.5 728,-63.5\"/>\n",
       "<text text-anchor=\"middle\" x=\"769.5\" y=\"-41.8\" font-family=\"Times New Roman,serif\" font-size=\"14.00\">grad 0.0000</text>\n",
       "</g>\n",
       "<!-- 2276009524768*&#45;&gt;2276009524768 -->\n",
       "<g id=\"edge2\" class=\"edge\">\n",
       "<title>2276009524768*&#45;&gt;2276009524768</title>\n",
       "<path fill=\"none\" stroke=\"black\" d=\"M591.3,-45.5C598.83,-45.5 607.52,-45.5 616.75,-45.5\"/>\n",
       "<polygon fill=\"black\" stroke=\"black\" points=\"616.95,-49 626.95,-45.5 616.95,-42 616.95,-49\"/>\n",
       "</g>\n",
       "<!-- 2276009521456 -->\n",
       "<g id=\"node5\" class=\"node\">\n",
       "<title>2276009521456</title>\n",
       "<polygon fill=\"none\" stroke=\"black\" points=\"314,-55.5 314,-91.5 501,-91.5 501,-55.5 314,-55.5\"/>\n",
       "<text text-anchor=\"middle\" x=\"325.5\" y=\"-69.8\" font-family=\"Times New Roman,serif\" font-size=\"14.00\">a</text>\n",
       "<polyline fill=\"none\" stroke=\"black\" points=\"337,-55.5 337,-91.5\"/>\n",
       "<text text-anchor=\"middle\" x=\"377.5\" y=\"-69.8\" font-family=\"Times New Roman,serif\" font-size=\"14.00\">data 1.0000</text>\n",
       "<polyline fill=\"none\" stroke=\"black\" points=\"418,-55.5 418,-91.5\"/>\n",
       "<text text-anchor=\"middle\" x=\"459.5\" y=\"-69.8\" font-family=\"Times New Roman,serif\" font-size=\"14.00\">grad 0.0000</text>\n",
       "</g>\n",
       "<!-- 2276009521456&#45;&gt;2276009524768* -->\n",
       "<g id=\"edge3\" class=\"edge\">\n",
       "<title>2276009521456&#45;&gt;2276009524768*</title>\n",
       "<path fill=\"none\" stroke=\"black\" d=\"M501.05,-56.73C510.54,-55.01 519.71,-53.35 527.95,-51.85\"/>\n",
       "<polygon fill=\"black\" stroke=\"black\" points=\"528.64,-55.28 537.85,-50.06 527.39,-48.4 528.64,-55.28\"/>\n",
       "</g>\n",
       "<!-- 2276009574352 -->\n",
       "<g id=\"node6\" class=\"node\">\n",
       "<title>2276009574352</title>\n",
       "<polygon fill=\"none\" stroke=\"black\" points=\"0,-0.5 0,-36.5 188,-36.5 188,-0.5 0,-0.5\"/>\n",
       "<text text-anchor=\"middle\" x=\"12\" y=\"-14.8\" font-family=\"Times New Roman,serif\" font-size=\"14.00\">b</text>\n",
       "<polyline fill=\"none\" stroke=\"black\" points=\"24,-0.5 24,-36.5\"/>\n",
       "<text text-anchor=\"middle\" x=\"64.5\" y=\"-14.8\" font-family=\"Times New Roman,serif\" font-size=\"14.00\">data 2.0000</text>\n",
       "<polyline fill=\"none\" stroke=\"black\" points=\"105,-0.5 105,-36.5\"/>\n",
       "<text text-anchor=\"middle\" x=\"146.5\" y=\"-14.8\" font-family=\"Times New Roman,serif\" font-size=\"14.00\">grad 0.0000</text>\n",
       "</g>\n",
       "<!-- 2276009574352&#45;&gt;2276009523472**&#45;1 -->\n",
       "<g id=\"edge4\" class=\"edge\">\n",
       "<title>2276009574352&#45;&gt;2276009523472**&#45;1</title>\n",
       "<path fill=\"none\" stroke=\"black\" d=\"M188.29,-18.5C197.2,-18.5 205.81,-18.5 213.64,-18.5\"/>\n",
       "<polygon fill=\"black\" stroke=\"black\" points=\"213.77,-22 223.77,-18.5 213.77,-15 213.77,-22\"/>\n",
       "</g>\n",
       "</g>\n",
       "</svg>\n"
      ],
      "text/plain": [
       "<graphviz.graphs.Digraph at 0x211ecbd3df0>"
      ]
     },
     "execution_count": 141,
     "metadata": {},
     "output_type": "execute_result"
    }
   ],
   "source": [
    "a = Valor(1, rotulo=\"a\")\n",
    "b = Valor(2, rotulo=\"b\")\n",
    "c = a / b\n",
    "print(c)\n",
    "\n",
    "plota_grafo(c)"
   ]
  },
  {
   "cell_type": "markdown",
   "metadata": {},
   "source": [
    "Quero poder computar o negativo de uma instância de `Valor`.\n",
    "\n"
   ]
  },
  {
   "cell_type": "code",
   "execution_count": 142,
   "metadata": {},
   "outputs": [
    {
     "name": "stdout",
     "output_type": "stream",
     "text": [
      "Valor(data=-1)\n"
     ]
    }
   ],
   "source": [
    "a = Valor(1, rotulo=\"a\")\n",
    "b = -a\n",
    "print(b)"
   ]
  },
  {
   "cell_type": "markdown",
   "metadata": {},
   "source": [
    "Quero poder subtrair uma instância de `Valor` por outra instância de `Valor`.\n",
    "\n"
   ]
  },
  {
   "cell_type": "code",
   "execution_count": 143,
   "metadata": {},
   "outputs": [
    {
     "name": "stdout",
     "output_type": "stream",
     "text": [
      "Valor(data=7)\n"
     ]
    }
   ],
   "source": [
    "a = Valor(10, rotulo=\"a\")\n",
    "b = Valor(3, rotulo=\"b\")\n",
    "c = a - b\n",
    "print(c)"
   ]
  },
  {
   "cell_type": "markdown",
   "metadata": {},
   "source": [
    "E, finalmente, quero poder aplicar a função sigmoide (também conhecida como logística) a uma instância de `Valor`. A função sigmoide é a seguinte:\n",
    "\n",
    "$$\n",
    "S(x) = \\frac{e^x}{e^x + 1}\n",
    "$$\n",
    "\n"
   ]
  },
  {
   "cell_type": "code",
   "execution_count": 144,
   "metadata": {},
   "outputs": [
    {
     "name": "stdout",
     "output_type": "stream",
     "text": [
      "Valor(data=0.7310585786300048)\n"
     ]
    },
    {
     "data": {
      "image/svg+xml": [
       "<?xml version=\"1.0\" encoding=\"UTF-8\" standalone=\"no\"?>\n",
       "<!DOCTYPE svg PUBLIC \"-//W3C//DTD SVG 1.1//EN\"\n",
       " \"http://www.w3.org/Graphics/SVG/1.1/DTD/svg11.dtd\">\n",
       "<!-- Generated by graphviz version 6.0.2 (20221011.1828)\n",
       " -->\n",
       "<!-- Pages: 1 -->\n",
       "<svg width=\"1565pt\" height=\"147pt\"\n",
       " viewBox=\"0.00 0.00 1565.00 147.00\" xmlns=\"http://www.w3.org/2000/svg\" xmlns:xlink=\"http://www.w3.org/1999/xlink\">\n",
       "<g id=\"graph0\" class=\"graph\" transform=\"scale(1 1) rotate(0) translate(4 143)\">\n",
       "<polygon fill=\"white\" stroke=\"none\" points=\"-4,4 -4,-143 1561,-143 1561,4 -4,4\"/>\n",
       "<!-- 2276009497600 -->\n",
       "<g id=\"node1\" class=\"node\">\n",
       "<title>2276009497600</title>\n",
       "<polygon fill=\"none\" stroke=\"black\" points=\"753,-54.5 753,-90.5 937,-90.5 937,-54.5 753,-54.5\"/>\n",
       "<text text-anchor=\"middle\" x=\"763\" y=\"-68.8\" font-family=\"Times New Roman,serif\" font-size=\"14.00\"> </text>\n",
       "<polyline fill=\"none\" stroke=\"black\" points=\"773,-54.5 773,-90.5\"/>\n",
       "<text text-anchor=\"middle\" x=\"813.5\" y=\"-68.8\" font-family=\"Times New Roman,serif\" font-size=\"14.00\">data 3.7183</text>\n",
       "<polyline fill=\"none\" stroke=\"black\" points=\"854,-54.5 854,-90.5\"/>\n",
       "<text text-anchor=\"middle\" x=\"895.5\" y=\"-68.8\" font-family=\"Times New Roman,serif\" font-size=\"14.00\">grad 0.0000</text>\n",
       "</g>\n",
       "<!-- 2276009500192**&#45;1 -->\n",
       "<g id=\"node4\" class=\"node\">\n",
       "<title>2276009500192**&#45;1</title>\n",
       "<ellipse fill=\"none\" stroke=\"black\" cx=\"1000\" cy=\"-71.5\" rx=\"27\" ry=\"18\"/>\n",
       "<text text-anchor=\"middle\" x=\"1000\" y=\"-67.8\" font-family=\"Times New Roman,serif\" font-size=\"14.00\">**&#45;1</text>\n",
       "</g>\n",
       "<!-- 2276009497600&#45;&gt;2276009500192**&#45;1 -->\n",
       "<g id=\"edge10\" class=\"edge\">\n",
       "<title>2276009497600&#45;&gt;2276009500192**&#45;1</title>\n",
       "<path fill=\"none\" stroke=\"black\" d=\"M937.21,-71.9C946.19,-71.85 954.88,-71.79 962.77,-71.74\"/>\n",
       "<polygon fill=\"black\" stroke=\"black\" points=\"963.02,-75.24 972.99,-71.67 962.97,-68.24 963.02,-75.24\"/>\n",
       "</g>\n",
       "<!-- 2276009497600+ -->\n",
       "<g id=\"node2\" class=\"node\">\n",
       "<title>2276009497600+</title>\n",
       "<ellipse fill=\"none\" stroke=\"black\" cx=\"625\" cy=\"-73.5\" rx=\"27\" ry=\"18\"/>\n",
       "<text text-anchor=\"middle\" x=\"625\" y=\"-69.8\" font-family=\"Times New Roman,serif\" font-size=\"14.00\">+</text>\n",
       "</g>\n",
       "<!-- 2276009497600+&#45;&gt;2276009497600 -->\n",
       "<g id=\"edge1\" class=\"edge\">\n",
       "<title>2276009497600+&#45;&gt;2276009497600</title>\n",
       "<path fill=\"none\" stroke=\"black\" d=\"M652.3,-73.38C674.98,-73.28 709.25,-73.12 742.57,-72.97\"/>\n",
       "<polygon fill=\"black\" stroke=\"black\" points=\"742.88,-76.46 752.87,-72.92 742.85,-69.46 742.88,-76.46\"/>\n",
       "</g>\n",
       "<!-- 2276009500192 -->\n",
       "<g id=\"node3\" class=\"node\">\n",
       "<title>2276009500192</title>\n",
       "<polygon fill=\"none\" stroke=\"black\" points=\"1063,-53.5 1063,-89.5 1247,-89.5 1247,-53.5 1063,-53.5\"/>\n",
       "<text text-anchor=\"middle\" x=\"1073\" y=\"-67.8\" font-family=\"Times New Roman,serif\" font-size=\"14.00\"> </text>\n",
       "<polyline fill=\"none\" stroke=\"black\" points=\"1083,-53.5 1083,-89.5\"/>\n",
       "<text text-anchor=\"middle\" x=\"1123.5\" y=\"-67.8\" font-family=\"Times New Roman,serif\" font-size=\"14.00\">data 0.2689</text>\n",
       "<polyline fill=\"none\" stroke=\"black\" points=\"1164,-53.5 1164,-89.5\"/>\n",
       "<text text-anchor=\"middle\" x=\"1205.5\" y=\"-67.8\" font-family=\"Times New Roman,serif\" font-size=\"14.00\">grad 0.0000</text>\n",
       "</g>\n",
       "<!-- 2276009497456* -->\n",
       "<g id=\"node9\" class=\"node\">\n",
       "<title>2276009497456*</title>\n",
       "<ellipse fill=\"none\" stroke=\"black\" cx=\"1310\" cy=\"-45.5\" rx=\"27\" ry=\"18\"/>\n",
       "<text text-anchor=\"middle\" x=\"1310\" y=\"-41.8\" font-family=\"Times New Roman,serif\" font-size=\"14.00\">*</text>\n",
       "</g>\n",
       "<!-- 2276009500192&#45;&gt;2276009497456* -->\n",
       "<g id=\"edge7\" class=\"edge\">\n",
       "<title>2276009500192&#45;&gt;2276009497456*</title>\n",
       "<path fill=\"none\" stroke=\"black\" d=\"M1247.21,-56C1256.47,-54.43 1265.42,-52.91 1273.51,-51.53\"/>\n",
       "<polygon fill=\"black\" stroke=\"black\" points=\"1274.32,-54.94 1283.6,-49.82 1273.15,-48.04 1274.32,-54.94\"/>\n",
       "</g>\n",
       "<!-- 2276009500192**&#45;1&#45;&gt;2276009500192 -->\n",
       "<g id=\"edge2\" class=\"edge\">\n",
       "<title>2276009500192**&#45;1&#45;&gt;2276009500192</title>\n",
       "<path fill=\"none\" stroke=\"black\" d=\"M1027.3,-71.5C1034.83,-71.5 1043.52,-71.5 1052.75,-71.5\"/>\n",
       "<polygon fill=\"black\" stroke=\"black\" points=\"1052.95,-75 1062.95,-71.5 1052.95,-68 1052.95,-75\"/>\n",
       "</g>\n",
       "<!-- 2276009499808 -->\n",
       "<g id=\"node5\" class=\"node\">\n",
       "<title>2276009499808</title>\n",
       "<polygon fill=\"none\" stroke=\"black\" points=\"313,-102.5 313,-138.5 497,-138.5 497,-102.5 313,-102.5\"/>\n",
       "<text text-anchor=\"middle\" x=\"323\" y=\"-116.8\" font-family=\"Times New Roman,serif\" font-size=\"14.00\"> </text>\n",
       "<polyline fill=\"none\" stroke=\"black\" points=\"333,-102.5 333,-138.5\"/>\n",
       "<text text-anchor=\"middle\" x=\"373.5\" y=\"-116.8\" font-family=\"Times New Roman,serif\" font-size=\"14.00\">data 2.7183</text>\n",
       "<polyline fill=\"none\" stroke=\"black\" points=\"414,-102.5 414,-138.5\"/>\n",
       "<text text-anchor=\"middle\" x=\"455.5\" y=\"-116.8\" font-family=\"Times New Roman,serif\" font-size=\"14.00\">grad 0.0000</text>\n",
       "</g>\n",
       "<!-- 2276009499808&#45;&gt;2276009497600+ -->\n",
       "<g id=\"edge6\" class=\"edge\">\n",
       "<title>2276009499808&#45;&gt;2276009497600+</title>\n",
       "<path fill=\"none\" stroke=\"black\" d=\"M489.66,-102.46C524.22,-95.01 562.37,-86.79 589.16,-81.01\"/>\n",
       "<polygon fill=\"black\" stroke=\"black\" points=\"590.15,-84.38 599.19,-78.85 588.68,-77.53 590.15,-84.38\"/>\n",
       "</g>\n",
       "<!-- 2276009499808exp -->\n",
       "<g id=\"node6\" class=\"node\">\n",
       "<title>2276009499808exp</title>\n",
       "<ellipse fill=\"none\" stroke=\"black\" cx=\"250\" cy=\"-108.5\" rx=\"27\" ry=\"18\"/>\n",
       "<text text-anchor=\"middle\" x=\"250\" y=\"-104.8\" font-family=\"Times New Roman,serif\" font-size=\"14.00\">exp</text>\n",
       "</g>\n",
       "<!-- 2276009499808exp&#45;&gt;2276009499808 -->\n",
       "<g id=\"edge3\" class=\"edge\">\n",
       "<title>2276009499808exp&#45;&gt;2276009499808</title>\n",
       "<path fill=\"none\" stroke=\"black\" d=\"M276.95,-110.54C284.61,-111.14 293.49,-111.83 302.93,-112.57\"/>\n",
       "<polygon fill=\"black\" stroke=\"black\" points=\"302.69,-116.07 312.94,-113.36 303.24,-109.09 302.69,-116.07\"/>\n",
       "</g>\n",
       "<!-- 2276009499328 -->\n",
       "<g id=\"node7\" class=\"node\">\n",
       "<title>2276009499328</title>\n",
       "<polygon fill=\"none\" stroke=\"black\" points=\"0,-51.5 0,-87.5 187,-87.5 187,-51.5 0,-51.5\"/>\n",
       "<text text-anchor=\"middle\" x=\"11.5\" y=\"-65.8\" font-family=\"Times New Roman,serif\" font-size=\"14.00\">a</text>\n",
       "<polyline fill=\"none\" stroke=\"black\" points=\"23,-51.5 23,-87.5\"/>\n",
       "<text text-anchor=\"middle\" x=\"63.5\" y=\"-65.8\" font-family=\"Times New Roman,serif\" font-size=\"14.00\">data 1.0000</text>\n",
       "<polyline fill=\"none\" stroke=\"black\" points=\"104,-51.5 104,-87.5\"/>\n",
       "<text text-anchor=\"middle\" x=\"145.5\" y=\"-65.8\" font-family=\"Times New Roman,serif\" font-size=\"14.00\">grad 0.0000</text>\n",
       "</g>\n",
       "<!-- 2276009499328&#45;&gt;2276009499808exp -->\n",
       "<g id=\"edge9\" class=\"edge\">\n",
       "<title>2276009499328&#45;&gt;2276009499808exp</title>\n",
       "<path fill=\"none\" stroke=\"black\" d=\"M165.87,-87.52C182.79,-91.79 200.1,-96.16 214.5,-99.79\"/>\n",
       "<polygon fill=\"black\" stroke=\"black\" points=\"213.88,-103.25 224.43,-102.3 215.6,-96.46 213.88,-103.25\"/>\n",
       "</g>\n",
       "<!-- 2276009497984exp -->\n",
       "<g id=\"node11\" class=\"node\">\n",
       "<title>2276009497984exp</title>\n",
       "<ellipse fill=\"none\" stroke=\"black\" cx=\"250\" cy=\"-42.5\" rx=\"27\" ry=\"18\"/>\n",
       "<text text-anchor=\"middle\" x=\"250\" y=\"-38.8\" font-family=\"Times New Roman,serif\" font-size=\"14.00\">exp</text>\n",
       "</g>\n",
       "<!-- 2276009499328&#45;&gt;2276009497984exp -->\n",
       "<g id=\"edge11\" class=\"edge\">\n",
       "<title>2276009499328&#45;&gt;2276009497984exp</title>\n",
       "<path fill=\"none\" stroke=\"black\" d=\"M187.05,-53.33C196.34,-51.7 205.33,-50.13 213.44,-48.71\"/>\n",
       "<polygon fill=\"black\" stroke=\"black\" points=\"214.3,-52.12 223.55,-46.95 213.1,-45.22 214.3,-52.12\"/>\n",
       "</g>\n",
       "<!-- 2276009497456 -->\n",
       "<g id=\"node8\" class=\"node\">\n",
       "<title>2276009497456</title>\n",
       "<polygon fill=\"none\" stroke=\"black\" points=\"1373,-27.5 1373,-63.5 1557,-63.5 1557,-27.5 1373,-27.5\"/>\n",
       "<text text-anchor=\"middle\" x=\"1383\" y=\"-41.8\" font-family=\"Times New Roman,serif\" font-size=\"14.00\"> </text>\n",
       "<polyline fill=\"none\" stroke=\"black\" points=\"1393,-27.5 1393,-63.5\"/>\n",
       "<text text-anchor=\"middle\" x=\"1433.5\" y=\"-41.8\" font-family=\"Times New Roman,serif\" font-size=\"14.00\">data 0.7311</text>\n",
       "<polyline fill=\"none\" stroke=\"black\" points=\"1474,-27.5 1474,-63.5\"/>\n",
       "<text text-anchor=\"middle\" x=\"1515.5\" y=\"-41.8\" font-family=\"Times New Roman,serif\" font-size=\"14.00\">grad 0.0000</text>\n",
       "</g>\n",
       "<!-- 2276009497456*&#45;&gt;2276009497456 -->\n",
       "<g id=\"edge4\" class=\"edge\">\n",
       "<title>2276009497456*&#45;&gt;2276009497456</title>\n",
       "<path fill=\"none\" stroke=\"black\" d=\"M1337.3,-45.5C1344.83,-45.5 1353.52,-45.5 1362.75,-45.5\"/>\n",
       "<polygon fill=\"black\" stroke=\"black\" points=\"1362.95,-49 1372.95,-45.5 1362.95,-42 1362.95,-49\"/>\n",
       "</g>\n",
       "<!-- 2276009497984 -->\n",
       "<g id=\"node10\" class=\"node\">\n",
       "<title>2276009497984</title>\n",
       "<polygon fill=\"none\" stroke=\"black\" points=\"533,-0.5 533,-36.5 717,-36.5 717,-0.5 533,-0.5\"/>\n",
       "<text text-anchor=\"middle\" x=\"543\" y=\"-14.8\" font-family=\"Times New Roman,serif\" font-size=\"14.00\"> </text>\n",
       "<polyline fill=\"none\" stroke=\"black\" points=\"553,-0.5 553,-36.5\"/>\n",
       "<text text-anchor=\"middle\" x=\"593.5\" y=\"-14.8\" font-family=\"Times New Roman,serif\" font-size=\"14.00\">data 2.7183</text>\n",
       "<polyline fill=\"none\" stroke=\"black\" points=\"634,-0.5 634,-36.5\"/>\n",
       "<text text-anchor=\"middle\" x=\"675.5\" y=\"-14.8\" font-family=\"Times New Roman,serif\" font-size=\"14.00\">grad 0.0000</text>\n",
       "</g>\n",
       "<!-- 2276009497984&#45;&gt;2276009497456* -->\n",
       "<g id=\"edge12\" class=\"edge\">\n",
       "<title>2276009497984&#45;&gt;2276009497456*</title>\n",
       "<path fill=\"none\" stroke=\"black\" d=\"M717.05,-22.1C869.28,-28.12 1169.01,-39.97 1272.69,-44.06\"/>\n",
       "<polygon fill=\"black\" stroke=\"black\" points=\"1272.81,-47.57 1282.95,-44.47 1273.09,-40.58 1272.81,-47.57\"/>\n",
       "</g>\n",
       "<!-- 2276009497984exp&#45;&gt;2276009497984 -->\n",
       "<g id=\"edge5\" class=\"edge\">\n",
       "<title>2276009497984exp&#45;&gt;2276009497984</title>\n",
       "<path fill=\"none\" stroke=\"black\" d=\"M276.93,-40.3C288.04,-39.38 301.15,-38.34 313,-37.5 383.02,-32.54 461.98,-27.72 522.81,-24.18\"/>\n",
       "<polygon fill=\"black\" stroke=\"black\" points=\"523.01,-27.68 532.79,-23.6 522.61,-20.69 523.01,-27.68\"/>\n",
       "</g>\n",
       "<!-- 2276009498560 -->\n",
       "<g id=\"node12\" class=\"node\">\n",
       "<title>2276009498560</title>\n",
       "<polygon fill=\"none\" stroke=\"black\" points=\"313,-47.5 313,-83.5 497,-83.5 497,-47.5 313,-47.5\"/>\n",
       "<text text-anchor=\"middle\" x=\"323\" y=\"-61.8\" font-family=\"Times New Roman,serif\" font-size=\"14.00\"> </text>\n",
       "<polyline fill=\"none\" stroke=\"black\" points=\"333,-47.5 333,-83.5\"/>\n",
       "<text text-anchor=\"middle\" x=\"373.5\" y=\"-61.8\" font-family=\"Times New Roman,serif\" font-size=\"14.00\">data 1.0000</text>\n",
       "<polyline fill=\"none\" stroke=\"black\" points=\"414,-47.5 414,-83.5\"/>\n",
       "<text text-anchor=\"middle\" x=\"455.5\" y=\"-61.8\" font-family=\"Times New Roman,serif\" font-size=\"14.00\">grad 0.0000</text>\n",
       "</g>\n",
       "<!-- 2276009498560&#45;&gt;2276009497600+ -->\n",
       "<g id=\"edge8\" class=\"edge\">\n",
       "<title>2276009498560&#45;&gt;2276009497600+</title>\n",
       "<path fill=\"none\" stroke=\"black\" d=\"M497.19,-68.85C529.04,-70.02 562.98,-71.26 587.72,-72.17\"/>\n",
       "<polygon fill=\"black\" stroke=\"black\" points=\"587.61,-75.67 597.73,-72.54 587.87,-68.67 587.61,-75.67\"/>\n",
       "</g>\n",
       "</g>\n",
       "</svg>\n"
      ],
      "text/plain": [
       "<graphviz.graphs.Digraph at 0x211ecbcddc0>"
      ]
     },
     "execution_count": 144,
     "metadata": {},
     "output_type": "execute_result"
    }
   ],
   "source": [
    "a = Valor(1, rotulo=\"a\")\n",
    "b = a.sig()\n",
    "print(b)\n",
    "\n",
    "plota_grafo(b)"
   ]
  },
  {
   "cell_type": "markdown",
   "metadata": {},
   "source": [
    "## Conclusão\n",
    "\n"
   ]
  },
  {
   "cell_type": "markdown",
   "metadata": {},
   "source": [
    "O objetivo do presente notebook (**experimento R.04**) é fazer com que a classe `Valor` seja capaz de realizar algumas operações necessárias para que seja usada na nossa rede neural artificial. Assim, no decorrer do material é apresentada classe `Valor` e tem-se como finalidade torná-la capaz de realizar operações necessárias para ser usada durante uma rede neural. Portanto, a classe `Valor` é uma implementação que representa valores numéricos e permite operações como adição, multiplicação, exponenciação, divisão e as mesmas em ordem invertida, além de conseguir a aplicação da função sigmoide.\n",
    "\n",
    "Após compreender como utilizar a classe `Valor` foi necessário realizar alguns objetivos, estes que incluem a capacidade de adicionar ou multiplicar uma instância da classe com uma constante, realizar as mesmas operações na ordem oposta, aplicar a função exponencial corretamente considerando o gradiente, elevar uma instância de `Valor` a um número real, dividir uma instância, também da classe, por outra, e aplicar a função sigmoide.\n",
    "\n",
    "Cabe salientar a importância desses objetivos na visão de uma aplicação em uma rede neural artificial. Assim, são importantes pois muitas operações matemáticas são realizadas nessas redes, como soma ponderada, multiplicação por pesos, cálculos de ativação e propagação de gradientes. Portanto, ao implementar a classe `Valor` com essas funcionalidades, torna-se possível utilizá-la como base para construir uma rede neural artificial mais completa. Desse modo, essa abordagem permite realizar cálculos matemáticos e propagar gradientes de forma eficiente, assim como foi solicitado em **objetivos** e contribuindo para o desenvolvimento e estudo de redes neurais, corroborando com o que é proposto na disciplina."
   ]
  },
  {
   "cell_type": "markdown",
   "metadata": {},
   "source": [
    "## Playground\n",
    "\n"
   ]
  }
 ],
 "metadata": {
  "kernelspec": {
   "display_name": "ilumpy",
   "language": "python",
   "name": "ilumpy"
  },
  "language_info": {
   "codemirror_mode": {
    "name": "ipython",
    "version": 3
   },
   "file_extension": ".py",
   "mimetype": "text/x-python",
   "name": "python",
   "nbconvert_exporter": "python",
   "pygments_lexer": "ipython3",
   "version": "3.9.7"
  },
  "org": null
 },
 "nbformat": 4,
 "nbformat_minor": 4
}
