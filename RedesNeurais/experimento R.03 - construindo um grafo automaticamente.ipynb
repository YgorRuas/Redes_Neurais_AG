{
 "cells": [
  {
   "cell_type": "markdown",
   "metadata": {},
   "source": [
    "Construindo um grafo automaticamente\n",
    "====================================\n",
    "\n"
   ]
  },
  {
   "cell_type": "markdown",
   "metadata": {},
   "source": [
    "## Introdução\n",
    "\n"
   ]
  },
  {
   "cell_type": "markdown",
   "metadata": {},
   "source": [
    "Neste notebook nós vamos dar o primeiro passo para construir nossa rede neural artificial. Neste primeiro passo, nós vamos criar uma classe que gera automaticamente o nosso `grafo computacional`. O grafo computacional é o grafo que representa todas as operações matemáticas que ocorreram ao se computar um certo valor $y$. O grafo computacional é um passo necessário pois será baseado nele que iremos computar os gradientes locais necessários para realizar o `backpropagation`.\n",
    "\n"
   ]
  },
  {
   "cell_type": "markdown",
   "metadata": {},
   "source": [
    "## Importações\n",
    "\n"
   ]
  },
  {
   "cell_type": "code",
   "execution_count": 1,
   "metadata": {},
   "outputs": [],
   "source": [
    "try:\n",
    "    import graphviz\n",
    "except ModuleNotFoundError:\n",
    "    import sys\n",
    "    !{sys.executable} -m pip install graphviz"
   ]
  },
  {
   "cell_type": "markdown",
   "metadata": {},
   "source": [
    "Download da biblioteca."
   ]
  },
  {
   "cell_type": "code",
   "execution_count": 2,
   "metadata": {},
   "outputs": [],
   "source": [
    "from funcoes import plota_grafo"
   ]
  },
  {
   "cell_type": "markdown",
   "metadata": {},
   "source": [
    "## Código e discussão\n",
    "\n"
   ]
  },
  {
   "cell_type": "markdown",
   "metadata": {},
   "source": [
    "### Primeiros passos\n",
    "\n"
   ]
  },
  {
   "cell_type": "markdown",
   "metadata": {},
   "source": [
    "A base de tudo será uma classe chamada `Valor`. Vamos começar pelo básico!\n",
    "\n"
   ]
  },
  {
   "cell_type": "markdown",
   "metadata": {},
   "source": [
    "Desse modo, cria-se uma classe conforme foi aprendido no experimento anterior"
   ]
  },
  {
   "cell_type": "code",
   "execution_count": 3,
   "metadata": {},
   "outputs": [],
   "source": [
    "class Valor:\n",
    "    def __init__(self, data):\n",
    "        self.data = data\n",
    "\n",
    "    def __repr__(self):\n",
    "        return f\"Valor(data={self.data})\""
   ]
  },
  {
   "cell_type": "markdown",
   "metadata": {},
   "source": [
    "Vamos testar nossa classe!\n",
    "\n"
   ]
  },
  {
   "cell_type": "code",
   "execution_count": 4,
   "metadata": {},
   "outputs": [
    {
     "name": "stdout",
     "output_type": "stream",
     "text": [
      "Valor(data=60)\n",
      "60\n"
     ]
    }
   ],
   "source": [
    "x1 = Valor(60)\n",
    "print(x1)\n",
    "print(x1.data)"
   ]
  },
  {
   "cell_type": "markdown",
   "metadata": {},
   "source": [
    "# Os dunders `__add__` e `__mul__`\n",
    "\n"
   ]
  },
  {
   "cell_type": "markdown",
   "metadata": {},
   "source": [
    "Observe que não conseguimos adicionar nem multiplicar objetos criados com a classe `Valor`.\n",
    "\n"
   ]
  },
  {
   "cell_type": "markdown",
   "metadata": {},
   "source": [
    "Aqui observa-se, inicialmente, uma tentativa de realizar operações matemáticas com $a$ e $b$, contudo não dando certo e posteriormente chegando ao resultado desejado devido a palavra `Valor` que foi usada como classe."
   ]
  },
  {
   "cell_type": "code",
   "execution_count": 5,
   "metadata": {},
   "outputs": [],
   "source": [
    "a = Valor(10)\n",
    "b = Valor(5)"
   ]
  },
  {
   "cell_type": "code",
   "execution_count": 6,
   "metadata": {},
   "outputs": [
    {
     "ename": "TypeError",
     "evalue": "unsupported operand type(s) for +: 'Valor' and 'Valor'",
     "output_type": "error",
     "traceback": [
      "\u001b[1;31m---------------------------------------------------------------------------\u001b[0m",
      "\u001b[1;31mTypeError\u001b[0m                                 Traceback (most recent call last)",
      "\u001b[1;32mC:\\Users\\YGOR22~1\\AppData\\Local\\Temp/ipykernel_18356/3864629426.py\u001b[0m in \u001b[0;36m<module>\u001b[1;34m\u001b[0m\n\u001b[1;32m----> 1\u001b[1;33m \u001b[0mprint\u001b[0m\u001b[1;33m(\u001b[0m\u001b[0ma\u001b[0m \u001b[1;33m+\u001b[0m \u001b[0mb\u001b[0m\u001b[1;33m)\u001b[0m\u001b[1;33m\u001b[0m\u001b[1;33m\u001b[0m\u001b[0m\n\u001b[0m",
      "\u001b[1;31mTypeError\u001b[0m: unsupported operand type(s) for +: 'Valor' and 'Valor'"
     ]
    }
   ],
   "source": [
    "print(a + b)"
   ]
  },
  {
   "cell_type": "code",
   "execution_count": 7,
   "metadata": {},
   "outputs": [
    {
     "ename": "TypeError",
     "evalue": "unsupported operand type(s) for *: 'Valor' and 'Valor'",
     "output_type": "error",
     "traceback": [
      "\u001b[1;31m---------------------------------------------------------------------------\u001b[0m",
      "\u001b[1;31mTypeError\u001b[0m                                 Traceback (most recent call last)",
      "\u001b[1;32mC:\\Users\\YGOR22~1\\AppData\\Local\\Temp/ipykernel_18356/2640154986.py\u001b[0m in \u001b[0;36m<module>\u001b[1;34m\u001b[0m\n\u001b[1;32m----> 1\u001b[1;33m \u001b[0mprint\u001b[0m\u001b[1;33m(\u001b[0m\u001b[0ma\u001b[0m \u001b[1;33m*\u001b[0m \u001b[0mb\u001b[0m\u001b[1;33m)\u001b[0m\u001b[1;33m\u001b[0m\u001b[1;33m\u001b[0m\u001b[0m\n\u001b[0m",
      "\u001b[1;31mTypeError\u001b[0m: unsupported operand type(s) for *: 'Valor' and 'Valor'"
     ]
    }
   ],
   "source": [
    "print(a * b)"
   ]
  },
  {
   "cell_type": "markdown",
   "metadata": {},
   "source": [
    "Ué&#x2026; porque não conseguimos? Não conseguimos pois o Python (ainda) não é vidente. Ele lá vai saber como adicionar ou multiplicar algo que você criou? Pra você parece óbvio que valores podem ser adicionados ou multiplicados, mas para o Python ele nem sabe o que significa a palavra `Valor`&#x2026;\n",
    "\n",
    "Como sempre, temos que contar para o programa o que queremos que aconteça quando usarmos os operadores `+` e `*`. Quem faz isso são os dunders `__add__` e `__mul__`.\n",
    "\n"
   ]
  },
  {
   "cell_type": "code",
   "execution_count": 8,
   "metadata": {},
   "outputs": [],
   "source": [
    "class Valor:\n",
    "    def __init__(self, data):\n",
    "        self.data = data\n",
    "\n",
    "    def __repr__(self):\n",
    "        return f\"Valor(data={self.data})\"\n",
    "\n",
    "    def __add__(self, outro_valor):\n",
    "        saida = Valor(self.data + outro_valor.data)\n",
    "        return saida\n",
    "\n",
    "    def __mul__(self, outro_valor):\n",
    "        saida = Valor(self.data * outro_valor.data)\n",
    "        return saida"
   ]
  },
  {
   "cell_type": "markdown",
   "metadata": {},
   "source": [
    "Vamos testar!\n",
    "\n"
   ]
  },
  {
   "cell_type": "code",
   "execution_count": 9,
   "metadata": {},
   "outputs": [
    {
     "name": "stdout",
     "output_type": "stream",
     "text": [
      "Valor(data=15)\n",
      "Valor(data=50)\n"
     ]
    }
   ],
   "source": [
    "a = Valor(10)\n",
    "b = Valor(5)\n",
    "\n",
    "print(a + b)\n",
    "print(a * b)"
   ]
  },
  {
   "cell_type": "markdown",
   "metadata": {},
   "source": [
    "### Registrando os progenitores\n",
    "\n"
   ]
  },
  {
   "cell_type": "markdown",
   "metadata": {},
   "source": [
    "Nosso objetivo é construir um grafo computacional. Em um grafo computacional, um certo vértice pode ter um ou mais vértices progenitores (são seus pais/mães). Nós não podemos perder essa informação quando formos construir um grafo, então precisamos incluir essa informação na nossa classe.\n",
    "\n"
   ]
  },
  {
   "cell_type": "code",
   "execution_count": 10,
   "metadata": {},
   "outputs": [],
   "source": [
    "class Valor:\n",
    "    def __init__(self, data, progenitor=()):\n",
    "        self.data = data\n",
    "        self.progenitor = progenitor\n",
    "\n",
    "    def __repr__(self):\n",
    "        return f\"Valor(data={self.data})\"\n",
    "\n",
    "    def __add__(self, outro_valor):\n",
    "        data = self.data + outro_valor.data\n",
    "        progenitor = (self, outro_valor)\n",
    "        saida = Valor(data, progenitor)\n",
    "        return saida\n",
    "\n",
    "    def __mul__(self, outro_valor):\n",
    "        data = self.data * outro_valor.data\n",
    "        progenitor = (self, outro_valor)\n",
    "        saida = Valor(data, progenitor)\n",
    "        return saida"
   ]
  },
  {
   "cell_type": "markdown",
   "metadata": {},
   "source": [
    "Vamos testar!\n",
    "\n"
   ]
  },
  {
   "cell_type": "code",
   "execution_count": 11,
   "metadata": {},
   "outputs": [
    {
     "name": "stdout",
     "output_type": "stream",
     "text": [
      "10\n",
      "()\n",
      "(Valor(data=15), Valor(data=10))\n"
     ]
    }
   ],
   "source": [
    "a = Valor(10)\n",
    "b = Valor(5)\n",
    "\n",
    "print(a.data)\n",
    "print(a.progenitor)\n",
    "\n",
    "c = a + b\n",
    "d = c + a\n",
    "\n",
    "print(d.progenitor)"
   ]
  },
  {
   "cell_type": "markdown",
   "metadata": {},
   "source": [
    "### Registrando o operador mãe\n",
    "\n"
   ]
  },
  {
   "cell_type": "markdown",
   "metadata": {},
   "source": [
    "Em um grafo computacional, um vértice pode ter um operador mãe. O operador mãe é o operador que foi usado para gerar o vértice.\n",
    "\n"
   ]
  },
  {
   "cell_type": "code",
   "execution_count": 12,
   "metadata": {},
   "outputs": [],
   "source": [
    "class Valor:\n",
    "    def __init__(self, data, progenitor=(), operador_mae=\"\"):\n",
    "        self.data = data\n",
    "        self.progenitor = progenitor\n",
    "        self.operador_mae = operador_mae\n",
    "\n",
    "    def __repr__(self):\n",
    "        return f\"Valor(data={self.data})\"\n",
    "\n",
    "    def __add__(self, outro_valor):\n",
    "        data = self.data + outro_valor.data\n",
    "        progenitor = (self, outro_valor)\n",
    "        operador_mae = \"+\"\n",
    "        saida = Valor(data, progenitor, operador_mae)\n",
    "        return saida\n",
    "\n",
    "    def __mul__(self, outro_valor):\n",
    "        data = self.data * outro_valor.data\n",
    "        progenitor = (self, outro_valor)\n",
    "        operador_mae = \"*\"\n",
    "        saida = Valor(data, progenitor, operador_mae)\n",
    "        return saida"
   ]
  },
  {
   "cell_type": "markdown",
   "metadata": {},
   "source": [
    "Vamos testar!\n",
    "\n"
   ]
  },
  {
   "cell_type": "code",
   "execution_count": 13,
   "metadata": {},
   "outputs": [
    {
     "name": "stdout",
     "output_type": "stream",
     "text": [
      "Valor(data=15)\n",
      "(Valor(data=10), Valor(data=5))\n",
      "+\n"
     ]
    }
   ],
   "source": [
    "a = Valor(10)\n",
    "b = Valor(5)\n",
    "\n",
    "c = a + b\n",
    "d = c * a\n",
    "\n",
    "print(c)\n",
    "print(c.progenitor)\n",
    "print(c.operador_mae)"
   ]
  },
  {
   "cell_type": "markdown",
   "metadata": {},
   "source": [
    "Aqui é possível visualizar o operador utilizado para gerar o proximo vértice, além dos valores dessa combinação e dos mesmos de forma isolada, antes da operação.  "
   ]
  },
  {
   "cell_type": "markdown",
   "metadata": {},
   "source": [
    "### Plotando o primeiro grafo\n",
    "\n"
   ]
  },
  {
   "cell_type": "markdown",
   "metadata": {},
   "source": [
    "Vamos plotar nosso primeiro grafo!\n",
    "\n"
   ]
  },
  {
   "cell_type": "code",
   "execution_count": 14,
   "metadata": {},
   "outputs": [
    {
     "data": {
      "image/svg+xml": [
       "<?xml version=\"1.0\" encoding=\"UTF-8\" standalone=\"no\"?>\n",
       "<!DOCTYPE svg PUBLIC \"-//W3C//DTD SVG 1.1//EN\"\n",
       " \"http://www.w3.org/Graphics/SVG/1.1/DTD/svg11.dtd\">\n",
       "<!-- Generated by graphviz version 6.0.2 (20221011.1828)\n",
       " -->\n",
       "<!-- Pages: 1 -->\n",
       "<svg width=\"515pt\" height=\"128pt\"\n",
       " viewBox=\"0.00 0.00 515.00 128.00\" xmlns=\"http://www.w3.org/2000/svg\" xmlns:xlink=\"http://www.w3.org/1999/xlink\">\n",
       "<g id=\"graph0\" class=\"graph\" transform=\"scale(1 1) rotate(0) translate(4 124)\">\n",
       "<polygon fill=\"white\" stroke=\"none\" points=\"-4,4 -4,-124 511,-124 511,4 -4,4\"/>\n",
       "<!-- 1870540282944 -->\n",
       "<g id=\"node1\" class=\"node\">\n",
       "<title>1870540282944</title>\n",
       "<polygon fill=\"none\" stroke=\"black\" points=\"0,-83.5 0,-119.5 86,-119.5 86,-83.5 0,-83.5\"/>\n",
       "<text text-anchor=\"middle\" x=\"43\" y=\"-97.8\" font-family=\"Times New Roman,serif\" font-size=\"14.00\">data &#45;3.0000</text>\n",
       "</g>\n",
       "<!-- 1870540280400* -->\n",
       "<g id=\"node3\" class=\"node\">\n",
       "<title>1870540280400*</title>\n",
       "<ellipse fill=\"none\" stroke=\"black\" cx=\"149\" cy=\"-73.5\" rx=\"27\" ry=\"18\"/>\n",
       "<text text-anchor=\"middle\" x=\"149\" y=\"-69.8\" font-family=\"Times New Roman,serif\" font-size=\"14.00\">*</text>\n",
       "</g>\n",
       "<!-- 1870540282944&#45;&gt;1870540280400* -->\n",
       "<g id=\"edge4\" class=\"edge\">\n",
       "<title>1870540282944&#45;&gt;1870540280400*</title>\n",
       "<path fill=\"none\" stroke=\"black\" d=\"M86,-90.19C95.34,-87.68 105.13,-85.04 114.09,-82.63\"/>\n",
       "<polygon fill=\"black\" stroke=\"black\" points=\"115.05,-86 123.8,-80.02 113.23,-79.24 115.05,-86\"/>\n",
       "</g>\n",
       "<!-- 1870540280400 -->\n",
       "<g id=\"node2\" class=\"node\">\n",
       "<title>1870540280400</title>\n",
       "<polygon fill=\"none\" stroke=\"black\" points=\"213,-55.5 213,-91.5 299,-91.5 299,-55.5 213,-55.5\"/>\n",
       "<text text-anchor=\"middle\" x=\"256\" y=\"-69.8\" font-family=\"Times New Roman,serif\" font-size=\"14.00\">data &#45;6.0000</text>\n",
       "</g>\n",
       "<!-- 1870540283808+ -->\n",
       "<g id=\"node7\" class=\"node\">\n",
       "<title>1870540283808+</title>\n",
       "<ellipse fill=\"none\" stroke=\"black\" cx=\"363\" cy=\"-45.5\" rx=\"27\" ry=\"18\"/>\n",
       "<text text-anchor=\"middle\" x=\"363\" y=\"-41.8\" font-family=\"Times New Roman,serif\" font-size=\"14.00\">+</text>\n",
       "</g>\n",
       "<!-- 1870540280400&#45;&gt;1870540283808+ -->\n",
       "<g id=\"edge6\" class=\"edge\">\n",
       "<title>1870540280400&#45;&gt;1870540283808+</title>\n",
       "<path fill=\"none\" stroke=\"black\" d=\"M299.1,-62.27C308.64,-59.73 318.65,-57.06 327.81,-54.62\"/>\n",
       "<polygon fill=\"black\" stroke=\"black\" points=\"328.96,-57.93 337.72,-51.97 327.16,-51.17 328.96,-57.93\"/>\n",
       "</g>\n",
       "<!-- 1870540280400*&#45;&gt;1870540280400 -->\n",
       "<g id=\"edge1\" class=\"edge\">\n",
       "<title>1870540280400*&#45;&gt;1870540280400</title>\n",
       "<path fill=\"none\" stroke=\"black\" d=\"M176.23,-73.5C184.26,-73.5 193.4,-73.5 202.53,-73.5\"/>\n",
       "<polygon fill=\"black\" stroke=\"black\" points=\"202.79,-77 212.79,-73.5 202.79,-70 202.79,-77\"/>\n",
       "</g>\n",
       "<!-- 1870540283520 -->\n",
       "<g id=\"node4\" class=\"node\">\n",
       "<title>1870540283520</title>\n",
       "<polygon fill=\"none\" stroke=\"black\" points=\"212,-0.5 212,-36.5 300,-36.5 300,-0.5 212,-0.5\"/>\n",
       "<text text-anchor=\"middle\" x=\"256\" y=\"-14.8\" font-family=\"Times New Roman,serif\" font-size=\"14.00\">data 10.0000</text>\n",
       "</g>\n",
       "<!-- 1870540283520&#45;&gt;1870540283808+ -->\n",
       "<g id=\"edge5\" class=\"edge\">\n",
       "<title>1870540283520&#45;&gt;1870540283808+</title>\n",
       "<path fill=\"none\" stroke=\"black\" d=\"M300.01,-29.56C309.21,-31.93 318.81,-34.39 327.63,-36.66\"/>\n",
       "<polygon fill=\"black\" stroke=\"black\" points=\"327.01,-40.12 337.56,-39.22 328.75,-33.34 327.01,-40.12\"/>\n",
       "</g>\n",
       "<!-- 1870540280112 -->\n",
       "<g id=\"node5\" class=\"node\">\n",
       "<title>1870540280112</title>\n",
       "<polygon fill=\"none\" stroke=\"black\" points=\"2.5,-28.5 2.5,-64.5 83.5,-64.5 83.5,-28.5 2.5,-28.5\"/>\n",
       "<text text-anchor=\"middle\" x=\"43\" y=\"-42.8\" font-family=\"Times New Roman,serif\" font-size=\"14.00\">data 2.0000</text>\n",
       "</g>\n",
       "<!-- 1870540280112&#45;&gt;1870540280400* -->\n",
       "<g id=\"edge3\" class=\"edge\">\n",
       "<title>1870540280112&#45;&gt;1870540280400*</title>\n",
       "<path fill=\"none\" stroke=\"black\" d=\"M83.61,-56.78C93.48,-59.35 103.97,-62.07 113.57,-64.56\"/>\n",
       "<polygon fill=\"black\" stroke=\"black\" points=\"112.99,-68.03 123.55,-67.15 114.75,-61.25 112.99,-68.03\"/>\n",
       "</g>\n",
       "<!-- 1870540283808 -->\n",
       "<g id=\"node6\" class=\"node\">\n",
       "<title>1870540283808</title>\n",
       "<polygon fill=\"none\" stroke=\"black\" points=\"426,-27.5 426,-63.5 507,-63.5 507,-27.5 426,-27.5\"/>\n",
       "<text text-anchor=\"middle\" x=\"466.5\" y=\"-41.8\" font-family=\"Times New Roman,serif\" font-size=\"14.00\">data 4.0000</text>\n",
       "</g>\n",
       "<!-- 1870540283808+&#45;&gt;1870540283808 -->\n",
       "<g id=\"edge2\" class=\"edge\">\n",
       "<title>1870540283808+&#45;&gt;1870540283808</title>\n",
       "<path fill=\"none\" stroke=\"black\" d=\"M390.14,-45.5C397.91,-45.5 406.69,-45.5 415.45,-45.5\"/>\n",
       "<polygon fill=\"black\" stroke=\"black\" points=\"415.65,-49 425.65,-45.5 415.65,-42 415.65,-49\"/>\n",
       "</g>\n",
       "</g>\n",
       "</svg>\n"
      ],
      "text/plain": [
       "<graphviz.graphs.Digraph at 0x1b384e394c0>"
      ]
     },
     "execution_count": 14,
     "metadata": {},
     "output_type": "execute_result"
    }
   ],
   "source": [
    "a = Valor(2)\n",
    "b = Valor(-3)\n",
    "c = Valor(10)\n",
    "\n",
    "d = a * b\n",
    "e = d + c\n",
    "\n",
    "plota_grafo(e)"
   ]
  },
  {
   "cell_type": "markdown",
   "metadata": {},
   "source": [
    "### Registrando o rótulo\n",
    "\n"
   ]
  },
  {
   "cell_type": "markdown",
   "metadata": {},
   "source": [
    "Nosso grafo seria mais legível se tivéssemos rótulos indicando o que é cada vértice. Vamos incluir essa informação na nossa classe.\n",
    "\n"
   ]
  },
  {
   "cell_type": "code",
   "execution_count": 15,
   "metadata": {},
   "outputs": [],
   "source": [
    "class Valor:\n",
    "    def __init__(self, data, progenitor=(), operador_mae=\"\", rotulo=\"\"):\n",
    "        self.data = data\n",
    "        self.progenitor = progenitor\n",
    "        self.operador_mae = operador_mae\n",
    "        self.rotulo = rotulo\n",
    "\n",
    "    def __repr__(self):\n",
    "        return f\"Valor(data={self.data})\"\n",
    "\n",
    "    def __add__(self, outro_valor):\n",
    "        data = self.data + outro_valor.data\n",
    "        progenitor = (self, outro_valor)\n",
    "        operador_mae = \"+\"\n",
    "        saida = Valor(data, progenitor, operador_mae)\n",
    "        return saida\n",
    "\n",
    "    def __mul__(self, outro_valor):\n",
    "        data = self.data * outro_valor.data\n",
    "        progenitor = (self, outro_valor)\n",
    "        operador_mae = \"*\"\n",
    "        saida = Valor(data, progenitor, operador_mae)\n",
    "        return saida"
   ]
  },
  {
   "cell_type": "markdown",
   "metadata": {},
   "source": [
    "Vamos testar!\n",
    "\n"
   ]
  },
  {
   "cell_type": "code",
   "execution_count": 16,
   "metadata": {},
   "outputs": [
    {
     "data": {
      "image/svg+xml": [
       "<?xml version=\"1.0\" encoding=\"UTF-8\" standalone=\"no\"?>\n",
       "<!DOCTYPE svg PUBLIC \"-//W3C//DTD SVG 1.1//EN\"\n",
       " \"http://www.w3.org/Graphics/SVG/1.1/DTD/svg11.dtd\">\n",
       "<!-- Generated by graphviz version 6.0.2 (20221011.1828)\n",
       " -->\n",
       "<!-- Pages: 1 -->\n",
       "<svg width=\"585pt\" height=\"128pt\"\n",
       " viewBox=\"0.00 0.00 585.00 128.00\" xmlns=\"http://www.w3.org/2000/svg\" xmlns:xlink=\"http://www.w3.org/1999/xlink\">\n",
       "<g id=\"graph0\" class=\"graph\" transform=\"scale(1 1) rotate(0) translate(4 124)\">\n",
       "<polygon fill=\"white\" stroke=\"none\" points=\"-4,4 -4,-124 581,-124 581,4 -4,4\"/>\n",
       "<!-- 1870540380816 -->\n",
       "<g id=\"node1\" class=\"node\">\n",
       "<title>1870540380816</title>\n",
       "<polygon fill=\"none\" stroke=\"black\" points=\"3,-83.5 3,-119.5 107,-119.5 107,-83.5 3,-83.5\"/>\n",
       "<text text-anchor=\"middle\" x=\"14.5\" y=\"-97.8\" font-family=\"Times New Roman,serif\" font-size=\"14.00\">a</text>\n",
       "<polyline fill=\"none\" stroke=\"black\" points=\"26,-83.5 26,-119.5\"/>\n",
       "<text text-anchor=\"middle\" x=\"66.5\" y=\"-97.8\" font-family=\"Times New Roman,serif\" font-size=\"14.00\">data 2.0000</text>\n",
       "</g>\n",
       "<!-- 1870540382160* -->\n",
       "<g id=\"node7\" class=\"node\">\n",
       "<title>1870540382160*</title>\n",
       "<ellipse fill=\"none\" stroke=\"black\" cx=\"173\" cy=\"-73.5\" rx=\"27\" ry=\"18\"/>\n",
       "<text text-anchor=\"middle\" x=\"173\" y=\"-69.8\" font-family=\"Times New Roman,serif\" font-size=\"14.00\">*</text>\n",
       "</g>\n",
       "<!-- 1870540380816&#45;&gt;1870540382160* -->\n",
       "<g id=\"edge6\" class=\"edge\">\n",
       "<title>1870540380816&#45;&gt;1870540382160*</title>\n",
       "<path fill=\"none\" stroke=\"black\" d=\"M107.22,-89.14C117.47,-86.66 128.01,-84.12 137.53,-81.82\"/>\n",
       "<polygon fill=\"black\" stroke=\"black\" points=\"138.5,-85.19 147.39,-79.44 136.85,-78.38 138.5,-85.19\"/>\n",
       "</g>\n",
       "<!-- 1870540378272 -->\n",
       "<g id=\"node2\" class=\"node\">\n",
       "<title>1870540378272</title>\n",
       "<polygon fill=\"none\" stroke=\"black\" points=\"473,-27.5 473,-63.5 577,-63.5 577,-27.5 473,-27.5\"/>\n",
       "<text text-anchor=\"middle\" x=\"484.5\" y=\"-41.8\" font-family=\"Times New Roman,serif\" font-size=\"14.00\">e</text>\n",
       "<polyline fill=\"none\" stroke=\"black\" points=\"496,-27.5 496,-63.5\"/>\n",
       "<text text-anchor=\"middle\" x=\"536.5\" y=\"-41.8\" font-family=\"Times New Roman,serif\" font-size=\"14.00\">data 4.0000</text>\n",
       "</g>\n",
       "<!-- 1870540378272+ -->\n",
       "<g id=\"node3\" class=\"node\">\n",
       "<title>1870540378272+</title>\n",
       "<ellipse fill=\"none\" stroke=\"black\" cx=\"410\" cy=\"-45.5\" rx=\"27\" ry=\"18\"/>\n",
       "<text text-anchor=\"middle\" x=\"410\" y=\"-41.8\" font-family=\"Times New Roman,serif\" font-size=\"14.00\">+</text>\n",
       "</g>\n",
       "<!-- 1870540378272+&#45;&gt;1870540378272 -->\n",
       "<g id=\"edge1\" class=\"edge\">\n",
       "<title>1870540378272+&#45;&gt;1870540378272</title>\n",
       "<path fill=\"none\" stroke=\"black\" d=\"M437.21,-45.5C444.88,-45.5 453.62,-45.5 462.51,-45.5\"/>\n",
       "<polygon fill=\"black\" stroke=\"black\" points=\"462.58,-49 472.58,-45.5 462.58,-42 462.58,-49\"/>\n",
       "</g>\n",
       "<!-- 1870540381920 -->\n",
       "<g id=\"node4\" class=\"node\">\n",
       "<title>1870540381920</title>\n",
       "<polygon fill=\"none\" stroke=\"black\" points=\"236,-0.5 236,-36.5 347,-36.5 347,-0.5 236,-0.5\"/>\n",
       "<text text-anchor=\"middle\" x=\"247.5\" y=\"-14.8\" font-family=\"Times New Roman,serif\" font-size=\"14.00\">c</text>\n",
       "<polyline fill=\"none\" stroke=\"black\" points=\"259,-0.5 259,-36.5\"/>\n",
       "<text text-anchor=\"middle\" x=\"303\" y=\"-14.8\" font-family=\"Times New Roman,serif\" font-size=\"14.00\">data 10.0000</text>\n",
       "</g>\n",
       "<!-- 1870540381920&#45;&gt;1870540378272+ -->\n",
       "<g id=\"edge3\" class=\"edge\">\n",
       "<title>1870540381920&#45;&gt;1870540378272+</title>\n",
       "<path fill=\"none\" stroke=\"black\" d=\"M347.34,-31.21C356.57,-33.35 365.91,-35.51 374.44,-37.49\"/>\n",
       "<polygon fill=\"black\" stroke=\"black\" points=\"373.85,-40.95 384.38,-39.79 375.43,-34.13 373.85,-40.95\"/>\n",
       "</g>\n",
       "<!-- 1870540381056 -->\n",
       "<g id=\"node5\" class=\"node\">\n",
       "<title>1870540381056</title>\n",
       "<polygon fill=\"none\" stroke=\"black\" points=\"0,-28.5 0,-64.5 110,-64.5 110,-28.5 0,-28.5\"/>\n",
       "<text text-anchor=\"middle\" x=\"12\" y=\"-42.8\" font-family=\"Times New Roman,serif\" font-size=\"14.00\">b</text>\n",
       "<polyline fill=\"none\" stroke=\"black\" points=\"24,-28.5 24,-64.5\"/>\n",
       "<text text-anchor=\"middle\" x=\"67\" y=\"-42.8\" font-family=\"Times New Roman,serif\" font-size=\"14.00\">data &#45;3.0000</text>\n",
       "</g>\n",
       "<!-- 1870540381056&#45;&gt;1870540382160* -->\n",
       "<g id=\"edge4\" class=\"edge\">\n",
       "<title>1870540381056&#45;&gt;1870540382160*</title>\n",
       "<path fill=\"none\" stroke=\"black\" d=\"M110.26,-59.13C119.49,-61.28 128.84,-63.45 137.37,-65.44\"/>\n",
       "<polygon fill=\"black\" stroke=\"black\" points=\"136.79,-68.9 147.32,-67.76 138.38,-62.08 136.79,-68.9\"/>\n",
       "</g>\n",
       "<!-- 1870540382160 -->\n",
       "<g id=\"node6\" class=\"node\">\n",
       "<title>1870540382160</title>\n",
       "<polygon fill=\"none\" stroke=\"black\" points=\"236.5,-55.5 236.5,-91.5 346.5,-91.5 346.5,-55.5 236.5,-55.5\"/>\n",
       "<text text-anchor=\"middle\" x=\"248.5\" y=\"-69.8\" font-family=\"Times New Roman,serif\" font-size=\"14.00\">d</text>\n",
       "<polyline fill=\"none\" stroke=\"black\" points=\"260.5,-55.5 260.5,-91.5\"/>\n",
       "<text text-anchor=\"middle\" x=\"303.5\" y=\"-69.8\" font-family=\"Times New Roman,serif\" font-size=\"14.00\">data &#45;6.0000</text>\n",
       "</g>\n",
       "<!-- 1870540382160&#45;&gt;1870540378272+ -->\n",
       "<g id=\"edge5\" class=\"edge\">\n",
       "<title>1870540382160&#45;&gt;1870540378272+</title>\n",
       "<path fill=\"none\" stroke=\"black\" d=\"M346.66,-60.48C356.14,-58.2 365.77,-55.89 374.53,-53.79\"/>\n",
       "<polygon fill=\"black\" stroke=\"black\" points=\"375.45,-57.16 384.35,-51.42 373.81,-50.36 375.45,-57.16\"/>\n",
       "</g>\n",
       "<!-- 1870540382160*&#45;&gt;1870540382160 -->\n",
       "<g id=\"edge2\" class=\"edge\">\n",
       "<title>1870540382160*&#45;&gt;1870540382160</title>\n",
       "<path fill=\"none\" stroke=\"black\" d=\"M200.14,-73.5C208.03,-73.5 217.05,-73.5 226.28,-73.5\"/>\n",
       "<polygon fill=\"black\" stroke=\"black\" points=\"226.32,-77 236.32,-73.5 226.32,-70 226.32,-77\"/>\n",
       "</g>\n",
       "</g>\n",
       "</svg>\n"
      ],
      "text/plain": [
       "<graphviz.graphs.Digraph at 0x1b384e51c10>"
      ]
     },
     "execution_count": 16,
     "metadata": {},
     "output_type": "execute_result"
    }
   ],
   "source": [
    "a = Valor(2, rotulo=\"a\")\n",
    "b = Valor(-3, rotulo=\"b\")\n",
    "c = Valor(10, rotulo=\"c\")\n",
    "\n",
    "d = a * b\n",
    "e = d + c\n",
    "\n",
    "d.rotulo = \"d\"\n",
    "e.rotulo = \"e\"\n",
    "\n",
    "plota_grafo(e)"
   ]
  },
  {
   "cell_type": "markdown",
   "metadata": {},
   "source": [
    "### Refazendo o grafo que fizemos na aula anterior\n",
    "\n"
   ]
  },
  {
   "cell_type": "markdown",
   "metadata": {},
   "source": [
    "Na aula anterior nós fizemos um grafo computacional para aprender como funciona o backpropagation. Vamos refazer ele aqui!\n",
    "\n"
   ]
  },
  {
   "cell_type": "code",
   "execution_count": 18,
   "metadata": {},
   "outputs": [
    {
     "name": "stdout",
     "output_type": "stream",
     "text": [
      "digraph {\n",
      "\tgraph [rankdir=LR]\n",
      "\t1870540378656 [label=\"{ b | data 7.0000 }\" shape=record]\n",
      "\t1870540379184 [label=\"{ w1 | data 10.0000 }\" shape=record]\n",
      "\t1870540378752 [label=\"{ w2 | data 5.0000 }\" shape=record]\n",
      "\t1870540378800 [label=\"{ s1 | data 600.0000 }\" shape=record]\n",
      "\t\"1870540378800*\" [label=\"*\"]\n",
      "\t\"1870540378800*\" -> 1870540378800\n",
      "\t1870540379376 [label=\"{ x1 | data 60.0000 }\" shape=record]\n",
      "\t1870540308736 [label=\"{ y | data 729.0000 }\" shape=record]\n",
      "\t\"1870540308736+\" [label=\"+\"]\n",
      "\t\"1870540308736+\" -> 1870540308736\n",
      "\t1870540378368 [label=\"{ n | data 720.0000 }\" shape=record]\n",
      "\t\"1870540378368+\" [label=\"+\"]\n",
      "\t\"1870540378368+\" -> 1870540378368\n",
      "\t1870540379904 [label=\"{ x2 | data 24.0000 }\" shape=record]\n",
      "\t1870540379952 [label=\"{ s2 | data 120.0000 }\" shape=record]\n",
      "\t\"1870540379952*\" [label=\"*\"]\n",
      "\t\"1870540379952*\" -> 1870540379952\n",
      "\t1870540310368 [label=\"{ k | data 727.0000 }\" shape=record]\n",
      "\t\"1870540310368+\" [label=\"+\"]\n",
      "\t\"1870540310368+\" -> 1870540310368\n",
      "\t1870540380000 [label=\"{ w3 | data 2.0000 }\" shape=record]\n",
      "\t1870540378368 -> \"1870540310368+\"\n",
      "\t1870540378656 -> \"1870540310368+\"\n",
      "\t1870540379952 -> \"1870540378368+\"\n",
      "\t1870540378752 -> \"1870540379952*\"\n",
      "\t1870540379904 -> \"1870540379952*\"\n",
      "\t1870540379184 -> \"1870540378800*\"\n",
      "\t1870540310368 -> \"1870540308736+\"\n",
      "\t1870540379376 -> \"1870540378800*\"\n",
      "\t1870540380000 -> \"1870540308736+\"\n",
      "\t1870540378800 -> \"1870540378368+\"\n",
      "}\n",
      "\n"
     ]
    }
   ],
   "source": [
    "x1 = Valor(60, rotulo=\"x1\")\n",
    "x2 = Valor(24, rotulo=\"x2\")\n",
    "w1 = Valor(10, rotulo=\"w1\")\n",
    "w2 = Valor(5, rotulo=\"w2\")\n",
    "w3 = Valor(2, rotulo=\"w3\")\n",
    "b = Valor(7, rotulo=\"b\")\n",
    "\n",
    "s1 = x1 * w1\n",
    "s1.rotulo = \"s1\"\n",
    "\n",
    "s2 = x2 * w2\n",
    "s2.rotulo = \"s2\"\n",
    "\n",
    "n = s1 + s2\n",
    "n.rotulo = \"n\"\n",
    "\n",
    "k = n + b\n",
    "k.rotulo = \"k\"\n",
    "\n",
    "y = k + w3\n",
    "y.rotulo = \"y\"\n",
    "\n",
    "g = plota_grafo(y)\n",
    "print(g)"
   ]
  },
  {
   "cell_type": "markdown",
   "metadata": {},
   "source": [
    "![image](https://user-images.githubusercontent.com/106711102/236648255-cf1bd3c1-328a-4ae4-8a2d-22d59af40e8f.png)"
   ]
  },
  {
   "cell_type": "markdown",
   "metadata": {},
   "source": [
    "### Observações:"
   ]
  },
  {
   "cell_type": "markdown",
   "metadata": {},
   "source": [
    "É possível visualizar que algumas celulas apresentaram erro, isso se dá principalmente por conta de um probelma de execução da biblioteca, onde não tem sido possível plotar os grafos. Portanto, foi usado o link disponibilizado pelo professor para que fosse viável a plotagem online por meio dos dados obtidos."
   ]
  },
  {
   "cell_type": "markdown",
   "metadata": {},
   "source": [
    "## Conclusão\n",
    "\n"
   ]
  },
  {
   "cell_type": "markdown",
   "metadata": {},
   "source": [
    "Por meio desse experimento, fomos introduzidos a como iniciar a construção de uma rede neural artificial. Assim entendendo a estrutura, como funcionam os operadores de adição e multiplicação, a estrutura dos progenitores, o operador mãe e como plotar um grafo. Desse modo, compreendendo como funcionam as classe, foi possível criar uma que gerasse automaticamente um `grafo computacional`, este que representa todas as operações matemáticas que ocorreram ao se computar um certo valor, onde o valor foi com base no grafo feito na aula do dia 27/04/2023. Portanto, o valor utilizado foi $g$, para que fosse possível visualizar todo o grafo, assim, sendo útil para experimentos futuros os quais necessitam do grafo computacional como na computação dos gradientes  para realizar o `backpropagation`."
   ]
  },
  {
   "cell_type": "markdown",
   "metadata": {},
   "source": [
    "## Playground\n",
    "\n"
   ]
  }
 ],
 "metadata": {
  "kernelspec": {
   "display_name": "ilumpy",
   "language": "python",
   "name": "ilumpy"
  },
  "language_info": {
   "codemirror_mode": {
    "name": "ipython",
    "version": 3
   },
   "file_extension": ".py",
   "mimetype": "text/x-python",
   "name": "python",
   "nbconvert_exporter": "python",
   "pygments_lexer": "ipython3",
   "version": "3.9.7"
  },
  "org": null
 },
 "nbformat": 4,
 "nbformat_minor": 4
}
