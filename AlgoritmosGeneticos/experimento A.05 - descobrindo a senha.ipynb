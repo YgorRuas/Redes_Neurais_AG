{
 "cells": [
  {
   "cell_type": "markdown",
   "metadata": {},
   "source": [
    "Descobrindo a senha\n",
    "===================\n",
    "\n"
   ]
  },
  {
   "cell_type": "markdown",
   "metadata": {},
   "source": [
    "## Objetivo\n",
    "\n"
   ]
  },
  {
   "cell_type": "markdown",
   "metadata": {},
   "source": [
    "Usar um algoritmo genético para descobrir uma senha.\n",
    "\n"
   ]
  },
  {
   "cell_type": "markdown",
   "metadata": {},
   "source": [
    "## Descrição do problema\n",
    "\n"
   ]
  },
  {
   "cell_type": "markdown",
   "metadata": {},
   "source": [
    "Neste problema, a função objetivo deve saber a senha correta e quantificar de alguma maneira o quão perto ou longe os palpites estão da solução (veja que isso é algo que não temos no mundo real. Nenhum site irá te dizer se você está acertando ou errando seu palpite). O critério de parada deste problema é quando a senha for descoberta.\n",
    "\n"
   ]
  },
  {
   "cell_type": "markdown",
   "metadata": {},
   "source": [
    "## Importações\n",
    "\n"
   ]
  },
  {
   "cell_type": "code",
   "execution_count": 3,
   "metadata": {},
   "outputs": [],
   "source": [
    "from funcoes import populacao_inicial_senha\n",
    "from funcoes import funcao_objetivo_pop_senha\n",
    "from funcoes import selecao_torneio_min\n",
    "from funcoes import cruzamento_ponto_simples as funcao_cruzamento\n",
    "from funcoes import mutacao_senha\n",
    "import random"
   ]
  },
  {
   "cell_type": "markdown",
   "metadata": {},
   "source": [
    "## Códigos e discussão\n",
    "\n"
   ]
  },
  {
   "cell_type": "code",
   "execution_count": 66,
   "metadata": {},
   "outputs": [],
   "source": [
    "### CONSTANTES\n",
    "\n",
    "# relacionadas à busca\n",
    "TAMANHO_POP = 50\n",
    "#NUM_GERACOES = 2000\n",
    "CHANCE_CRUZAMENTO = 0.5\n",
    "CHANCE_MUTACAO = 0.05\n",
    "NUM_COMBATENTES_NO_TORNEIO = 3\n",
    "\n",
    "# relacionadas ao problema a ser resulvido\n",
    "#SENHA = \"correcthorsebatterystaple\"\n",
    "SENHA = \"Corinthians X Cruzeiro dia 16/04\"\n",
    "LETRAS_POSSIVEIS = \"abcdefghijklmnopqrstuvwxyzZYXC0123456789 /\"\n",
    "NUM_GENES = len(SENHA)"
   ]
  },
  {
   "cell_type": "code",
   "execution_count": 67,
   "metadata": {},
   "outputs": [],
   "source": [
    "# funções locais\n",
    "\n",
    "def cria_populacao_inicial(tamanho, tamanho_senha):\n",
    "    return populacao_inicial_senha(tamanho, tamanho_senha, LETRAS_POSSIVEIS)\n",
    "\n",
    "def funcao_objetivo_pop(populacao):\n",
    "    return funcao_objetivo_pop_senha(populacao, SENHA)\n",
    "\n",
    "def funcao_selecao(populacao, fitness):\n",
    "    return selecao_torneio_min(populacao, fitness, NUM_COMBATENTES_NO_TORNEIO)\n",
    "\n",
    "def funcao_mutacao(individuo):\n",
    "    return mutacao_senha(individuo, LETRAS_POSSIVEIS)"
   ]
  },
  {
   "cell_type": "code",
   "execution_count": 68,
   "metadata": {},
   "outputs": [
    {
     "name": "stdout",
     "output_type": "stream",
     "text": [
      "Progresso da melhor senha já vista:\n",
      " ntzgcaubpgwjuCZakqpszqzkh7k431k - fitness: 648\n",
      " ntzgcaumxshj/2n2mqpszqzkh7k431k - fitness: 612\n",
      "6diXekwklxshj/2nww5pszqzkh7k431k - fitness: 559\n",
      "6diXekwklxshj/2nww5eXqbzkh7k431k - fitness: 557\n",
      "9Ytzgcaumxshj/2natqpszqzkh7k431k - fitness: 554\n",
      "6diopcaumxshj/2natqpszqzkh7k431k - fitness: 537\n",
      "6diXekwklxshj/2nww5eXq zkh7k431k - fitness: 491\n",
      "6diXekwklxshj/2nww5eXq zkh74431k - fitness: 436\n",
      "6dtzgcakmgsqj/Cnww5eXq zkh74431k - fitness: 417\n",
      "6niopcaumxshj/2natqeXq zkh74431k - fitness: 404\n",
      "6dtzgcakmgsqj/CnwwqeXq zkh74431k - fitness: 381\n",
      "6niogcaumxshj/2natqeXq zkh744314 - fitness: 354\n",
      "6niogcaumxshj/2natqehq zkh744314 - fitness: 338\n",
      "6niopcaumgsqj/CnwwqeXq zkh744314 - fitness: 317\n",
      "6dtopcaummshj/CnwwqeXq zkh744314 - fitness: 305\n",
      "6niopuaumgsqj/CnwwqeXq zkh744314 - fitness: 301\n",
      "6niopuaumgsqj/CnwwqeXq vkh744314 - fitness: 297\n",
      "6niopuakmgsqj/CnwwqeXq zkh744314 - fitness: 291\n",
      "6niopuaummshj/CnwwqeXq zkh744314 - fitness: 286\n",
      "6niopuakmmshj/CnwwqeXq zkh744314 - fitness: 276\n",
      "6niopuaummshj/Cnwwqenq zkh744314 - fitness: 264\n",
      "6niopuakmmshj/Cnwwqenq zkh744314 - fitness: 254\n",
      "6niopuckmmshj/Cnwwqenq zkh744314 - fitness: 252\n",
      "6niopuckmmshj/Cnwwqenq ykh744314 - fitness: 251\n",
      "6niopuckmmshj/Cnwwqenq bkh744314 - fitness: 232\n",
      "6niopuckmmshg/Cnwwqenq bkh744314 - fitness: 229\n",
      "6niopuckmmshj/Cnwwqenq bkh044314 - fitness: 225\n",
      "6niopuckmmsZj/Cnwwqenq bkh744314 - fitness: 218\n",
      "6niopuckmmsZj/Cnwwqenq bkh044314 - fitness: 211\n",
      "6niopuckmmsZg/Cnwwqenq bkh044314 - fitness: 208\n",
      "6niopuckmmsZX/Cnwwqenq bkh044314 - fitness: 193\n",
      "6niopuckmmsCj/Cnwwqenq bkh044314 - fitness: 188\n",
      "7niopuckmmsCj/Cnwwqenq bkh044314 - fitness: 187\n",
      "6nlopuckmmsCj/Cnwwqenq bkh044314 - fitness: 185\n",
      "7nlopuckmmsCj/Cnwwqenq bkh044314 - fitness: 184\n",
      "7nlopuckmmsCj/Cnwwqenq ckh044314 - fitness: 183\n",
      "7nlopuckmmsCY/Cnwwqenq bkh044314 - fitness: 167\n",
      "7nlopuckmmsCY/Cnwwgenq bkh044314 - fitness: 157\n",
      "7nlopuckmmsCY/Cnwwgenq ckh044314 - fitness: 156\n",
      "7nlopuckmms9Y/Cnwwgenq bkh044314 - fitness: 147\n",
      "9nlopuckmms0Y/Cnwwgenq cih014314 - fitness: 130\n",
      "9nlopuckmms0Y/Cnwwgenp cih014314 - fitness: 129\n",
      "9nlopuckjms0Y/Cnwwgenp cih014314 - fitness: 126\n",
      "9nlopuckcms0Y/Cnwwgenp cih014314 - fitness: 119\n",
      "9nlopuckjms/Y/Cswwgjnp cih014304 - fitness: 118\n",
      "9nlopuckjms/Y/Cswwgjnp cig014304 - fitness: 117\n",
      "9nlomuckjms/Y/Cswwgjnp cig014304 - fitness: 116\n",
      "9nlomuckjms/Y/Cswwejnp cig014304 - fitness: 114\n",
      "9nlomuckjms/Y/Cswweinp cig014304 - fitness: 113\n",
      "9nlomtckjms/Y/Cswweinp cig014304 - fitness: 112\n",
      "9nlomtckjms/Y/Cswweinp cig014204 - fitness: 111\n",
      "9nromtckjms/Y/Cswweinp cig014204 - fitness: 105\n",
      "9nlomtckams/Y/Csvwbinp cig014204 - fitness: 104\n",
      "9nlomtckams/Y/Csvweinp cig014204 - fitness: 101\n",
      "9nlomtckams/Y/Csvweiup cig014204 - fitness: 100\n",
      "9nnomtckams/Y/Csvweiup cig014204 - fitness: 98\n",
      "9nnomtckams/Y/Crvweiup cig014204 - fitness: 97\n",
      "9nnomtckams/Y/Crvweiuo cig014204 - fitness: 96\n",
      "9nnomtckams/Y/Crvweiup cia014204 - fitness: 91\n",
      "9nnhmtckams/Y/Crvweiup cia014204 - fitness: 86\n",
      "9nohmtckams/Y/Crvweiup cia014204 - fitness: 85\n",
      "9nqhmtckams/Y/Crvweiup cia014204 - fitness: 83\n",
      "9nqhmtckams/Y/Crvweiup cia014004 - fitness: 81\n",
      "9nqhmtikams/Y/Crvweiup cia014004 - fitness: 77\n",
      "9nqhmtikams Y/Crvweiup cia014004 - fitness: 62\n",
      "9nqhmtikams Y/Crvweitp cia014004 - fitness: 61\n",
      "9nqhmtikams Y/Crvweitp cia015004 - fitness: 60\n",
      "9nqhmtikams Y/Crvweirp cia015004 - fitness: 58\n",
      "9nqhmtikams Y/Crvyeirp cia015004 - fitness: 56\n",
      "9nqhmtihams Y/Crvyeirp cia015004 - fitness: 55\n",
      "9nqhmtihams Y/Cruyeirp cia015004 - fitness: 54\n",
      "9nqhmtihams X/Cruyeirp cia015004 - fitness: 53\n",
      "Cnqhmtihams X/Cruyeirp cia015004 - fitness: 43\n",
      "9nrhmthhams X Cruzeiro cia015004 - fitness: 34\n",
      "9nrhmthhans X Cruzeiro cia015004 - fitness: 33\n",
      "9nrhnthhans X Cruzeiro cia015004 - fitness: 32\n",
      "9orhnthhans X Cruzeiro cia015004 - fitness: 31\n",
      "9orhnthians X Cruzeiro cia015004 - fitness: 30\n",
      "Corhnthians X Cruzeiro cia015004 - fitness: 20\n",
      "Corhnthians X Cruzeiro cia/15004 - fitness: 19\n",
      "Corhnthians X Cruzeiro cia 15004 - fitness: 4\n",
      "Corinthians X Cruzeiro cia 15004 - fitness: 3\n",
      "Corinthians X Cruzeiro cia 16004 - fitness: 2\n",
      "Corinthians X Cruzeiro cia 16/04 - fitness: 1\n",
      "Corinthians X Cruzeiro dia 16/04 - fitness: 0\n",
      "\n",
      "Melhor palpite da senha encontrado:\n",
      "Corinthians X Cruzeiro dia 16/04\n"
     ]
    }
   ],
   "source": [
    "populacao = cria_populacao_inicial(TAMANHO_POP, NUM_GENES)\n",
    "\n",
    "melhor_fitness_ja_visto = float(\"inf\")  # é assim que escrevemos infinito em python\n",
    "\n",
    "print(\"Progresso da melhor senha já vista:\")\n",
    "\n",
    "#for n in range(NUM_GERACOES):\n",
    "\n",
    "while melhor_fitness_ja_visto !=0:    \n",
    "    \n",
    "    # Seleção\n",
    "    fitness = funcao_objetivo_pop(populacao)\n",
    "    populacao = funcao_selecao(populacao, fitness)\n",
    "    \n",
    "    # Cruzamento\n",
    "    pais = populacao[0::2]\n",
    "    maes = populacao[1::2]\n",
    "    \n",
    "    contador = 0\n",
    "    \n",
    "    for pai, mae in zip(pais, maes):\n",
    "        if random.random() <= CHANCE_CRUZAMENTO:\n",
    "            filho1, filho2 = funcao_cruzamento(pai, mae)\n",
    "            populacao[contador] = filho1\n",
    "            populacao[contador + 1] = filho2\n",
    "        \n",
    "        contador = contador + 2   \n",
    "        \n",
    "    # Mutação\n",
    "    for n in range(len(populacao)):\n",
    "        if random.random() <= CHANCE_MUTACAO:\n",
    "            individuo = populacao[n]\n",
    "            populacao[n] = funcao_mutacao(individuo)            \n",
    "            \n",
    "    # melhor individuo já visto até agora\n",
    "    fitness = funcao_objetivo_pop(populacao)\n",
    "    menor_fitness = min(fitness)\n",
    "    if menor_fitness < melhor_fitness_ja_visto:        \n",
    "        posicao = fitness.index(menor_fitness)\n",
    "        melhor_individuo_ja_visto = populacao[posicao]\n",
    "        melhor_fitness_ja_visto = menor_fitness\n",
    "        print(\"\".join(melhor_individuo_ja_visto), \"- fitness:\", melhor_fitness_ja_visto)\n",
    "\n",
    "print()\n",
    "print(\"Melhor palpite da senha encontrado:\")\n",
    "print(\"\".join(melhor_individuo_ja_visto))"
   ]
  },
  {
   "cell_type": "markdown",
   "metadata": {},
   "source": [
    "## Conclusão\n",
    "\n"
   ]
  },
  {
   "cell_type": "markdown",
   "metadata": {},
   "source": [
    "O desafio desse experimento é saber a senha correta e quantificar de alguma maneira o quão perto ou longe os palpites estão da solução, desse modo, o resultado foi alcançado e diferente dos demais experimento, o critério de parada desse não dependia do número de gerações e sim até a senha correta ser determinada. Portanto, definindo novas funções e dando ênfase a função \"selecao_torneio_min\", essa que possibilitou determinar o quão próximo um palpite está da resposta correta. E nesse experimento, a senha correta é (Corinthians X Cruzeiro dia 16/04) considerando alguns caracteres além de letras para que essa senha se torne possível, sendo que foi necessária 648 tentativas quando rodei. Contudo, esse valor não é definido, mas sempre resultara na senha correta devido ao critério de parada. Observação: essa senha é um convite."
   ]
  },
  {
   "cell_type": "markdown",
   "metadata": {},
   "source": [
    "## Playground\n",
    "\n"
   ]
  }
 ],
 "metadata": {
  "kernelspec": {
   "display_name": "ilumpy",
   "language": "python",
   "name": "ilumpy"
  },
  "language_info": {
   "codemirror_mode": {
    "name": "ipython",
    "version": 3
   },
   "file_extension": ".py",
   "mimetype": "text/x-python",
   "name": "python",
   "nbconvert_exporter": "python",
   "pygments_lexer": "ipython3",
   "version": "3.9.7"
  },
  "org": null
 },
 "nbformat": 4,
 "nbformat_minor": 4
}
