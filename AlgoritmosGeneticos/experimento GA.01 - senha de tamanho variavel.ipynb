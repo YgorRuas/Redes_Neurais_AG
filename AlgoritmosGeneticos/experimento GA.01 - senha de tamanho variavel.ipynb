{
 "cells": [
  {
   "cell_type": "markdown",
   "metadata": {},
   "source": [
    "A variável de senha de tamanho\n",
    "========================================\n",
    "\n"
   ]
  },
  {
   "cell_type": "markdown",
   "metadata": {},
   "source": [
    "## Introdução\n",
    "\n"
   ]
  },
  {
   "cell_type": "markdown",
   "metadata": {},
   "source": [
    "A variável de senha de tamanho é semelhante ao experimento 5 que o objetivo é descobrir a senha, contudo, nesse desafio a maquina não sabe o tamanho da senha, complicando o caso.\n",
    "\n"
   ]
  },
  {
   "cell_type": "markdown",
   "metadata": {},
   "source": [
    "## Objetivo\n",
    "\n"
   ]
  },
  {
   "cell_type": "markdown",
   "metadata": {},
   "source": [
    "Objetivo: Resolver o problema da senha sem fornecer a informação do tamanho da senha para a função que gera a população."
   ]
  },
  {
   "cell_type": "markdown",
   "metadata": {},
   "source": [
    "## Importações\n",
    "\n"
   ]
  },
  {
   "cell_type": "markdown",
   "metadata": {},
   "source": [
    "Todos os comandos de `import` devem estar dentro desta seção.\n",
    "\n"
   ]
  },
  {
   "cell_type": "code",
   "execution_count": 1,
   "metadata": {},
   "outputs": [],
   "source": [
    "from funcoes import populacao_inicial_senha_vr # Mudou por conta do individuo, recebendo uma variavel a mais, mas a estrutura da função é a mesma.  \n",
    "from funcoes import funcao_objetivo_pop_senha_vr # Mudou pq tinha que considerar tamanhos diferentes, então tinha que aplicar uma penalidade de acordo com a diferença com relação ao tamanho da senha correta, a estutura mudou.\n",
    "from funcoes import selecao_torneio_min_vr # Mudou nada, só alterei o nome.\n",
    "from funcoes import cruzamento_ponto_simples_vr as funcao_cruzamento # Ele pega a menor lista como base para sortear o ponto de troca, para eviar erro de proporção. Mudou a estrutura do código.\n",
    "from funcoes import mutacao_senha_vr # Dá a opção de alter o gene ou o tamanho mas não os dois, mudou bastante a estrutura.\n",
    "import random"
   ]
  },
  {
   "cell_type": "markdown",
   "metadata": {},
   "source": [
    "Importações realizadas"
   ]
  },
  {
   "cell_type": "markdown",
   "metadata": {},
   "source": [
    "## Códigos e discussão\n",
    "\n"
   ]
  },
  {
   "cell_type": "code",
   "execution_count": 2,
   "metadata": {},
   "outputs": [],
   "source": [
    "### CONSTANTES\n",
    "\n",
    "SENHA = \"Ygor finalmente conseguiu programar algo, até mereço um +\" # definindo senha\n",
    "LETRAS = \"abcdefghijklmnopqrstuvwxyzABCDEFGHIJKLMNOPQRSTUVWXYZ0123456789 é,ç+\" # definindo caracteres possíveis\n",
    "TAMANHO_SENHA_MAX = 100 # tamanho limite da senha, para que não seja tão grande o custo computacional\n",
    "PESO = 50 # penalidade proporcional em caso de erro da senha, em função da distância da resposta correta\n",
    "\n",
    "TAMANHO_POP = 50 # quantidade de indivíduos\n",
    "CHANCE_CRUZAMENTO = 0.5 # probabilidade de cruzamento\n",
    "CHANCE_MUTACAO = 0.05 # probabilidade de mutação\n",
    "NUM_COMBATENTES_NO_TORNEIO = 3 # função torneio, presente aqui para realizar uma seleção\n",
    "\n",
    "NUM_GENES = len(SENHA) # retorna a senha"
   ]
  },
  {
   "cell_type": "code",
   "execution_count": 3,
   "metadata": {},
   "outputs": [],
   "source": [
    "# funções locais as quais possuem seus argumentos\n",
    "\n",
    "def cria_populacao_inicial(tamanho, tamanho_senha):\n",
    "    return populacao_inicial_senha_vr(tamanho, tamanho_senha, LETRAS)\n",
    "\n",
    "def funcao_objetivo_pop(populacao):\n",
    "    return funcao_objetivo_pop_senha_vr(populacao, SENHA, PESO)\n",
    "\n",
    "def funcao_selecao(populacao, fitness):\n",
    "    return selecao_torneio_min_vr(populacao, fitness, NUM_COMBATENTES_NO_TORNEIO)\n",
    "\n",
    "def funcao_mutacao(individuo):\n",
    "    return mutacao_senha_vr(individuo, LETRAS,TAMANHO_SENHA_MAX)"
   ]
  },
  {
   "cell_type": "code",
   "execution_count": 4,
   "metadata": {
    "tags": []
   },
   "outputs": [
    {
     "name": "stdout",
     "output_type": "stream",
     "text": [
      "Progresso da melhor senha já vista\n",
      "LekYYFCtynPhTC9YahjhgPjmxW20NYutIq02,oeWnnY - fitness: 1800\n",
      "LekYYFCtynPhTC9YahjhgPjmxW20NYux5HQ3LiiohkidfA - fitness: 1766\n",
      "LekYYFCtynPhTC9YahjhgPbczkqLJMob7WSRQQbWnnY - fitness: 1740\n",
      "LekYYFCtynPhTC9YahjhgPbczkqLJMob7WSRQQbWnhY - fitness: 1734\n",
      "LekYYFCtynPhTYm9YmFXmYbczkqLJMob7WSRQQbtSnY - fitness: 1656\n",
      "LekuPnMUfnPhTC9YahjhgPbczkqLJMob7WS2,oeWnnY - fitness: 1653\n",
      "LekYYFCtynPhTYm9YmFXmYbczkqLJMob7WSRQnbtSnY - fitness: 1631\n",
      "LekYYFCtynPhTYm9YmFXmYbczkqLJMob7WS2,oetSnY5ze8Q7NéYkQO - fitness: 1597\n",
      "LekYYFCtynPhTYm9YmFXmYbczkqLJSob7WS2,oetSnY5ze8Q7NéYkQO - fitness: 1591\n",
      "LekYYFCtNnPhTYm9YmFXmYbczkqLJPob7WS2,oetSnY5ze8Q7NéYkQO - fitness: 1589\n",
      "LekYYFCtNnPhTYm9YmFXmYbczkqLJSob7WS2,oetSnY5ze8Q7NéYkQO - fitness: 1586\n",
      "LekYYFCtynPhTYm9YmFXmYbcz3qLJSob7WS2,oetSnY5ze8Q7NéYkQO - fitness: 1535\n",
      "LekYYFwtynPhTYm9YmFXmYbcz3qLJSob7WS2,oetSnY5ze8Q7NéYkQO - fitness: 1511\n",
      "LekYYFwtynPhTYm9YmFXmYbcz3qLJSob7WS2,oetSnY5ze8Q7NénkQO - fitness: 1490\n",
      "LekoYFwtynPhTYm9YmFXmYbcz3qLJSob7WS2,oetSnY5ze8Q7NéYkQO - fitness: 1489\n",
      "LekoYFwtynPhTYm9YmFXmYbcz3qLJSob7WS2,oetSnY5ze8Q7NénkQO - fitness: 1468\n",
      "LekYYFwtynihTYm9YmFXmYbcz3qLJSob7WS2,oetSnY5ze8Q7NénkQO - fitness: 1465\n",
      "LekoYFwtynihTYm9YmFXmYbcz3qLJSob7WS2,oetSnY5ze8Q7NénkQO - fitness: 1443\n",
      "LekoYFwtynPhTYm9YmFXmYbcz3qLeSob7WS2,oetSnY5ze8Q7NénkQO - fitness: 1441\n",
      "LekoYFwtynihTYm9YmFXmYbcz3qLeSob7WS2,oetSnY5ze8Q7NénkQO - fitness: 1416\n",
      "LekoYFwtynihTYm9YmFXmYbcz3qLeSob7WS2,oetSnY5ze8Q7NénksO - fitness: 1382\n",
      "LekoYFwtynihTYm9YmFXmYpcz3qLeSob7WS2,oetSnY5ze8Q7NénksO - fitness: 1368\n",
      "LekoYFwtynihTYm9YmFXmYqcz3qLeSob7WS2,oetSnY5ze8Q7NénksO - fitness: 1367\n",
      "LekoYFwtynihTYm9YmFXmYqcz3qLeSob7WS2,oetSnY5ze8Q7Nénksc - fitness: 1347\n",
      "LekoYFwtynihTYm9YmFXmYqcz3qLeSob7WS2xoetSnY5ze8Q7NénksO - fitness: 1337\n",
      "LekoYFwtynihTYm9YmFXmYqcz3qLeSob7WS2xoetSnY5ze8Q7Nénksc - fitness: 1317\n",
      "LekoYFwtynihTYm9YmFXmYqcz3qLeSob7WS2xoetSnY5ze8Q7Vénksc - fitness: 1309\n",
      "LekoYFwtynihTYm9YmFXmYqcz3qLeSobBWS2xoetSnY5ze8Q7Vénksc - fitness: 1298\n",
      "LekoYFwtynihTYm9YmFXmYqcz3qLeSob7Wb2xoetSnY5ze8Q7Vénksc - fitness: 1294\n",
      "LekoYFwtjnihTYm9YmFXmYqcz3qLeSob7Wb2xoetSnY5ze8Q7Vénksc - fitness: 1279\n",
      "LekoYFwtynihTYm9YmFXmYqcz3qLeSob7Wb2eoetSnY5ze8Q7Vénksc - fitness: 1275\n",
      "LekoYFwtjnihTYm9YmFXmYqcz3qLeSob7Wb2xoetSnY5zD8Q7Vénksc - fitness: 1246\n",
      "LekoYFwtjnihTYm9hmFXmYqcz3qLeSob7Wb2xoetSnY5zD8Q7Vénksc - fitness: 1241\n",
      "LekoYFwtjnihTYm9hmFXmYqcz3qLeSob7Wp2xoetSnY5zD8Q7Vénksc - fitness: 1227\n",
      "LekoYFwtjnihTYm9hmFXmYqcz3qLeSob7Wp2xoetSnY5zD8QoVénksc - fitness: 1171\n",
      "LekoYFwtjnihTYm9hmFXmYqcz3qLeSqb7Wp2xoetSnY5zD8QoVénksc - fitness: 1169\n",
      "LekoYFwtjnihTYm9hmdXmYqcz3qLeSob7Wp2xoetSnY5zD8QoVénksc - fitness: 1141\n",
      "LekoYFwtjnihTYm9hmdXmYqcz3qLeSqb7Wp2xoetSnY5zD8QoVénksc - fitness: 1139\n",
      "LekoYFwtjnihTYm9hmdXmYqcz3qLeSob7Wp2xoetSnY5zDoQoVénksc - fitness: 1090\n",
      "LekoYFwtjnihTYm9hmdXmYqcz3qLeSob7Wp2xjetSnY5zDoQoVénksc - fitness: 1089\n",
      "LekoYFwtjnihpYm9hmdXmYqcz3qLeSob7Wp2xoetSnY5zDoQoVénksc - fitness: 1066\n",
      "LekoYFwtjnihpYm9hmdXmYqcz3qLeSob7Wp2xjetSnY5zDoQoVénksc - fitness: 1065\n",
      "LekoYFwtjnihpYm9hmdXmYqcz3qLeSob7Wp2xjetSnYpzDoQoVénksc - fitness: 1006\n",
      "LekoYFwtjnihpYm9hmdXmYqcs3qLeSob7Wp2xjetSnYpzDoQoVénksc - fitness: 1003\n",
      "LekoYFwtjnihpYm9hmdXmYqcz3qLeSob7Wp2xjetScYpzDoQoVénksc - fitness: 995\n",
      "LekoYFwtjnihpYm9hmdXmYqcs3qLeSob7Wp2xjetScYpzDoQoVénksc - fitness: 992\n",
      "LekoYFwijnihpYm9hmdXmYqcs3qLeSob7Wp2xjetScYpzDoQoVénksc - fitness: 991\n",
      "LekoYFwtjnihpYm9hmdXmYqcs3qLeSob7Wp2xjetScYpzDoQoVénkscG3b - fitness: 989\n",
      "LekoYFwijnihpYm9hmdXmYqcs3qLeSob7Wp2xjetScYpzDoQoVénkscG3b - fitness: 988\n",
      "LekoYFwijnihpYm9hmdXmYqcs3qLeSob7Wp2xjetScYpz oQoVénkscG3b - fitness: 952\n",
      "LekoYFwijnihpYm9hmdXmYqcs3qLeSob7Wp2xjetScYpz oQoVénkscG3 - fitness: 902\n",
      "QekoGFwijnihpYm9hmdXmYqcs3qLeSobNWp2xjetScYpz oQoVénksc1Ab - fitness: 898\n",
      "QekoYFwijnihpYm9hmdXmYqcs3qLeSobNWp2xjetScYpz oQoVénksc1 - fitness: 894\n",
      "QekoYFwijnihpYm9hmdXmYqcs3qLeSobNWp2xjetScYpz oQoVénQsc1Ab - fitness: 890\n",
      "QekoGFwijnihpYm9hmdXmYqcs3qLeSobNWp2xjetScYpz oQoVénQsc1Ab - fitness: 872\n",
      "QekoGFwijnihpYm9hmdXmYqcs3qLeSobNWp2xjetScYsz oQoVénQsc1Ab - fitness: 869\n",
      "QekoGFwijnihpYm9hmdXmYqes3qLeSobNWp2xjetScYsz oQoVénQsc1Ab - fitness: 867\n",
      "QekoGFwijnihpYm9hmdXmYqes3qLeSobNip2xjetScYsz oQoVénQsc1Ab - fitness: 865\n",
      "QekoGFwijnihpYm9hmdXmYqes3qLeSobNip2xjetScdsz oQoVénQsc1Ab - fitness: 860\n",
      "QekoGFjijnihpYm9hmdXmYqes3qLeSobNip2xjetScYsz oQoVénQsc1Ab - fitness: 852\n",
      "QekoGFwijnihpmm9hmdXmYqes3qLeSobNip2xjetScYsz oQoVénQsc1Ab - fitness: 845\n",
      "QekoGFwijnihpmm9hmdXmYqes3qLeSobNip2xjetScdsz oQoVénQsc1Ab - fitness: 840\n",
      "QekoGFjijnihpmm9hmdXmYqes3qLeSobNip2xjetScYsz oQoVénQsc1Ab - fitness: 832\n",
      "QekoGFjijnihpmm9hmdXmYqes3qLeSobNip2xjetScdsz oQoVénQsc1Ab - fitness: 827\n",
      "QekoGFjijnihpmm9hmdXfYqes3qLeSobNip2xjetScdsz oQoVénQsc1Ab - fitness: 820\n",
      "QekoGFjijnihpmm9hmdXfYqes3qLeSobNip2xjetScdsz opoVénQsc1Ab - fitness: 811\n",
      "QekoGFjijnihpmm9hmdXfYqes3qLeSobNip2xjetScdsz opoVénQsc1A - fitness: 761\n",
      "QekoGFjijnihpmm9hmdXfYqes3qLeSobNip0xjetScdsz opoVénQsc1A - fitness: 759\n",
      "QekoGFjijnihpmm9hmdXfYqes3qLeSobNip2xjetScdsz oeoVénQsc1A - fitness: 750\n",
      "QekoGFjijnihpmm9hmdXfYqes3qLeSobNip0xjetScdsz oeoVénQsc1A - fitness: 748\n",
      "QekoGFjmjnihpmm9hmdXfYqes3qLeSobNip0xjetScdsz oeoVénQwc1A - fitness: 744\n",
      "QekoGFjijnihpmm9hmdXfYqes3qLeSobNip0xjetScdsz oeoVénDwc1A - fitness: 735\n",
      "QekoGFjmjnihpmm9hmdXfYqes3qLeSobNip0xjetScdsz oeoVénDwc1A - fitness: 731\n",
      "QekoGFjmjnihpmm9hmdXfkqes3qLeSobNip0xjetScdsz oeoVénDwc1A - fitness: 721\n",
      "QekoGFjmjnihpmm9hmdXfkqes3qLeSobNip0xjetScdsz oeoWénDwc1A - fitness: 720\n",
      "QekoGFjmjnihpmm9hmdXfkqes3qLeSobvip0xjetScdsz oeoWénDwc1A - fitness: 698\n",
      "QekoGFjmjnihpme9hmdXfkqes3qLeSobvip0xjetScdsz oeoWénDwc1A - fitness: 690\n",
      "QekoGFjmjnihpme9hmdXfkqes3qLeSqbvip0xjetScdsz oeoWénDwc1A - fitness: 688\n",
      "QekoGFjmjnihpme9hmdXfkqes3qLeSqbvip0xjetSFdsz oeoWénDwc1A - fitness: 659\n",
      "QekoGFjmjnihpme9hmdXfkqes3qLeSqbvip0xjetSFdsz oeooénDwc1A - fitness: 655\n",
      "QekoGFjmjnihpme9hmdXfkqes3qteSqbvip0xjetSFdsz oeoWénDwc1A - fitness: 623\n",
      "QekoGFjmjnihpme9hmdXfkqes3qteSqbvip0xjetSFdsz oeooénDwc1A - fitness: 619\n",
      "QekoGFjmjnihpme9hmpXfkqes3qteSqbvip0xjetSFdsz oeooénDwc1A - fitness: 611\n",
      "QekoFFjmjnihpme9hmpXfkqes3qteSqbvip0xjetSFdsz oeooénDwc1A - fitness: 610\n",
      "QekoFFjmjnihpme9dmpXfkqes3qteSqbvip0xjetSFdsz oeooénDwc1A - fitness: 606\n",
      "QekoFFjmjnihpme9dmpXfkqes3qteSqbvip0xjetSFdsz oeooénDwl1A - fitness: 597\n",
      "QekoFFjmjnihpme9dmpXfkqes3qteSqbvip0xjetSDdsz oeooénDwl1A - fitness: 595\n",
      "QekoFFjmjnihpme9dmpXfkqes3qteSqbvip0xjetSFdsz oeooénDwl16 - fitness: 586\n",
      "QekoFFjmjnihpme9dmpXfkqes3qtelqbvip0xjetSDdsz oeooénDwl1A - fitness: 580\n",
      "QekoFFjmjnihpme9dmpXfkqes3qtelqbvip0xjetSDdsz oeooénDwl16 - fitness: 569\n",
      "QekoFVjmjnihpme9dmpXfkqes3qtelqbvip0xjetSDdsz oeooénDwl16 - fitness: 553\n",
      "QekoFVjmjnihpme9dmpXfkqes3qtmlqbvip0xjetSDdsz oeooénDwl16 - fitness: 545\n",
      "QekoFVjmjnihpme9dmpXfkqes3qtmhqbvip0xjetSDdsz oeooénDwl16 - fitness: 541\n",
      "QekoFVjmjnihpme9dmpXfkqes3qtmhqbvip0MjetSDdsz oeooénDwl16 - fitness: 538\n",
      "QekoFVjmjnihpye9dmpXfkqes3qtmhqbvip0MjetSDdsz oeooénDwl16 - fitness: 536\n",
      "QekoFVjmjnihpye9dmpXfkqes3qtmhqbvip0MjetSDdsz oeooénDvl16 - fitness: 535\n",
      "TekoFVjmjnihpye9dmpXfkqes3qtmhqbvip0MjetSDdsz oeooénDvl16 - fitness: 532\n",
      "QekoFVjmjnihpye9dmpXfkqes3qtmhqbvip0MjetSDdsz oeoiénDvl16 - fitness: 529\n",
      "TekoFVjmjnihpye9dmpXfkqes3qtmhqbvip0MjetS3dsz oeooénDvl14 - fitness: 513\n",
      "TekoFijmjnihpye9dmpXfkqes3qtmhqbvip0MjetS3dsz oeooénDvl14 - fitness: 500\n",
      "TekoFijmjnihpye9dmpXfkqes3qtmhqbsip0MjetS3dsz oeooénDvl14 - fitness: 497\n",
      "TekoFijmjnihpye9dmpyfkqes3qtmhqbsip0MjetS3dsz oeooénDvl14 - fitness: 476\n",
      "TekoFijmjnohpye9dmpyfkqes3qtmhqbsip0MjetS3dsz oeooénDvl14 - fitness: 474\n",
      "TekoFijmjnohpye9dmpyfeqes3qtmhqbsip0MjetS3dsz oeooénDvl14 - fitness: 472\n",
      "TekoFijmjnohpye9dmpyfetes3qtmhqbsip0MjetS3dsz oeooénDvl14 - fitness: 469\n",
      "Teko1ijmjnohpye9dmpyfetes3qtmhqbsip0MjetS3dsz oeooénDvl14 - fitness: 448\n",
      "Teko1ijmanohpye9dmpyfetes3qtmhqbsip0MjetS3dsz oeooénDvl14 - fitness: 439\n",
      "Teqo1ijmanohpye9dmpyfetes3qtmhqbsip0MjetS3dsz oeooénDvl14 - fitness: 437\n",
      "Teko1ijmanohpye0dmpyfetes3qtmhqbsip0MjetS3dsz oeooénDvl14 - fitness: 430\n",
      "Teqo1ijmanohpye0dmpyfetes3qtmhqbsip0MjetS3dsz oeooénDvl14 - fitness: 428\n",
      "Teqo1ijmanohpye0dmpyfetes3qtmhqbsip0MjetS3dsz oeooén7vl14 - fitness: 415\n",
      "Teqo1ijmanohpye0dmpyfetes3qtmhqbsip0MjetS+dsz oeooén7vl14 - fitness: 407\n",
      "Teqo1ijmanohpye0dmpyfetes3qtmhqbsip0MjetS dsz oeooén7vl14 - fitness: 396\n",
      "Teqo1ijmanohpye,dmpyfetes3qtmhqbsip0MjetS dsz oeooén7vl14 - fitness: 392\n",
      "Teqo1ijmanohpye,dmpyfetes3qtmhqbsip0MjetS dsz oeooén+vl14 - fitness: 380\n",
      "Teqo1ijmanohpye,dmpyfetes3qtmhqbsip0ojetS dsz oeooén+vl14 - fitness: 374\n",
      "Teqo1ijmanohpye,dmpyfetes,qtmhqbsip0ojetS dsz oeooén+vl14 - fitness: 367\n",
      "Teqo+ijmanohpye,dmpofetes3qtmhqbsip0ojetS dsz oeooén+vl14 - fitness: 366\n",
      "Teqo+ijmanohpye,dmpofetev3qtmhqbsip0ojetS dsz oeooén+vl14 - fitness: 365\n",
      "Teqo+ijmanohpye,dmpofetev3qtmhqbsip0oketS dsz oeooén+vl14 - fitness: 364\n",
      "Teqo+ijmanohpye,dmpofetev3qtmhqbsip0oketS dsz oeogén+vl14 - fitness: 356\n",
      "Teqo+ijmanohpye,dmpofetev3qtmhqbsip0oketS dsz oeogén+vl1+ - fitness: 347\n",
      "Teqo+ijmanohpye,dmpofetev3qtmhqasip0oketS dsz oeogén+vl1+ - fitness: 346\n",
      "Teqo+ijmanohpxe,dmpofetjv3qtmhqbsip0oketS dsz oeogén+vl1+ - fitness: 343\n",
      "Teqo+ijmanohpxe,dmpofetjv3qtmhqbscp0oketS dsz oeogén+vl1+ - fitness: 337\n",
      "Teqo+ijmanohpxe,dmpofetjv3qtmhqbscp0oketH dsz oeogén+vl1+ - fitness: 326\n",
      "Teqo+fjmanohpxe,dmpofetjv3qtmhqbscp0oketH dsz oeogén+vl1+ - fitness: 323\n",
      "Teqo+fjmanohpxe,dmpofetjv3qtmhqbscp0XketH dsz oeogén+vl1+ - fitness: 318\n",
      "Teqo+fjmanohpxe,dmpofetjv3qtmhqbscp0fketH dsz oeogén+vl1+ - fitness: 314\n",
      "Teqo+fjmanohpxe,dmmofetjv3qtmhqbscp0fketH dsz oeogén+vl1+ - fitness: 313\n",
      "Teqo+fjmanohpxe,dmmofetjv3qtohqbscp0fketH dsz oeogén+vl1+ - fitness: 311\n",
      "Teqo+fjmanohpxe,dmmofetjv3qtohqbscp0fkgtH dsz oeogén+vl1+ - fitness: 309\n",
      "Teqo+fjmanohpxe,dmmofetjv3ptohqbscp0fkgtH dsz oeogén+vl1+ - fitness: 308\n",
      "Teqs+fjmanohpxe,dmmofetjv3ptohqbscp0fkgtH dsz oeogén+vl1+ - fitness: 306\n",
      "Teqs+fjmanohpxe,dmmofetjv3ptohqbscp0fkgt2 dsz oeogén+vl1+ - fitness: 284\n",
      "Teqs+fjmanohpxe,dmmofetjv3ptohqbscp0fkgt2 asz oeogén+vl1+ - fitness: 281\n",
      "Teqs+fjmanohpxe,dmmufetjv3ptohqbscp0fkgt2 asz oeogén+vl1+ - fitness: 279\n",
      "Weqs+fjmanohpxe,dmmofetjv3ptohqbscp0fkgt2 asz oeogén+vl1+ - fitness: 278\n",
      "Weqs+fjmanohpxe,dmmufetjv3ptohqbscp0fkgt2 asz oeogén+vl1+ - fitness: 276\n",
      "Weqs+fjmanohpxe,dmmufetjv3ptohqbqcp0fkgt2 asz oeogén+vl1+ - fitness: 274\n",
      "Weqs+fjmanohpxe,dmnufetjv3ptohqbqcp0fkgt2 asz oeogén+vl1+ - fitness: 273\n",
      "Weqs+fjmanohpxe,dmnufetjv3ptohsbqcp0fkgt2 asz oetgén+vl1+ - fitness: 272\n",
      "Weqs fjmanohpxe,dmnufetjv3ptohsbqcp0fkgt2 asz oetgén+vl1+ - fitness: 261\n",
      "Weqs+fjmanohpxe,dmnufetjv3ptohsbqcp0fkgt2 asé nergén+vl1+ - fitness: 158\n",
      "Yens+fimanofowe dmnrfetiu ptohrbocp0ckgm+ asç nergçn+vl + - fitness: 85\n",
      "Yens+fimanofowe dmnreetiu ptohrbocp0ckgm+ asç nergçn+vl + - fitness: 84\n",
      "Yens+fimanofowe dpnreetiu ptohrbocp0ckgm+ asç nergçn+vl + - fitness: 83\n",
      "Yens+fimanofowe dpnreetiu ptohrbobp0ckgm+ asç nergçn+vl + - fitness: 82\n",
      "Yens+finanofowe dpnreetiu ptohrbobp0ckgm+ asç nergçn+vl + - fitness: 81\n",
      "Yenr+finanofowe dpnreetiu ptohrbobp0ckgm+ asç nergçn+vl + - fitness: 80\n",
      "Yenr+finanofowe dpnreetiu ptohrbobp ckgm+ asç nergçn+vl + - fitness: 64\n",
      "Yenr+finanofowe dpnreetiu ptohrbmbp ckgm+ asç nergçn+vl + - fitness: 62\n",
      "Yenr+finanofowe dpnreetiu ptohrbmbp ckgp+ asç nergçn+vl + - fitness: 61\n",
      "Yenr+finannfowe dpnreetiu ptohrbmbp ckgp+ asç nergçn+vl + - fitness: 60\n",
      "Yenr+finannfoue dpnreetiu ptohrbmbp ckgp+ asç nergçn+vl + - fitness: 58\n",
      "Yenr+finannfoue dpnrehtiu ptohrbmbp ckgp+ asç nergçn+vl + - fitness: 57\n",
      "Yenr+finannfoue dpnrehtiu ptohrbmbp ckgp+ asç nerdçn+vl + - fitness: 56\n",
      "Yhnr+finannfoue dpnrehtiu ptohrbmbp ckgp+ asç nerdçn+vl + - fitness: 55\n",
      "Yhnr+finannfote dpnrehtiu ptohrbmbp ckgp+ asç nerdçn+vl + - fitness: 54\n",
      "Yhnr+finannfote donrehtiu ptohrbmbp ckgp+ asç nerdçn+vl + - fitness: 53\n",
      "Yhnr+finannfote donrehtiu ptogrbmbp ckgp+ asç nerdçn+vl + - fitness: 52\n",
      "Yhnr+finanmfote donrehtiu ptogrbmbp ckgp+ asç nerdçn+vl + - fitness: 51\n",
      "Yhnr+finanmfote donrehuiu ptogrbmbp ckgp+ asç nerdçn+vl + - fitness: 50\n",
      "Yhnr+finanmfote donrehuiu ptogrbmbp ckgp, asç nerdçn+vl + - fitness: 49\n",
      "Yhor+finanmfote donrehuiu ptogrbmbp ckgp, asç nerdçn+vl + - fitness: 48\n",
      "Yhor+finanmeote donrehuiu ptogrbmbp ckgp, asç nerdçn+vl + - fitness: 47\n",
      "Yhor+finanmeote donrehuiu ptogrambp ckgp, asç nerdçn+vl + - fitness: 46\n",
      "Yhor+finanmeote conrehuiu ptogrbmbp ckgp, asé nerdçn+vl + - fitness: 44\n",
      "Yhor+finanmeote conrehuiu ptogrbmbp ckgo, asé nerdçn+vl + - fitness: 43\n",
      "Yhor+finanmeote conrehuiu ptogrbmbq ckgo, asé nerdçn+vl + - fitness: 42\n",
      "Yhor+finanmente conrehuiu ptogrbmbq ckgo, asé nerdçn+vl + - fitness: 41\n",
      "Yhor+finanmente conrehuiu ptogrbmbq ckgo, asé nerdçn+ul + - fitness: 40\n",
      "Yhor+finakmente conrehuiu ptogrbmbq ckgo, asé nerdçn+ul + - fitness: 39\n",
      "Yhor+finalmente conrehuiu ptogrbmbq ckgo, asé nerdçn+ul + - fitness: 38\n",
      "Yhor+finalmente conrehuiu ptogrbmbq ckgo, asé merdçn+ul + - fitness: 37\n",
      "Yhor+finalmente conrehuiu ptogrambq clgo, asé nerdçn+ul + - fitness: 36\n",
      "Yhor+finalmente conrehuiu ptogrambq akgo, asé nerdço+ul + - fitness: 34\n",
      "Yhor+finalmente conrehuiu ptogrambq algo, asé nerdço+ul + - fitness: 33\n",
      "Yhor+finalmente conrehuiu ptogrambq algo, asé nerdço ul + - fitness: 22\n",
      "Yhor+finalmente conreguiu ptogrambq algo, asé nerdço ul + - fitness: 21\n",
      "Yhor+finalmente conreguiu pqogrambq algo, asé nerdço ul + - fitness: 20\n",
      "Yhor+finalmente conreguiu pqogrambq algo, asé merdço ul + - fitness: 19\n",
      "Yhor+finalmente conreguiu programbq algo, asé merdço ul + - fitness: 18\n",
      "Yhor+finalmente conreguiu programbq algo, asé mereço ul + - fitness: 17\n",
      "Yhor finalmente conreguiu programbq algo, asé mereço ul + - fitness: 6\n",
      "Yhor finalmente conseguiu programbq algo, asé mereço ul + - fitness: 5\n",
      "Ygor finalmente conseguiu programbq algo, asé mereço ul + - fitness: 4\n",
      "Ygor finalmente conseguiu programbr algo, asé mereço ul + - fitness: 3\n",
      "Ygor finalmente conseguiu programbr algo, até mereço un + - fitness: 2\n",
      "Ygor finalmente conseguiu programar algo, até mereço un + - fitness: 1\n",
      "Ygor finalmente conseguiu programar algo, até mereço um + - fitness: 0\n",
      "\n",
      "Melhor palpite da senha encontrado:\n",
      "Ygor finalmente conseguiu programar algo, até mereço um +\n"
     ]
    }
   ],
   "source": [
    "populacao = cria_populacao_inicial(TAMANHO_POP, TAMANHO_SENHA_MAX) # população possivél pelas senhas possíveis\n",
    "\n",
    "melhor_fitness_ja_visto = float('inf') \n",
    "\n",
    "print('Progresso da melhor senha já vista')\n",
    "\n",
    "while melhor_fitness_ja_visto != 0:\n",
    "    \n",
    "     # Seleção                                 Abaixo temos funções iguais as que foram criadas em sala para o problema da senha de tamanho fixo.\n",
    "    fitness = funcao_objetivo_pop(populacao)\n",
    "    populacao = funcao_selecao(populacao, fitness)\n",
    "    \n",
    "    # Cruzamento\n",
    "    pais = populacao[0::2]\n",
    "    maes = populacao[1::2]\n",
    "    \n",
    "    contador = 0\n",
    "    \n",
    "    for pai, mae in zip(pais, maes):\n",
    "        if random.random() <= CHANCE_CRUZAMENTO:\n",
    "            filho1, filho2 = funcao_cruzamento(pai, mae)\n",
    "            populacao[contador] = filho1\n",
    "            populacao[contador + 1] = filho2\n",
    "        \n",
    "        contador = contador + 2   \n",
    "        \n",
    "    # Mutação\n",
    "    for n in range(len(populacao)):\n",
    "        if random.random() <= CHANCE_MUTACAO:\n",
    "            individuo = populacao[n]\n",
    "            populacao[n] = funcao_mutacao(individuo)            \n",
    "            \n",
    "    # melhor individuo já visto até agora\n",
    "    fitness = funcao_objetivo_pop(populacao)\n",
    "    menor_fitness = min(fitness)\n",
    "    if menor_fitness < melhor_fitness_ja_visto:        \n",
    "        posicao = fitness.index(menor_fitness)\n",
    "        melhor_individuo_ja_visto = populacao[posicao]\n",
    "        melhor_fitness_ja_visto = menor_fitness\n",
    "        print(\"\".join(melhor_individuo_ja_visto), \"- fitness:\", melhor_fitness_ja_visto)\n",
    "\n",
    "print()\n",
    "print(\"Melhor palpite da senha encontrado:\")\n",
    "print(\"\".join(melhor_individuo_ja_visto)) # Retorna a senha correta"
   ]
  },
  {
   "cell_type": "markdown",
   "metadata": {},
   "source": [
    "A respeito do código montado, vale destacar que muitas funções foram semelhantes ao experimento 5, todavia, alteraram seus argumentos e novas funções para isso foram criadas."
   ]
  },
  {
   "cell_type": "markdown",
   "metadata": {},
   "source": [
    "<p style='text-align: justify'> Um ponto a dar ênfase é na constante \"PESO\", esta que torna possível a senha ser encontrada (além da mutação e de outros fatores), já que por meio dela que uma senha com quantidades de caracteres que destoam da senha correta sejam percebidas e como consequência \"punidas\". Portanto, essa punição foi determinado e o valor e o grau de crescimento dela é em relação a quantos caracteres essa senha testada está da senha correta, por exemplo, se a senha é \"Ygor\" e a tentativa de senha por acaso é \"Daniel\", o código não irá punir muito devido a distância de apenas 2 caracteres, contudo, caso a senha seja \"Caixão viajante\" devido a essa maior distância sua punição a levara para um lugar mais longe da lista de futuras possíveis tentativas. </p>"
   ]
  },
  {
   "cell_type": "markdown",
   "metadata": {},
   "source": [
    "## Conclusão\n",
    "\n"
   ]
  },
  {
   "cell_type": "markdown",
   "metadata": {},
   "source": [
    "<p style='text-align: justify'> Mediante ao problema apresentado que é da senha de tamanho variável, este que o computador não tem conhecimento do tamanho da senha e mesmo com essa problemática o objetivo é encontrar a senha desejada. Pode-se afirmar, então, que o experimento foi concluído com sucesso, já que usando funções semelhantes ao experimento 5 só que alteradas e criando um modo de \"punir\" as palavras com quantidade de caracteres errados, estes que a punição varia conforme o desvio em relação a senha correta, punição essa que está estabelecida como constante. Desse modo, alterando alguns argumentos e estabelecendo a senha correta, após executar todo o código a senha foi encontrada corretamente, conforme foi proposto. Ademais, cabe salientar a respeito desse método, que o tempo de execução não foi grande, considerando o limite estabelecido de caracteres como (100) para ele não rodar até travar, o tempo em relação a todas as possibilidades e ao tamanho dessa senha com a quantidade de caracteres possíveis, foi relativamente rápido, em média menos de trinta segundos. </p>\n"
   ]
  },
  {
   "cell_type": "markdown",
   "metadata": {},
   "source": [
    "## Playground\n",
    "\n"
   ]
  },
  {
   "cell_type": "markdown",
   "metadata": {},
   "source": [
    "Todo código de teste que não faz parte do seu experimento deve vir aqui. Este código não será considerado na avaliação.\n",
    "\n"
   ]
  },
  {
   "cell_type": "code",
   "execution_count": null,
   "metadata": {},
   "outputs": [],
   "source": []
  }
 ],
 "metadata": {
  "kernelspec": {
   "display_name": "ilumpy",
   "language": "python",
   "name": "ilumpy"
  },
  "language_info": {
   "codemirror_mode": {
    "name": "ipython",
    "version": 3
   },
   "file_extension": ".py",
   "mimetype": "text/x-python",
   "name": "python",
   "nbconvert_exporter": "python",
   "pygments_lexer": "ipython3",
   "version": "3.9.7"
  },
  "org": null
 },
 "nbformat": 4,
 "nbformat_minor": 4
}
