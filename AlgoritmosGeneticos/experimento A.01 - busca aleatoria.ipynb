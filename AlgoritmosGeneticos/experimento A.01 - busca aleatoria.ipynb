{
 "cells": [
  {
   "cell_type": "markdown",
   "metadata": {},
   "source": [
    "Busca aleatória\n",
    "===============\n",
    "\n"
   ]
  },
  {
   "cell_type": "markdown",
   "metadata": {},
   "source": [
    "## Introdução\n",
    "\n"
   ]
  },
  {
   "cell_type": "markdown",
   "metadata": {},
   "source": [
    "Uma forma simples de se encontrar uma solução para um `problema de otimização` é realizando uma `busca aleatória`. A busca aleatória, como o próprio nome sugere, é um algoritmo onde um certo `espaço de busca` é definido de onde sorteamos `candidatos` de soluções para o problema.\n",
    "\n",
    "Diferentemente de outros algoritmos de otimização, a busca aleatória não requer que a `função objetivo` seja diferenciável nem contínua.\n",
    "\n",
    "Um algoritmo de busca aleatória segue os seguintes passos:\n",
    "\n",
    "1.  Um espaço de busca é definido\n",
    "\n",
    "2.  Um candidato $x$ dentro do espaço de busca é sorteado aleatoriamente\n",
    "\n",
    "3.  Calculamos o resultado da função objetivo para o candidato $x$\n",
    "\n",
    "4.  Se o critério de parada for atingido, encerrar o algoritmo e retornar ao usuário o candidato que teve melhor resultado durante a busca. Do contrário, retorne ao passo 2\n",
    "\n"
   ]
  },
  {
   "cell_type": "markdown",
   "metadata": {},
   "source": [
    "## Reflexões\n",
    "\n"
   ]
  },
  {
   "cell_type": "markdown",
   "metadata": {},
   "source": [
    "Você diria que o algoritmo de busca aleatória é determinístico ou probabilístico?\n",
    "\n",
    "- Probabilístico, haja vista que nem sempre o melhor indivíduo é encontrado.\n",
    "\n",
    "Em quais problemas de otimização você acredita que este algoritmo seja uma boa escolha?\n",
    "\n",
    "- Em problemas onde não necessáriamente o melhor indivíduo é necessário e sim um indivíduo melhor que os anteriores, levando em conta uma busca curta para que não demande muito computacionalmente, além disso, com o objetivo dependendo principalmente do resultado e não do custo, uma busca de maiores indivíduas para que a busca aleatória seja mais efetiva.\n",
    "\n",
    "Em quais problemas de otimização você acredita que este algoritmo seja uma má escolha?\n",
    "\n",
    "- Problemas os quai o número de possíveis respostas é pequeno. Assim, a alatóriedade dificilmente obteria um bom resultado para maximização, tornando os algoritmos determinísticos mais eficientes em problemas como esse. "
   ]
  },
  {
   "cell_type": "markdown",
   "metadata": {},
   "source": [
    "## Objetivo\n",
    "\n"
   ]
  },
  {
   "cell_type": "markdown",
   "metadata": {},
   "source": [
    "Encontrar uma solução para o problema das caixas binárias usando o algoritmo de busca aleatória. Considere 4 caixas.\n",
    "\n"
   ]
  },
  {
   "cell_type": "markdown",
   "metadata": {},
   "source": [
    "## Descrição do problema\n",
    "\n"
   ]
  },
  {
   "cell_type": "markdown",
   "metadata": {},
   "source": [
    "O problema das caixas binárias é simples: nós temos um certo número de caixas e cada uma pode conter um valor do conjunto $\\{0, 1\\}$. O objetivo é encontrar uma combinação de caixas onde a soma dos valores contidos dentro delas é máximo.\n",
    "\n",
    "Como todo problema computacional, um dos desafios é &ldquo;traduzir&rdquo; o problema dado em estruturas computacionais.\n",
    "\n"
   ]
  },
  {
   "cell_type": "markdown",
   "metadata": {},
   "source": [
    "## Importações\n",
    "\n"
   ]
  },
  {
   "cell_type": "code",
   "execution_count": 1,
   "metadata": {},
   "outputs": [],
   "source": [
    "import random"
   ]
  },
  {
   "cell_type": "markdown",
   "metadata": {},
   "source": [
    "## Códigos e discussão\n",
    "\n"
   ]
  },
  {
   "cell_type": "code",
   "execution_count": 2,
   "metadata": {},
   "outputs": [],
   "source": [
    "def gene_cb():\n",
    "    \"\"\"Fornece um gene válido ao problema das caixas binárias\n",
    "    Return:\n",
    "        Um valor zero ou um.\n",
    "    \"\"\"\n",
    "    lista = [0,1]\n",
    "    gene = random.choice(lista)\n",
    "    return gene\n",
    "def individuo_cb(n):\n",
    "    \"\"\"Gera um individuo ao problema das caixas binárias.\n",
    "    Args:\n",
    "        n: número de genes do indivíduo.\n",
    "    Return:\n",
    "        Uma lista com n genes. Cada gene é um valor zero ou um.\n",
    "    \"\"\"\n",
    "    individuo = []\n",
    "    for i in range(n):\n",
    "        gene = gene_cb()\n",
    "        individuo.append(gene)\n",
    "    return individuo\n",
    "def funcao_objetivo_cb(individuo):\n",
    "    \"\"\"Computa a função objetivo no problema das caixas binárias.\n",
    "    Args:\n",
    "        indivíduo: lista contendo os genes das caixas binárias.\n",
    "    Return:\n",
    "        A soma dos genes do indivíduo.\n",
    "    \"\"\"\n",
    "    return sum(individuo)"
   ]
  },
  {
   "cell_type": "markdown",
   "metadata": {},
   "source": [
    "Aqui foram definidas funções como: `gene_cb`,  `individuo_cb` e `funcao_objetivo_cb` às quais futuramente foram armazenadas em funcoes.py"
   ]
  },
  {
   "cell_type": "code",
   "execution_count": 3,
   "metadata": {},
   "outputs": [],
   "source": [
    "#constantes\n",
    "NUM_CANDIDATOS = 16\n",
    "NUM_GENES = 4"
   ]
  },
  {
   "cell_type": "code",
   "execution_count": 8,
   "metadata": {},
   "outputs": [
    {
     "name": "stdout",
     "output_type": "stream",
     "text": [
      "[0, 1, 1, 1] 3\n",
      "[1, 0, 1, 0] 2\n",
      "[0, 0, 0, 0] 0\n",
      "[0, 1, 0, 0] 1\n",
      "[1, 0, 0, 1] 2\n",
      "[1, 0, 0, 1] 2\n",
      "[1, 0, 0, 1] 2\n",
      "[0, 0, 1, 0] 1\n",
      "[1, 1, 1, 1] 4\n",
      "[1, 1, 0, 1] 3\n",
      "[1, 1, 1, 1] 4\n",
      "[0, 0, 0, 1] 1\n",
      "[1, 1, 0, 1] 3\n",
      "[1, 0, 1, 1] 3\n",
      "[0, 1, 1, 0] 2\n",
      "[0, 1, 1, 0] 2\n"
     ]
    }
   ],
   "source": [
    "for n in range(NUM_CANDIDATOS):\n",
    "    candidato = individuo_cb(NUM_GENES)\n",
    "    fobj = funcao_objetivo_cb(candidato)\n",
    "    print(candidato, fobj)"
   ]
  },
  {
   "cell_type": "markdown",
   "metadata": {},
   "source": [
    "## Conclusão\n",
    "\n"
   ]
  },
  {
   "cell_type": "markdown",
   "metadata": {},
   "source": [
    "<p style='text-align: justify'> Por meio desse resultado obtido, conclui-se que o objetivo foi alcançado, onde ele corresponde a encontrar uma solução para o problema das caixas binárias usando o algoritmo de busca aleatória, nesse caso, 4 caixas. Portanto, por meio da função estabelecida foi possivel chegar a esse valor usando (NUM_CANDIDATOS = 16), contudo, esse método pode ser otimizado, pois o resultado é aleatorio e pode aparecer o mesmo mais de uma vez. \n",
    "\n",
    "Assim, o resultado obtido é condizente com o que foi proposto para esse problema, sendo que, o resultado é probabilístico, então, nem sempre a melhor resposta será encontrada encontrada. Portanto, quanto maior o NUM_CANDIDATOS maior será a chande, contudo, maior será o custo computacional.</p>\n"
   ]
  },
  {
   "cell_type": "markdown",
   "metadata": {},
   "source": [
    "## Playground\n",
    "\n"
   ]
  },
  {
   "cell_type": "code",
   "execution_count": null,
   "metadata": {},
   "outputs": [],
   "source": []
  }
 ],
 "metadata": {
  "kernelspec": {
   "display_name": "ilumpy",
   "language": "python",
   "name": "ilumpy"
  },
  "language_info": {
   "codemirror_mode": {
    "name": "ipython",
    "version": 3
   },
   "file_extension": ".py",
   "mimetype": "text/x-python",
   "name": "python",
   "nbconvert_exporter": "python",
   "pygments_lexer": "ipython3",
   "version": "3.9.7"
  },
  "org": null
 },
 "nbformat": 4,
 "nbformat_minor": 4
}
