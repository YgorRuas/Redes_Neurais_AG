{
 "cells": [
  {
   "cell_type": "markdown",
   "metadata": {},
   "source": [
    "Caixeiro com gasolina infinita\n",
    "========================================\n",
    "\n"
   ]
  },
  {
   "cell_type": "markdown",
   "metadata": {},
   "source": [
    "## Introdução\n",
    "\n"
   ]
  },
  {
   "cell_type": "markdown",
   "metadata": {},
   "source": [
    "Muito semelhante ao experimento A.06, contudo, ao invez de ser um problema de minimização, este é de maximização, já que o caixeiro viajante é contra as políticas ambientais, e sembre busca a maior distãncia entre as cidades, seguindo um caminho que consome muita gasolina. \n",
    "\n"
   ]
  },
  {
   "cell_type": "markdown",
   "metadata": {},
   "source": [
    "## Objetivo\n",
    "\n"
   ]
  },
  {
   "cell_type": "markdown",
   "metadata": {},
   "source": [
    "Encontrar o caminho de *maior* distância no problema do caixeiro viajante e mostrar ele de forma gráfica.\n",
    "\n",
    "**Considerações do experimento**: Considere um número $n\\geq7$ de coordenadas $(x,y)$ de cidades e que o caixeiro tenha combustível infinito. Você pode gerar as coordenadas de forma aleatória ou simplesmente usar as coordenadas que desejar. O caixeiro só anda em linha reta e apenas entre duas cidades. O caixeiro começa e termina seu trajeto na mesma cidade e, fora a cidade inicial, ele não visita nenhuma outra cidade mais de uma vez.\n",
    "\n"
   ]
  },
  {
   "cell_type": "markdown",
   "metadata": {},
   "source": [
    "## Importações\n",
    "\n"
   ]
  },
  {
   "cell_type": "markdown",
   "metadata": {},
   "source": [
    "Todos os comandos de `import` devem estar dentro desta seção.\n",
    "\n"
   ]
  },
  {
   "cell_type": "code",
   "execution_count": 1,
   "metadata": {
    "tags": []
   },
   "outputs": [],
   "source": [
    "import networkx as nx\n",
    "import matplotlib.pyplot as plt\n",
    "import random\n",
    "from itertools import permutations\n",
    "\n",
    "import graphviz\n",
    "from collections import deque\n",
    "\n",
    "from funcoes import cria_cidades\n",
    "\n",
    "from funcoes import populacao_inicial_cv as cria_populacao_inicial\n",
    "from funcoes import funcao_objetivo_pop_cv\n",
    "from funcoes import selecao_torneio_max \n",
    "from funcoes import cruzamento_ordenado as funcao_cruzamento\n",
    "from funcoes import mutacao_de_troca as funcao_mutacao\n",
    "\n",
    "from funcoes import funcao_objetivo_cv_gasolina_inf as funcao_objetivo_individuo \n",
    "\n",
    "from time import perf_counter as pf"
   ]
  },
  {
   "cell_type": "markdown",
   "metadata": {},
   "source": [
    "## Códigos e discussão\n",
    "\n"
   ]
  },
  {
   "cell_type": "code",
   "execution_count": 2,
   "metadata": {},
   "outputs": [],
   "source": [
    "### CONSTANTES\n",
    "\n",
    "# relacionadas à busca \n",
    "# Os seguintes valores são exatamente os mesmos usados no experimento do caixeiro viajante. \n",
    "TAMANHO_POP = 50\n",
    "NUM_GERACOES = 1000\n",
    "CHANCE_CRUZAMENTO = 0.5\n",
    "CHANCE_MUTACAO = 0.05\n",
    "NUM_COMBATENTES_NO_TORNEIO = 3\n",
    "\n",
    "# relacionadas ao problema a ser resolvido\n",
    "NUMERO_DE_CIDADES = 7 # Apenas o número de cidades que muda para cumprir com os objetivos do experimento\n",
    "CIDADES = cria_cidades(NUMERO_DE_CIDADES)\n"
   ]
  },
  {
   "cell_type": "code",
   "execution_count": 3,
   "metadata": {},
   "outputs": [],
   "source": [
    "# Funções locais\n",
    "\n",
    "def funcao_objetivo_pop(populacao):\n",
    "    return funcao_objetivo_pop_cv(populacao, CIDADES)\n",
    "\n",
    "def funcao_selecao(populacao, fitness):\n",
    "    return selecao_torneio_max(populacao, fitness, NUM_COMBATENTES_NO_TORNEIO)"
   ]
  },
  {
   "cell_type": "markdown",
   "metadata": {},
   "source": [
    "Abaixo temos o mesmo código usado no experimento A.06"
   ]
  },
  {
   "cell_type": "code",
   "execution_count": 4,
   "metadata": {
    "tags": []
   },
   "outputs": [],
   "source": [
    "# Busca por algoritmo genético\n",
    "\n",
    "start_algoritmo = pf()\n",
    "\n",
    "populacao = cria_populacao_inicial(TAMANHO_POP, CIDADES)\n",
    "\n",
    "melhor_fitness_ja_visto = -float(\"inf\")\n",
    "\n",
    "for n in range(NUM_GERACOES):\n",
    "    \n",
    "    # Seleção\n",
    "    fitness = funcao_objetivo_pop(populacao)\n",
    "    populacao = funcao_selecao(populacao, fitness)\n",
    "    \n",
    "    # Cruzamento\n",
    "    pais = populacao[0::2]\n",
    "    maes = populacao[1::2]\n",
    "    \n",
    "    contador = 0\n",
    "    \n",
    "    for pai, mae in zip(pais, maes):\n",
    "        if random.random() <= CHANCE_CRUZAMENTO:\n",
    "            filho1, filho2 = funcao_cruzamento(pai, mae)\n",
    "            populacao[contador] = filho1\n",
    "            populacao[contador + 1] = filho2\n",
    "        \n",
    "        contador = contador + 2   \n",
    "        \n",
    "    # Mutação\n",
    "    for n in range(len(populacao)):\n",
    "        if random.random() <= CHANCE_MUTACAO:\n",
    "            individuo = populacao[n]\n",
    "            populacao[n] = funcao_mutacao(individuo)            \n",
    "            \n",
    "    # melhor individuo já visto até agora\n",
    "    fitness = funcao_objetivo_pop(populacao)\n",
    "    maior_fitness = max(fitness)\n",
    "    if maior_fitness > melhor_fitness_ja_visto:        \n",
    "        posicao = fitness.index(maior_fitness)\n",
    "        melhor_individuo_ja_visto = populacao[posicao]\n",
    "        melhor_fitness_ja_visto = maior_fitness    \n",
    "    \n",
    "fim_algoritmo = pf()"
   ]
  },
  {
   "cell_type": "markdown",
   "metadata": {},
   "source": [
    "Para comprovar que o método usando de busca por algoritmo genético resulta no melhor resultado possível, então, realizamos uma busca por exaustão para ter a certeza de que os resultados são condizentes, já que todos os caminhos serão analisados."
   ]
  },
  {
   "cell_type": "code",
   "execution_count": 5,
   "metadata": {},
   "outputs": [],
   "source": [
    "# Busca testando todas as permutações\n",
    "\n",
    "melhor_fitness_exaustao = -float(\"inf\")\n",
    "\n",
    "inicio_all = pf()\n",
    "\n",
    "# testando todas as permutações possíveis\n",
    "for caminho in permutations(list(CIDADES.keys())):\n",
    "    caminho = list(caminho)\n",
    "    distancia = funcao_objetivo_individuo(caminho, CIDADES)\n",
    "    if distancia > melhor_fitness_exaustao:\n",
    "        melhor_fitness_exaustao = distancia\n",
    "        melhor_resposta_exaustao = caminho\n",
    "\n",
    "fim_all = pf()"
   ]
  },
  {
   "cell_type": "code",
   "execution_count": 6,
   "metadata": {},
   "outputs": [
    {
     "name": "stdout",
     "output_type": "stream",
     "text": [
      "\n",
      "Melhor caminho das cidades obtido por algoritmos genéticos:\n",
      "['Cidade 4', 'Cidade 0', 'Cidade 3', 'Cidade 2', 'Cidade 5', 'Cidade 6', 'Cidade 1'] com a distância de: 3.2848248075986763 em 0.5159637000000004 segundos\n",
      "\n",
      "Melhor caminho das cidades obtido por busca exaustiva:\n",
      "['Cidade 3', 'Cidade 0', 'Cidade 4', 'Cidade 2', 'Cidade 5', 'Cidade 6', 'Cidade 1'] com a distância de: 3.2848248075986763 em 0.02067850000000071 segundos\n"
     ]
    }
   ],
   "source": [
    "# Checando os resultados\n",
    "\n",
    "print()\n",
    "print(\"Melhor caminho das cidades obtido por algoritmos genéticos:\")\n",
    "print(melhor_individuo_ja_visto, \"com a distância de:\", melhor_fitness_ja_visto, f'em {fim_algoritmo-start_algoritmo} segundos')\n",
    "\n",
    "print()\n",
    "print(\"Melhor caminho das cidades obtido por busca exaustiva:\")\n",
    "print(melhor_resposta_exaustao, \"com a distância de:\", melhor_fitness_exaustao, f'em {fim_all-inicio_all} segundos')"
   ]
  },
  {
   "cell_type": "markdown",
   "metadata": {},
   "source": [
    "É retornado o caminho das cidades, e conforme os objetivos, nenhuma cidade foi repetida. Além disso, por meio da função objetivo temos o desejado, junto da seleção, esta que busca uma maximização dada pela `selecao_torneio_max`. Então é possível visualizar que os resultados são condizentes, haja vista que a sistancia de ambos os métodos são iguais e junto a eles temos o dempo que o código demorou para processar. Uma observação importante é que de forma um pouco contra intuitiva, o método de exaustão foi mais rápido do que o de algoritmo genético, e isso se dá pela quantidade de cidades do problema, onde o número de possíbilidades vai aumentando de forma fatorial, assim, também foi realizado usando `NUMERO_DE_CIDADES` = 10 e o tempo obtido foi cerca de 100 segundos."
   ]
  },
  {
   "cell_type": "code",
   "execution_count": 7,
   "metadata": {
    "tags": []
   },
   "outputs": [
    {
     "data": {
      "image/svg+xml": [
       "<?xml version=\"1.0\" encoding=\"UTF-8\" standalone=\"no\"?>\n",
       "<!DOCTYPE svg PUBLIC \"-//W3C//DTD SVG 1.1//EN\"\n",
       " \"http://www.w3.org/Graphics/SVG/1.1/DTD/svg11.dtd\">\n",
       "<!-- Generated by graphviz version 6.0.2 (20221011.1828)\n",
       " -->\n",
       "<!-- Pages: 1 -->\n",
       "<svg width=\"834pt\" height=\"72pt\"\n",
       " viewBox=\"0.00 0.00 833.65 72.00\" xmlns=\"http://www.w3.org/2000/svg\" xmlns:xlink=\"http://www.w3.org/1999/xlink\">\n",
       "<g id=\"graph0\" class=\"graph\" transform=\"scale(1 1) rotate(0) translate(4 68)\">\n",
       "<polygon fill=\"white\" stroke=\"none\" points=\"-4,4 -4,-68 829.65,-68 829.65,4 -4,4\"/>\n",
       "<!-- Cidade 4 -->\n",
       "<g id=\"node1\" class=\"node\">\n",
       "<title>Cidade 4</title>\n",
       "<ellipse fill=\"none\" stroke=\"black\" cx=\"43.55\" cy=\"-23\" rx=\"43.59\" ry=\"18\"/>\n",
       "<text text-anchor=\"middle\" x=\"43.55\" y=\"-19.3\" font-family=\"Times New Roman,serif\" font-size=\"14.00\">Cidade 4</text>\n",
       "</g>\n",
       "<!-- Cidade 0 -->\n",
       "<g id=\"node2\" class=\"node\">\n",
       "<title>Cidade 0</title>\n",
       "<ellipse fill=\"none\" stroke=\"black\" cx=\"166.64\" cy=\"-46\" rx=\"43.59\" ry=\"18\"/>\n",
       "<text text-anchor=\"middle\" x=\"166.64\" y=\"-42.3\" font-family=\"Times New Roman,serif\" font-size=\"14.00\">Cidade 0</text>\n",
       "</g>\n",
       "<!-- Cidade 4&#45;&gt;Cidade 0 -->\n",
       "<g id=\"edge1\" class=\"edge\">\n",
       "<title>Cidade 4&#45;&gt;Cidade 0</title>\n",
       "<path fill=\"none\" stroke=\"black\" d=\"M83.53,-30.4C94.11,-32.41 105.71,-34.62 116.77,-36.72\"/>\n",
       "<polygon fill=\"black\" stroke=\"black\" points=\"116.25,-40.18 126.73,-38.61 117.56,-33.31 116.25,-40.18\"/>\n",
       "</g>\n",
       "<!-- Cidade 3 -->\n",
       "<g id=\"node3\" class=\"node\">\n",
       "<title>Cidade 3</title>\n",
       "<ellipse fill=\"none\" stroke=\"black\" cx=\"289.73\" cy=\"-46\" rx=\"43.59\" ry=\"18\"/>\n",
       "<text text-anchor=\"middle\" x=\"289.73\" y=\"-42.3\" font-family=\"Times New Roman,serif\" font-size=\"14.00\">Cidade 3</text>\n",
       "</g>\n",
       "<!-- Cidade 0&#45;&gt;Cidade 3 -->\n",
       "<g id=\"edge2\" class=\"edge\">\n",
       "<title>Cidade 0&#45;&gt;Cidade 3</title>\n",
       "<path fill=\"none\" stroke=\"black\" d=\"M210.33,-46C218.56,-46 227.27,-46 235.78,-46\"/>\n",
       "<polygon fill=\"black\" stroke=\"black\" points=\"236.02,-49.5 246.02,-46 236.02,-42.5 236.02,-49.5\"/>\n",
       "</g>\n",
       "<!-- Cidade 2 -->\n",
       "<g id=\"node4\" class=\"node\">\n",
       "<title>Cidade 2</title>\n",
       "<ellipse fill=\"none\" stroke=\"black\" cx=\"412.82\" cy=\"-46\" rx=\"43.59\" ry=\"18\"/>\n",
       "<text text-anchor=\"middle\" x=\"412.82\" y=\"-42.3\" font-family=\"Times New Roman,serif\" font-size=\"14.00\">Cidade 2</text>\n",
       "</g>\n",
       "<!-- Cidade 3&#45;&gt;Cidade 2 -->\n",
       "<g id=\"edge3\" class=\"edge\">\n",
       "<title>Cidade 3&#45;&gt;Cidade 2</title>\n",
       "<path fill=\"none\" stroke=\"black\" d=\"M333.42,-46C341.65,-46 350.37,-46 358.88,-46\"/>\n",
       "<polygon fill=\"black\" stroke=\"black\" points=\"359.11,-49.5 369.11,-46 359.11,-42.5 359.11,-49.5\"/>\n",
       "</g>\n",
       "<!-- Cidade 5 -->\n",
       "<g id=\"node5\" class=\"node\">\n",
       "<title>Cidade 5</title>\n",
       "<ellipse fill=\"none\" stroke=\"black\" cx=\"535.92\" cy=\"-46\" rx=\"43.59\" ry=\"18\"/>\n",
       "<text text-anchor=\"middle\" x=\"535.92\" y=\"-42.3\" font-family=\"Times New Roman,serif\" font-size=\"14.00\">Cidade 5</text>\n",
       "</g>\n",
       "<!-- Cidade 2&#45;&gt;Cidade 5 -->\n",
       "<g id=\"edge4\" class=\"edge\">\n",
       "<title>Cidade 2&#45;&gt;Cidade 5</title>\n",
       "<path fill=\"none\" stroke=\"black\" d=\"M456.52,-46C464.75,-46 473.46,-46 481.97,-46\"/>\n",
       "<polygon fill=\"black\" stroke=\"black\" points=\"482.2,-49.5 492.2,-46 482.2,-42.5 482.2,-49.5\"/>\n",
       "</g>\n",
       "<!-- Cidade 6 -->\n",
       "<g id=\"node6\" class=\"node\">\n",
       "<title>Cidade 6</title>\n",
       "<ellipse fill=\"none\" stroke=\"black\" cx=\"659.01\" cy=\"-46\" rx=\"43.59\" ry=\"18\"/>\n",
       "<text text-anchor=\"middle\" x=\"659.01\" y=\"-42.3\" font-family=\"Times New Roman,serif\" font-size=\"14.00\">Cidade 6</text>\n",
       "</g>\n",
       "<!-- Cidade 5&#45;&gt;Cidade 6 -->\n",
       "<g id=\"edge5\" class=\"edge\">\n",
       "<title>Cidade 5&#45;&gt;Cidade 6</title>\n",
       "<path fill=\"none\" stroke=\"black\" d=\"M579.61,-46C587.84,-46 596.55,-46 605.06,-46\"/>\n",
       "<polygon fill=\"black\" stroke=\"black\" points=\"605.29,-49.5 615.29,-46 605.29,-42.5 605.29,-49.5\"/>\n",
       "</g>\n",
       "<!-- Cidade 1 -->\n",
       "<g id=\"node7\" class=\"node\">\n",
       "<title>Cidade 1</title>\n",
       "<ellipse fill=\"none\" stroke=\"black\" cx=\"782.1\" cy=\"-23\" rx=\"43.59\" ry=\"18\"/>\n",
       "<text text-anchor=\"middle\" x=\"782.1\" y=\"-19.3\" font-family=\"Times New Roman,serif\" font-size=\"14.00\">Cidade 1</text>\n",
       "</g>\n",
       "<!-- Cidade 6&#45;&gt;Cidade 1 -->\n",
       "<g id=\"edge6\" class=\"edge\">\n",
       "<title>Cidade 6&#45;&gt;Cidade 1</title>\n",
       "<path fill=\"none\" stroke=\"black\" d=\"M698.99,-38.6C709.58,-36.59 721.17,-34.38 732.23,-32.28\"/>\n",
       "<polygon fill=\"black\" stroke=\"black\" points=\"733.02,-35.69 742.19,-30.39 731.71,-28.82 733.02,-35.69\"/>\n",
       "</g>\n",
       "<!-- Cidade 1&#45;&gt;Cidade 4 -->\n",
       "<g id=\"edge7\" class=\"edge\">\n",
       "<title>Cidade 1&#45;&gt;Cidade 4</title>\n",
       "<path fill=\"none\" stroke=\"black\" d=\"M741.02,-16.9C692.74,-10.08 609.09,0 536.92,0 288.73,0 288.73,0 288.73,0 221.35,0 143.97,-8.79 94.7,-15.5\"/>\n",
       "<polygon fill=\"black\" stroke=\"black\" points=\"94.05,-12.06 84.62,-16.9 95.01,-18.99 94.05,-12.06\"/>\n",
       "</g>\n",
       "</g>\n",
       "</svg>\n"
      ],
      "text/plain": [
       "<graphviz.graphs.Digraph at 0x166f995de80>"
      ]
     },
     "execution_count": 7,
     "metadata": {},
     "output_type": "execute_result"
    }
   ],
   "source": [
    "# OBS: Essa forma de plotar o gráfico do caminho percorrido, foi feito com a ajuda do João Pedro, aluno da Ilum, a referência não está nesse notebook, já que não foi retirada de outro meio.\n",
    "\n",
    "Caminho_das_cidades_algoritmos_genéticos = graphviz.Digraph(format='svg', graph_attr={'rankdir': 'LR'})\n",
    "\n",
    "for node in melhor_individuo_ja_visto:\n",
    "    Caminho_das_cidades_algoritmos_genéticos.node(node, node)\n",
    "\n",
    "individuo_copy = deque(melhor_individuo_ja_visto)\n",
    "individuo_copy.rotate(-1)\n",
    "    \n",
    "for ini, che in zip(melhor_individuo_ja_visto, individuo_copy):\n",
    "    Caminho_das_cidades_algoritmos_genéticos.edge(ini, che)\n",
    "\n",
    "Caminho_das_cidades_algoritmos_genéticos"
   ]
  },
  {
   "cell_type": "markdown",
   "metadata": {},
   "source": [
    "Assim mostrando de forma gráfica, por meio de um grafo como foi o caminho percorrido e condizendo com osdados do código anterior."
   ]
  },
  {
   "cell_type": "code",
   "execution_count": 8,
   "metadata": {},
   "outputs": [
    {
     "data": {
      "image/png": "[encoded data removed]",
      "text/plain": [
       "<Figure size 432x288 with 1 Axes>"
      ]
     },
     "metadata": {
      "needs_background": "light"
     },
     "output_type": "display_data"
    }
   ],
   "source": [
    "def plotTSP(path, points, num_iters=1):\n",
    "\n",
    "    \"\"\"\n",
    "    path: List of lists with the different orders in which the nodes are visited\n",
    "    points: coordinates for the different nodes\n",
    "    num_iters: number of paths that are in the path list\n",
    "    \n",
    "    \"\"\"\n",
    "\n",
    "    # Unpack the primary TSP path and transform it into a list of ordered \n",
    "    # coordinates\n",
    "\n",
    "    x = []; y = []\n",
    "    for i in paths[0]:\n",
    "        x.append(points[i][0])\n",
    "        y.append(points[i][1])\n",
    "    \n",
    "    plt.plot(x, y, 'co')\n",
    "\n",
    "    # Set a scale for the arrow heads (there should be a reasonable default for this, WTF?)\n",
    "    a_scale = float(max(x))/float(100)\n",
    "\n",
    "    # Draw the older paths, if provided\n",
    "    if num_iters > 1:\n",
    "\n",
    "        for i in range(1, num_iters):\n",
    "\n",
    "            # Transform the old paths into a list of coordinates\n",
    "            xi = []; yi = [];\n",
    "            for j in paths[i]:\n",
    "                xi.append(points[j][0])\n",
    "                yi.append(points[j][1])\n",
    "\n",
    "            plt.arrow(xi[-1], yi[-1], (xi[0] - xi[-1]), (yi[0] - yi[-1]), \n",
    "                    head_width = a_scale, color = 'r', \n",
    "                    length_includes_head = True, ls = 'dashed',\n",
    "                    width = 0.001/float(num_iters))\n",
    "            for i in range(0, len(x) - 1):\n",
    "                plt.arrow(xi[i], yi[i], (xi[i+1] - xi[i]), (yi[i+1] - yi[i]),\n",
    "                        head_width = a_scale, color = 'r', length_includes_head = True,\n",
    "                        ls = 'dashed', width = 0.001/float(num_iters))\n",
    "\n",
    "    # Draw the primary path for the TSP problem\n",
    "    plt.arrow(x[-1], y[-1], (x[0] - x[-1]), (y[0] - y[-1]), head_width = a_scale, \n",
    "            color ='g', length_includes_head=True)\n",
    "    for i in range(0,len(x)-1):\n",
    "        plt.arrow(x[i], y[i], (x[i+1] - x[i]), (y[i+1] - y[i]), head_width = a_scale,\n",
    "                color = 'g', length_includes_head = True)\n",
    "\n",
    "    #Set axis too slitghtly larger than the set of x and y\n",
    "    plt.xlim(0, max(x)*1.1)\n",
    "    plt.ylim(0, max(y)*1.1)\n",
    "    plt.show()\n",
    "\n",
    "\n",
    "if __name__ == '__main__':\n",
    "    # Run an example\n",
    "    \n",
    "    # Create a randomn list of coordinates, pack them into a list\n",
    "    x_cor = [1, 12, 2, 9, 17, 22, 8]\n",
    "    y_cor = [1, 21, 6, 34, 9, 31, 7]\n",
    "    points = []\n",
    "    for i in range(0, len(x_cor)):\n",
    "        points.append((x_cor[i], y_cor[i]))\n",
    "\n",
    "    # Create two paths, teh second with two values swapped to simulate a 2-OPT\n",
    "    # Local Search operation\n",
    "    path0 = [0, 1, 2, 3, 4, 5, 6]\n",
    "    path1 = [0, 2, 1, 3, 4, 5, 6]\n",
    "    path2 = [0, 2, 1, 3, 6, 5, 4]\n",
    "    path3 = [0, 2, 1, 3, 6, 4, 5]\n",
    "    path4 = [0, 2, 1, 3, 6, 4, 5]\n",
    "    path5 = [0, 2, 1, 3, 6, 4, 5]\n",
    "    path6 = [0, 2, 1, 3, 6, 4, 8]\n",
    "\n",
    "    # Pack the paths into a list\n",
    "    paths = [path0, path1, path2, path3, path4, path5, path6]\n",
    "    \n",
    "    # Run the function\n",
    "    plotTSP(paths, points, 1)"
   ]
  },
  {
   "cell_type": "markdown",
   "metadata": {},
   "source": [
    "Código usado da sehuinte fonte [2]. Preferi não alterar as docstrings e manter a original do autor, assim mudando apenas os valores usados para obter um gráfico desejado com as cordenadas (x,y)."
   ]
  },
  {
   "cell_type": "markdown",
   "metadata": {},
   "source": [
    "### Curiosidade:"
   ]
  },
  {
   "cell_type": "markdown",
   "metadata": {},
   "source": [
    "Achei bem interessante o seguinte Gif [1], que apresenta todos os caminhos em uma busca por exaustão, onde o sistema possui 7 cidades, assim como no exemplo realizado nesse experimento. Além disso, nota-se que úmero de permutações é: (7−1)!/2 = 360. "
   ]
  },
  {
   "cell_type": "markdown",
   "metadata": {},
   "source": [
    "<center>\n",
    "<img src='./TSP_Gif.gif' style=\"width:900px;height:400px\"/>\n",
    "</center>"
   ]
  },
  {
   "cell_type": "markdown",
   "metadata": {},
   "source": [
    "## Observações"
   ]
  },
  {
   "cell_type": "markdown",
   "metadata": {},
   "source": [
    "Esse é o segundo experimento que estou realizando da lista de experimentos de **Algoritmos Géneticos**."
   ]
  },
  {
   "cell_type": "markdown",
   "metadata": {},
   "source": [
    "## Conclusão\n",
    "\n"
   ]
  },
  {
   "cell_type": "markdown",
   "metadata": {},
   "source": [
    "O objetivo do **experimento GA.03** é encontrar a solução para o problema do caixeiro viajante com gasolina infinita e mostrar seu caminho de maneira gráfica. \n",
    "Desse modo, diferente do **experimento A.06** onde era de minimização, este é de maximização e para isso, funções como `selecao_torneio_max` foram utilizadas para que fosse possível encontrar a solução do problema. Assim, usando algoritmos genéticos para encontrar a maior distância possível.\n",
    "\n",
    "Em relação ao resultado obtido, pode-se afirmar que o objetivo foi alcançado, já que o valor por meio do método de algoritmos genéticos corresponde ao valor com busca exaustiva, este que analisou todas as 360 possibilidades, onde o desempenho apresentado foi bem significativo para um número $n\\geq7$, principalmente com valores maiores, como foi o caso de dez cidades, assim, com o algoritmo genético demorando menos de 1 segundo e a busca exaustiva mais de 100 segundos. Por fim, para demonstrar o resultado foi feito um grafo que demonstra o caminho percorrido, sem repetir nenhuma cidade e retornando para a inicial, além disso, também foi feito um gráfico em coordenadas (x,y) para que fosse notável essa distância entre os pontos. Dessa maneira, por meio dos resultados demonstrados é evidente que o caminho percorrido foi o de maior distância e o que mais poluiu, causando prejuízos ao ambiente."
   ]
  },
  {
   "cell_type": "markdown",
   "metadata": {},
   "source": [
    "## Referências consultadas"
   ]
  },
  {
   "cell_type": "markdown",
   "metadata": {},
   "source": [
    "[1] https://en.wikipedia.org/wiki/Travelling_salesman_problem#/media/File:Bruteforce.gif\n",
    "\n",
    "[2] https://gist.github.com/payoung/6087046"
   ]
  },
  {
   "cell_type": "markdown",
   "metadata": {},
   "source": [
    "## Playground\n",
    "\n"
   ]
  },
  {
   "cell_type": "code",
   "execution_count": 10,
   "metadata": {},
   "outputs": [
    {
     "data": {
      "image/png": "[encoded data removed]",
      "text/plain": [
       "<Figure size 432x288 with 1 Axes>"
      ]
     },
     "metadata": {},
     "output_type": "display_data"
    }
   ],
   "source": [
    "Cidades_visitadas_pelo_caixeiro_viajante_com_gasolina_infinita = {\n",
    "    \"Cidade 0'\": {\"Cidade 3\"},\n",
    "    \"Cidade 1\": {\"Cidade 4\"},\n",
    "    \"Cidade 2\": {\"Cidade 5\"},\n",
    "    \"Cidade 3\": {\"Cidade 2\"},\n",
    "    \"Cidade 4\": {\"Cidade 0\"},\n",
    "    \"Cidade 5\": {\"Cidade 6\"},\n",
    "    \"Cidade 6\": {\"Cidade 1\"},\n",
    "}\n",
    "\n",
    "g = nx.DiGraph(Cidades_visitadas_pelo_caixeiro_viajante_com_gasolina_infinita)\n",
    "\n",
    "nx.draw(g, with_labels=True)\n",
    "\n"
   ]
  }
 ],
 "metadata": {
  "kernelspec": {
   "display_name": "ilumpy",
   "language": "python",
   "name": "ilumpy"
  },
  "language_info": {
   "codemirror_mode": {
    "name": "ipython",
    "version": 3
   },
   "file_extension": ".py",
   "mimetype": "text/x-python",
   "name": "python",
   "nbconvert_exporter": "python",
   "pygments_lexer": "ipython3",
   "version": "3.9.7"
  },
  "org": null
 },
 "nbformat": 4,
 "nbformat_minor": 4
}
