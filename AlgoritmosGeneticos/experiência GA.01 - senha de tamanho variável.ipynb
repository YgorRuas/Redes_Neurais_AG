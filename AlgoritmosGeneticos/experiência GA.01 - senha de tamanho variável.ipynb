{
 "cells": [
  {
   "cell_type": "markdown",
   "metadata": {},
   "source": [
    "Escreva aqui o título do seu experimento\n",
    "========================================\n",
    "\n"
   ]
  },
  {
   "cell_type": "markdown",
   "metadata": {},
   "source": [
    "## Introdução\n",
    "\n"
   ]
  },
  {
   "cell_type": "markdown",
   "metadata": {},
   "source": [
    "A variável de senha de tamanho\n",
    "\n"
   ]
  },
  {
   "cell_type": "markdown",
   "metadata": {},
   "source": [
    "## Objetivo\n",
    "\n"
   ]
  },
  {
   "cell_type": "markdown",
   "metadata": {},
   "source": [
    "Objetivo: Resolver o problema da senha sem fornecer a informação do tamanho da senha para a função que gera a população."
   ]
  },
  {
   "cell_type": "markdown",
   "metadata": {},
   "source": [
    "## Importações\n",
    "\n"
   ]
  },
  {
   "cell_type": "markdown",
   "metadata": {},
   "source": [
    "Todos os comandos de `import` devem estar dentro desta seção.\n",
    "\n"
   ]
  },
  {
   "cell_type": "code",
   "execution_count": 1,
   "metadata": {},
   "outputs": [],
   "source": [
    "from funcoes import populacao_inicial_senha_vr\n",
    "from funcoes import funcao_objetivo_pop_senha_vr"
   ]
  },
  {
   "cell_type": "markdown",
   "metadata": {},
   "source": [
    "## Códigos e discussão\n",
    "\n"
   ]
  },
  {
   "cell_type": "code",
   "execution_count": 2,
   "metadata": {},
   "outputs": [],
   "source": [
    "### CONSTANTES\n",
    "\n",
    "NUM_INDIVIDUOS = 20\n",
    "\n",
    "SENHA = \"ygor\"\n",
    "LETRAS = \"abcdefghijklmnopqrstuvwxyz\"\n",
    "TAMANHO_SENHA_MAX = 100\n",
    "PESO = 50"
   ]
  },
  {
   "cell_type": "code",
   "execution_count": 3,
   "metadata": {},
   "outputs": [],
   "source": [
    "# funções locais\n",
    "\n",
    "def cria_populacao_inicial(tamanho, tamanho_senha):\n",
    "    return populacao_inicial_senha(tamanho, tamanho_senha, LETRAS_POSSIVEIS)\n",
    "\n",
    "def funcao_objetivo_pop(populacao):\n",
    "    return funcao_objetivo_pop_senha(populacao, SENHA)\n",
    "\n",
    "def funcao_selecao(populacao, fitness):\n",
    "    return selecao_torneio_min(populacao, fitness, NUM_COMBATENTES_NO_TORNEIO)\n",
    "\n",
    "def funcao_mutacao(individuo):\n",
    "    return mutacao_senha(individuo, LETRAS_POSSIVEIS)"
   ]
  },
  {
   "cell_type": "code",
   "execution_count": 4,
   "metadata": {},
   "outputs": [
    {
     "name": "stdout",
     "output_type": "stream",
     "text": [
      "rykeukidowktyauoyvpmcdgehfaxlopwigeskkwpgugjnfzawwsfeumylwxveixxyjlayvqttsfdizhbzaylpiqwpulafnqsa  -  4692\n",
      "wnofqyioxclstmzrwutakeyfgxhynnqlzewb  -  1621\n",
      "oxryywvkrejqbvvrgymdnkwntgyetrldwjityguzwlkaa  -  2087\n",
      "mnfpqynopxnpghiflmmchd  -  930\n",
      "qmyevcngenocuqmyjheebkzbjvatchrnitzrhuaqojeeaejlcrwvqprrytxzdowyvphugcbyrqhhrxoyvhvlvfpgruhxebv  -  4587\n",
      "rxsnipndyvqvxnqdjufztemqkyzokwprgxizlxxoiouqnbdbxdjuuogkxvdzfgllizsiomecxjugkqlwy  -  3882\n",
      "hqobqxlygqeqwjpotbqmcaomyhhekzbjwzvzicrd  -  1843\n",
      "fhqtohfhhqwcakkaqsbcgwanviqefozpxuz  -  1574\n",
      "iqyhupbqgngcukovmvmtduiywhtnfhwpjaoszynsokcolno  -  2196\n",
      "ylezqrepqonkoxhlxzalhsmfidvldfwesbkryqkoagzdntxidfgzhw  -  2523\n",
      "bgrwzkxaspjiffjubedrfohlyp  -  1131\n",
      "hlsgiajbeymlpimtzsfeklrlfaajpwwubhlmf  -  1687\n",
      "aunhmliuhrbeaunwfxestxau  -  1049\n",
      "yexxwifttpqieaaoxcuiqyydpawfejginszbtrckeluuqkibrwffubsozgorhdbwlchqabcbyxhgj  -  3667\n",
      "bp  -  132\n",
      "kouvsljdnbesnrljevcmldgnfhoxfomynddguqafyjmetzkwspukm  -  2482\n",
      "t  -  155\n",
      "vcpffgeplfhqqwbpwvjkywhocujkwbkaaqjazuuegvenmlzfebnrothq  -  2620\n",
      "ebmjtyfijqslpysiwumqtunayvxbomcqetvomvmmif  -  1935\n",
      "nyrwgbsgarrroexvbzkuedpnwwaazbaetedrjivmswqqrlycgsadlkziholomqtxaaaiizfpghzezuejepradqgkaq  -  4337\n"
     ]
    }
   ],
   "source": [
    "pop = populacao_inicial_senha_vr(NUM_INDIVIDUOS, TAMANHO_SENHA_MAX, LETRAS)\n",
    "fit = funcao_objetivo_pop_senha_vr(pop, SENHA, PESO)\n",
    "\n",
    "for ind, fit_ind in zip(pop, fit):\n",
    "    print(\"\".join(ind), ' - ', fit_ind)"
   ]
  },
  {
   "cell_type": "markdown",
   "metadata": {},
   "source": [
    "-   Use células de código para o código.\n",
    "\n",
    "-   Use células de texto para a discussão.\n",
    "\n",
    "-   A discussão não deve ser feita em comentários dentro das células de código. Toda discussão deve acontecer após o resultado sendo discutido foi apresentado. Exemplo: não discuta um gráfico antes de apresentá-lo.\n",
    "\n"
   ]
  },
  {
   "cell_type": "code",
   "execution_count": null,
   "metadata": {},
   "outputs": [],
   "source": []
  },
  {
   "cell_type": "markdown",
   "metadata": {},
   "source": [
    "## Conclusão\n",
    "\n"
   ]
  },
  {
   "cell_type": "markdown",
   "metadata": {},
   "source": [
    "Delete este texto e escreva sua conclusão.\n",
    "\n"
   ]
  },
  {
   "cell_type": "markdown",
   "metadata": {},
   "source": [
    "## Referências consultadas\n",
    "\n"
   ]
  },
  {
   "cell_type": "markdown",
   "metadata": {},
   "source": [
    "1.  Delete este texto e inclua suas referências ordenadas numericamente. Se for referenciar no notebook, use o número entre colchetes (exemplo: para citar essa referência aqui escreva &ldquo;[1]&rdquo; sem as áspas).\n",
    "\n",
    "2.  Cada item deve ser numerado. Siga o padrão apresentado.\n",
    "\n",
    "3.  Caso não tenha nenhuma referência consultada, delete esta seção e o texto contido nela!\n",
    "\n"
   ]
  },
  {
   "cell_type": "markdown",
   "metadata": {},
   "source": [
    "## Playground\n",
    "\n"
   ]
  },
  {
   "cell_type": "markdown",
   "metadata": {},
   "source": [
    "Todo código de teste que não faz parte do seu experimento deve vir aqui. Este código não será considerado na avaliação.\n",
    "\n"
   ]
  },
  {
   "cell_type": "code",
   "execution_count": null,
   "metadata": {},
   "outputs": [],
   "source": []
  }
 ],
 "metadata": {
  "kernelspec": {
   "display_name": "ilumpy",
   "language": "python",
   "name": "ilumpy"
  },
  "language_info": {
   "codemirror_mode": {
    "name": "ipython",
    "version": 3
   },
   "file_extension": ".py",
   "mimetype": "text/x-python",
   "name": "python",
   "nbconvert_exporter": "python",
   "pygments_lexer": "ipython3",
   "version": "3.9.7"
  },
  "org": null
 },
 "nbformat": 4,
 "nbformat_minor": 4
}
