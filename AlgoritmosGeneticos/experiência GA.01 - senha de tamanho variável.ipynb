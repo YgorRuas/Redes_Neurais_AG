{
 "cells": [
  {
   "cell_type": "markdown",
   "metadata": {},
   "source": [
    "A variável de senha de tamanho\n",
    "========================================\n",
    "\n"
   ]
  },
  {
   "cell_type": "markdown",
   "metadata": {},
   "source": [
    "## Introdução\n",
    "\n"
   ]
  },
  {
   "cell_type": "markdown",
   "metadata": {},
   "source": [
    "A variável de senha de tamanho é semelhante ao experimento 5 que o objetivo é descobrir a senha, contudo, nesse desafio a maquina não sabe o tamanho da senha, complicando o caso.\n",
    "\n"
   ]
  },
  {
   "cell_type": "markdown",
   "metadata": {},
   "source": [
    "## Objetivo\n",
    "\n"
   ]
  },
  {
   "cell_type": "markdown",
   "metadata": {},
   "source": [
    "Objetivo: Resolver o problema da senha sem fornecer a informação do tamanho da senha para a função que gera a população."
   ]
  },
  {
   "cell_type": "markdown",
   "metadata": {},
   "source": [
    "## Importações\n",
    "\n"
   ]
  },
  {
   "cell_type": "markdown",
   "metadata": {},
   "source": [
    "Todos os comandos de `import` devem estar dentro desta seção.\n",
    "\n"
   ]
  },
  {
   "cell_type": "code",
   "execution_count": 1,
   "metadata": {},
   "outputs": [],
   "source": [
    "from funcoes import populacao_inicial_senha_vr\n",
    "from funcoes import funcao_objetivo_pop_senha_vr\n",
    "from funcoes import selecao_torneio_min_vr\n",
    "from funcoes import cruzamento_ponto_simples_vr as funcao_cruzamento\n",
    "from funcoes import mutacao_senha_vr\n",
    "import random"
   ]
  },
  {
   "cell_type": "markdown",
   "metadata": {},
   "source": [
    "## Códigos e discussão\n",
    "\n"
   ]
  },
  {
   "cell_type": "code",
   "execution_count": 2,
   "metadata": {},
   "outputs": [],
   "source": [
    "### CONSTANTES\n",
    "\n",
    "SENHA = \"Ygor finalmente conseguiu programar algo, até mereço um +\"\n",
    "LETRAS = \"abcdefghijklmnopqrstuvwxyzABCDEFGHIJKLMNOPQRSTUVWXYZ0123456789 é,ç+\"\n",
    "TAMANHO_SENHA_MAX = 100\n",
    "PESO = 50\n",
    "\n",
    "TAMANHO_POP = 50\n",
    "CHANCE_CRUZAMENTO = 0.5\n",
    "CHANCE_MUTACAO = 0.05\n",
    "NUM_COMBATENTES_NO_TORNEIO = 3\n",
    "\n",
    "NUM_GENES = len(SENHA)"
   ]
  },
  {
   "cell_type": "code",
   "execution_count": 3,
   "metadata": {},
   "outputs": [],
   "source": [
    "# funções locais\n",
    "\n",
    "def cria_populacao_inicial(tamanho, tamanho_senha):\n",
    "    return populacao_inicial_senha_vr(tamanho, tamanho_senha, LETRAS)\n",
    "\n",
    "def funcao_objetivo_pop(populacao):\n",
    "    return funcao_objetivo_pop_senha_vr(populacao, SENHA, PESO)\n",
    "\n",
    "def funcao_selecao(populacao, fitness):\n",
    "    return selecao_torneio_min_vr(populacao, fitness, NUM_COMBATENTES_NO_TORNEIO)\n",
    "\n",
    "def funcao_mutacao(individuo):\n",
    "    return mutacao_senha_vr(individuo, LETRAS,TAMANHO_SENHA_MAX)"
   ]
  },
  {
   "cell_type": "code",
   "execution_count": null,
   "metadata": {
    "tags": []
   },
   "outputs": [
    {
     "name": "stdout",
     "output_type": "stream",
     "text": [
      "Progresso da melhor senha já vista\n",
      "5LZW8Wqn8pBVC21PjSbdSIzmXDbT6kgRhgé 7Wa - fitness: 1884\n",
      "ZZmddAhSjWexYisX9RPat2vjpPeld VouWwuWP9 - fitness: 1797\n",
      "ZZmddAhSjWexYisX9RPat2vjpPeld VoXafpwTNbK - fitness: 1733\n",
      "5LZW8Wqn8pBVC21PjSbdSIzmXDbT6kgRhgkA6yNKs4fnNHc4I5ksQqmBy - fitness: 1691\n",
      "ZZmddAhSjWexYisX9RPatIzmoFSgV2PoXafA6yNKs4fnNHc4I5ksQqmBy - fitness: 1626\n",
      "ZZmddAhSjWexYisX9RPatIzmoFSgV2PoXafA6yNKs4fnNHc4I5ksQvmBy - fitness: 1623\n",
      "dliW8WqnmyEeVeD4CPzit2vjpPeld VoXafpwyNKs4fnNHc4I5ksQqmBy - fitness: 1549\n",
      "dliW8WqnmyEeVeD4CPzit2vjoFSgV2PoXafA6yNKs4fnNHc4I5ksQvmBy - fitness: 1536\n",
      "dliW8WqnmyEeVeD4CPzit2vjpPeld VoXafpwyNKs4fnNHc4IfksQvmBy - fitness: 1499\n",
      "dliW8WqnmyEeVeD4CPzit2vjpPeld2PoXafA6yNbs4fnNHc4I5ksQvmBy - fitness: 1485\n",
      "dliW8WqnmyEeVeD4CPzit2vjpFSgV2PoXafAwTNbs4fnNHc4IxksSvmBy - fitness: 1475\n",
      "dliW8WqnmyEeVeD4CPzit2vjpPeld2PoXafAwTNbs4fnNHc4IxksSvmBy - fitness: 1448\n",
      "dliW8WqnmyEeVeD4CPzit2vjpPeld2PoXafAwTNbs4fnNHc4I5ksQvmB - fitness: 1447\n",
      "dliW8XqnmyEeVeD4CTzit2vjpPeld2PoXafAwTNbs4fnNHc4I5ksQvmB - fitness: 1442\n",
      "dliW8WqnmyEeVeD4CPzit2vjpPeld2PoXafAwTNbs4fnNHc4IxksQvmB - fitness: 1418\n",
      "dliW8WqnmyEeVeD4CPzit2vjpPeld2PoXafAwTNbs4fnNHc4bxksQvmB - fitness: 1393\n",
      "dliW8WqnmyEeVeD4CPzit2vjpPeld2PoXafAwTNbs4fnNHc4vxksQvmB - fitness: 1381\n",
      "dliW8WqnmyEeVev4CPzit2vjpPeld2PoXafAwTNbs4fnNHc4vxksQvmB - fitness: 1365\n",
      "dliW8WqnmyreVeD4CPzit2vjpPeld2PoXafAwTNbs4fnNHc4vxksQvmB - fitness: 1346\n",
      "dliW8WqnmyreVev4CPzit2vjpPeld2PoXafAwTNbs4fnNHc4vxksQvmB - fitness: 1330\n",
      "dliW8WqnmyreVev4CPzit2vjpPeldlPoXafAwTNbs4fnNHc4vxksQvmB - fitness: 1282\n",
      "dliW8WqnmyreVev+CPzit2vjpPeldlPoXafAwTNbs4fnNHc4vxksQvmB - fitness: 1273\n",
      "dliW8WqnmyreVev+CPzit2vjpPeldlPoXafAwTNbs4fnNHc4vxks+vmB - fitness: 1235\n",
      "dliW8Wqnmyrewev+CPzit2vjpPeldlPoXafAwTNbs4fnNHc4vxks+vmB - fitness: 1220\n",
      "dliW8Wqnmyrewev+CPzit2vjpPeldePoXafAwTNbs4fnNHc4vxks+vmB - fitness: 1217\n",
      "dliW8Wqnmyrewev+CPzit2vjpPildePoXafAwTNbs4fnNHc4vxks+vmB - fitness: 1213\n",
      "dliW8Wqnmyrewev+CPzic2vjpPildePoXafAwTNbs4fnNHc4vxks+vmB - fitness: 1200\n",
      "dliW8Wqnmyrewev+CPzit2vjpPeldePoXafAwTNba4fnNHc4vxks+vmB - fitness: 1199\n",
      "dliW4Wqnmyrewev+Cjzit2vjpPeldePoXafAwTObs4fnNHc4vxks+vmB - fitness: 1186\n",
      "dliW8Wqnmyrewev+CPzic2vjpPildePoXafAwTNba4fnNHc4vxks+vmB - fitness: 1182\n",
      "dliW4gqnmyrewev+Cjzit2vjpPeldePoXafAwTObs4fnNHc4vxks+vmB - fitness: 1172\n",
      "dliW4Wqnmyrewev+Cjzic2vjpPildePoXafAwTNba4fnNHc4vxks+vmB - fitness: 1152\n",
      "dliW4Wqnmyrewev+Cjzic2vjpPildePoXafAwTrba4fnNHc4vxks+vmB - fitness: 1138\n",
      "dliW4Wqnmyrewev+Cjzic2vjpPildePoXafAwarba4fnNHc4vxks+vmB - fitness: 1125\n",
      "dliW4Wqnmyrewev+Yjzic2vjpPildePoXafAwarba4fnNHc4vxks+vmB - fitness: 1103\n",
      "dliW4Wqnmyrewev+Yjzic2vjpPildePoXafAwarba4fnNHc4vxks+vmBM - fitness: 1087\n",
      "dliW0Wqnmyrewev+Yjzic2vjpPildePoXafAwarba4fnNHc4vxks+vmBM - fitness: 1083\n",
      "dliW4Wqnmyrewev+Yjzic2vjpPildePoXafAwarha4fnNHc4vxks+vmBM - fitness: 1081\n",
      "dliW0Wqnmyrewev+Yjzic2vjpPildePoXafAwarha4fnNHc4vxks+vmBM - fitness: 1077\n",
      "dliW4Wqnmyrewev+Yjzic2vjpPildePoXafAwarbU4fnNHc4vxks+vmBM - fitness: 1075\n",
      "dliW0Wqnmyrewev+Yjzic2vjpPildePoXafAwarha4fnNHh4vxks+vmBM - fitness: 1072\n",
      "dliW0Wqnmyrewev+Yjzic2vjpPildePoXafAwarbU4fnNHc4vxks+vmBM - fitness: 1071\n",
      "dliW0Wqnmyrewev+Yjzic2vjpPildePoXafAwarbU4fnNHh4vxks+vmBM - fitness: 1066\n",
      "dliW0Wqnmyrewev+Yjzic2vjpPildePoXafAqarbU4fnNHh4vxks+vmBM - fitness: 1060\n",
      "dliW0Wqnmyrewev+hjzic2vjpPildePoXafAqarbU4fnNHh4vxks+vmBM - fitness: 1055\n",
      "dliW0Wqnmyrewev+Yjzic2vjpPildePofafAqarbU4fnNHh4vxks+vmBM - fitness: 1046\n",
      "dliW0Wqnmyrewev+YjzicTvjpPildePoXafAqarbU4fnNHh4vxks+vmBM - fitness: 1026\n",
      "dliW0Wqnmyrewev+YjmicTvjpPildePoXafAqarbU4fnNHh4vxks+vmBM - fitness: 1015\n",
      "dliW0Wqnmyrewev+YjzicTvjpPildePoXaf0qarbU4fnNHh4vxks+vmBM - fitness: 1009\n",
      "dliW0Wqnmyrewev+YjmicTvjpPildePoXaf0qarbU4fnNHh4vxks+vmBM - fitness: 998\n",
      "dliW0Wqnmyrewev+YjmicTvjpPildePoXaf0qarbU4fnNHh4vxks+vmB  - fitness: 975\n",
      "dliW0Wqnmyrewyv+YjmicTvjpPildePoXaf0qarbU4fnNHh4vxks+vmB  - fitness: 965\n",
      "dliW0Wqnmyrewyv+YjmicTvjpPildePoXaf0qarbU4fnNHh4viks+vmB  - fitness: 950\n",
      "dliW0Wqnmyrewyv+YjmicTvjpPildePoXav0qarbU4fnNHh4viks+vmB  - fitness: 942\n",
      "dliW0Wqnmyrewyv+YjmicTvjpPildePoXaf0qarbU4fnNHhUviks+vmB  - fitness: 917\n",
      "dliw0Wqnmyrewyb+YjmicTvjpPildePoXav0qarbU4fnNHh4viks+vmB  - fitness: 906\n",
      "dliw0Wqnmyrewyb+YjmicTvjpPildePoXav0qarbU4fnXHh4viks+vmB  - fitness: 896\n",
      "dliw0Wqnmyrewyb+YjmicTvjpPildePoXav0qarbU4fnNHhXviks+vmB  - fitness: 870\n",
      "dliw0Wqnmyrewyb+YjmicTvjpPildePoXav0SarbU4fnNHhXviks+vmB  - fitness: 868\n",
      "dliw0Wqnmyrewyb+YjmicTvjpPildePoXav0SurbU4fnNHhXviks+vmB  - fitness: 866\n",
      "dliw0Wqnmyreoyb+YjmicTvjpPildePoXav0SurbU4fnNHhXviks+vmB  - fitness: 858\n",
      "dliw0Wqnmyreoyb+YjmicTvjpPildePoXav0SurbU4fsNHhXviks+vmB  - fitness: 853\n",
      "dliw0Wqnmyreoyb+YjmicTvjpPildePoXav0SurbR4fsNHhXviks+vmB  - fitness: 850\n",
      "dliw0Wqnmyreoyb+YjmicTvjpPildePoXav0SurbR4fsNHhXoiks+vmB  - fitness: 849\n",
      "dliw0Wqnmyreoyb+YjmicTvjpPilhePoXav0SurbR4fsNHhXviks+vmB  - fitness: 846\n",
      "dliw0Wqnmyreoyb+YjmicTvjpPilhePoXav0SurbR4fsNHhXoiks+vmB  - fitness: 845\n",
      "dliw0Wqnmyreoyb+YjmicTvjpPilhePoXav0SurbR4fsNHhXoiks+vm7  - fitness: 834\n",
      "dliw0Wqnmyreoyb+YjmicTvjpPilhePoXav0Surb 4fsNHhXoiks+vm7  - fitness: 808\n",
      "dliw0Wqnmyreoyb+YkmicTvjpPilhePoXav0Surb 4fsNHhXoiks+vm7  - fitness: 807\n",
      "dliw0Wqnmyreoyb+YkmicTvjpPilhePojav0Surb 4fsNHhXoiks+vm7  - fitness: 789\n",
      "dliw0Wqnmyreoyb+YkmicTvjpPilhePojav0Surb 4fshHhXoiks+vm7  - fitness: 763\n",
      "dliw0Wqnmyreoyb+YkmicTvjpPilhePojav0Surb 4fshChXoiks+vm7  - fitness: 758\n",
      "dliw0Wqnmyreoyb+YkmicTvjpPilhegojav0Surb 4fshHhXoiks+vm7  - fitness: 740\n",
      "dliw0Wqnmyreoyb+YkmicTvjpPilhegojav0Surb 4fshChXoiks+vm7  - fitness: 735\n",
      "dliw0Wqnmyreoyb+YkmicTvjpPilsegojav0Surb 4fshChXoiks+vm7  - fitness: 732\n",
      "dliw0Wqnmyreoyb+YkmicTvjpPilsegojav0Surb 4fshChXoiks+vm71 - fitness: 727\n",
      "dliw0Wqnlyreoyb+YkmicTvjpPilsegojav0Surb 4fshChXoiks+vm71 - fitness: 726\n",
      "dliw0Wqnlyreotb+YkmicTvjpPilsegojav0Surb 4fshChXoiks+vm71 - fitness: 721\n",
      "dliw0Wqnlyreotb+YkmicTvjpPilsegojav0Surb 4fsh5hXoiks+vm71 - fitness: 707\n",
      "dliw0Wqnlyreotb+YkmicTvjpPilsegojav0Surb 4fsu5hXoiks+vm71 - fitness: 694\n",
      "dliw0Wqnlyreotb+YkmicTvjpPilsegojav0munb 4fsh5hboiks+vm71 - fitness: 691\n",
      "dliw0Wqnlyreotb+YkmicTvjpPilsegojav0munb 4fsh4hboiks+vm71 - fitness: 690\n",
      "Pliw0Wqnlyreotb+YkmicTvjpPilsegojav0munb 4fsh5hboiks+vm71 - fitness: 689\n",
      "Pliw0Wqnlyreotb+YkmicTvjpPilsegojav0munb 4fsh4hboiks+vm71 - fitness: 688\n",
      "Pliw0Wqnlyreotb+YkmicTvjpPilsevojav0munb 4fsh4hboiks+vm71 - fitness: 681\n",
      "Pliw0Wqnlyreotb+YkmicTvjpPilsevojav0mune 4fsh4hboiks+vm71 - fitness: 678\n",
      "Pliq0Wqnlyreotb+YkmicTvjpPilsevojav0mune 4fsh4hboiks+vm71 - fitness: 674\n",
      "Pliq0Wqnlyreotb+YkmicTvjpPilsevojav0mune 4fsh4hboikl+vm71 - fitness: 673\n",
      "Pliq0Wqnlyreotb+ZkmicTvjpPilsevojav0mune 4fsh4hboikl+vm71 - fitness: 672\n",
      "Pliq0Wqnlyreotb+ZkmichvjpPilsevojav0mune 4fsh4hboikl+vm71 - fitness: 654\n",
      "Pliq0Wqnlyreotb+ZkmichvjpPilsevojav0mune 4fsé4hboikl+vm71 - fitness: 525\n",
      "Yliq0Wqnlyreotb+ZkmichvjpPilsevojav0mune 4fsé4hboikl+vm71 - fitness: 516\n",
      "Yliq0Wqnlyreotb+ekmichvjpPilsevojav0mune 4fsé4hboikl+vm71 - fitness: 509\n",
      "Yliq0Wqnlyreotb+ekmichvjp1ilsevojav0mune 4fsé4hboikl+vm71 - fitness: 478\n",
      "Yliq0Wqnlyreotb+ekmichvjp1ilmevojav0mune 4fsé4hboikl+vm71 - fitness: 476\n",
      "Yliq0Wqnlureotb+ekmichvjp1ilmevojav0mune 4fsé4hboikl+vm71 - fitness: 472\n",
      "Yliq0Wqnlureotb+ekmichvjp1ilmevYjav0mune 4fsé4hboikl+vm71 - fitness: 466\n",
      "Yliq0Wqnlureotb+ekmichvjp1slmevYjav0mune 4fsé4hboikl+vm71 - fitness: 462\n",
      "Yliq0Wqnlureotb+ekmichvjp1slmevYjav0mune 4fsé4heoikl+vm71 - fitness: 459\n",
      "Yliq0Wqnlureotb+ekmichvjp1slmevYjav0mune 4fsé4heoixl+vm71 - fitness: 446\n",
      "Yliq0Wqnlureotb+ekmichvjp1slmevYjav0mhne 4fsé4heoixl+vm71 - fitness: 441\n",
      "Yliq0Wqnlureotb+ekmichvjp1slmevdjav0mhne 4fsé4heoixl+vm71 - fitness: 436\n",
      "Yliq0Wqnltreotb+ekmichvjp1slmevdjav0mhne 4fsé4heoixl+vm71 - fitness: 435\n",
      "Yliq0Wqnltreotb+ekmichvjp1slmevdjav0Xhne 4fsé4heoixl+vm71 - fitness: 432\n",
      "Yliq0Wqnltreotb+ekmichvjp1slmevdjav0mhnr 4fsé4heoixl+vm71 - fitness: 428\n",
      "Yliq0WqnZtreotb+ekmichvjp1slmevdjav0mhnr 4fsé4heoixl+vm71 - fitness: 424\n",
      "Yliq0WqnZtreotb+ekmschvjp1slmevdjav0mhnr 4fsé4heoixl+vm71 - fitness: 414\n",
      "Yliq0WgnZtreotb+ekmschvjp1slmevdjav0mhnr 4fsé4heoixl+vm71 - fitness: 408\n",
      "Yliq0WgnZtreotb+ekmschvjp1slmevdjav0mhnr 4fsé4heoixl vm71 - fitness: 397\n",
      "Yliq0tgnZtreotb+ekmschvjp1slmevdjav0mhnr 4fsé4heoixl vm71 - fitness: 396\n",
      "Yliq0tgnZtreotb+ekmschvjp1slmevdjav0mhnr 4fsé4heoixn vm71 - fitness: 394\n",
      "Yliq0tgnZtreotb+ekmschvjr1slmevdjav0mhnr 4fsé4heoixn vm71 - fitness: 392\n",
      "Yliq0tgnZtreotb+ekmschvjr1slmeqdjav0mhnr 4fsé4heoixn vm71 - fitness: 389\n",
      "Yliq0tgnZtreotb+ekmschvjr1spmevdjav0mhnr 4fsé4heoixn vm71 - fitness: 388\n",
      "Yliq0tgnZtreotb+ekmschvjr1spmeqdjav0mhnr 4fsé4heoixn vm71 - fitness: 385\n",
      "Yliq0tgnZhreotb+ekmschvjr1spnevcjav0mhnr 4fsé4heoixn vm71 - fitness: 382\n",
      "Yliq0tgnZhreotb+ekmschvju1spnevcjav0mhnr 4fsé4heoixn vm71 - fitness: 379\n",
      "Yliq0tgnZhreotb+ekmschvju1spnevcjav0mhnq 4fsé4heoixn vm71 - fitness: 378\n",
      "Yliq0tgnZhreotb+ekmschvju1spnevcjav0mhnq,4fsé4heoixn vm71 - fitness: 366\n",
      "Yliq0tgnZhreotb+ekmschvju1spnevckav0mhnq,4fsé4heoixn vm71 - fitness: 365\n",
      "Yliq0tgnZhreotb+ckmschvju1spnevcjav0mhnq,4fsé4heoixn vm71 - fitness: 364\n",
      "Yliq0tgnZhreotb+ckmschvju1spnevckav0mhnq,4fsé4heoixn vm71 - fitness: 363\n",
      "Ylsq0tgnZhreotb+ekmschvju1spnevckav0mhnq,4fsé4herixn vm71 - fitness: 360\n",
      "Ylsq0tgnZhreotb+ekmschvju1spnevckav0mhnq,3fsé4herixn vm71 - fitness: 359\n",
      "Ylsq0tgnZhreotb+ekmschvju1opnevckav0mhnq,4fsé4herixn vm71 - fitness: 358\n",
      "Ylsq0sgnZhreotb+ekmschvju1opnevckav0mhnq,4fsé4herixn vm71 - fitness: 357\n",
      "Ylsq0sgnZhreotb+emmschvju1opnevckav0mhnq,4fsé4herixn vm71 - fitness: 355\n",
      "Ylsq0sgnZhreotb+emmschvju1opnevckav mhnq,4fsé4herixn vm71 - fitness: 339\n",
      "Ylsq0sgnZjreotb+emmschvju1opnevckav mhnq,4fsé4herixn vm71 - fitness: 337\n",
      "Ylsq0ignZhreotb+emmschvju1opnevckav mhnq,4fsé4herixn vm71 - fitness: 329\n",
      "Ylsq ignZhreotb+emmschvju1opnevckav mhnq,4fsé4herixn vm71 - fitness: 313\n",
      "Ylsq ignZhreotb+emmschvju1opnevckav mhno,4fsé4herixn vm71 - fitness: 311\n",
      "Ylsq ignZhreotb+emmschvju1opneockav mhno,4fsé4herixn vm71 - fitness: 310\n",
      "Ylsq ignZhreotb+emmschvju1opneockav ehno,4fsé4herixn vm71 - fitness: 302\n",
      "Yfsq ignZhreotd+emmschuju1opneockav mino,4fsé4herixo vm71 - fitness: 301\n",
      "Yfsq ignZhreotd+eomschuju1opneockav mino,4fsé4herixo vm71 - fitness: 299\n",
      "Yfsq ignZhreotd+eomschuju1opneockav fino,4fsé4herixo vm71 - fitness: 292\n",
      "Yfsq ignZhreotd+eomschuju1opneockav fibo,4fsé4herixo vm71 - fitness: 290\n",
      "Yfsq ignZhreotd+eomschuju1opneockav fibo,4fsé4herixo vm01 - fitness: 283\n",
      "Yfsq ignZhreotd+eomschuju1opneockav fibo,4dsé4herixo vm01 - fitness: 281\n",
      "Yfsq ignZhreotd+eomsehuju1opneockav fibo,4dsé4herixo vm01 - fitness: 279\n",
      "Yfsq ignZhreotd+eomsehuju1opneockav fibo,4dsé4herbxo vm01 - fitness: 278\n",
      "Yfsq ignZhreotd+eomsehuju1opneoclav fibo,4dsé4herbxo vm01 - fitness: 277\n",
      "Yfsq ignZhreotd+eomsehuju1opneoclar fibo,4dsé4herbxo vm01 - fitness: 273\n",
      "Yfsq ijnZhreotd+eomsehuju1opneoclar fibo,4dsé4herbxo vm01 - fitness: 272\n",
      "Yfsq ijnZhreotd+eomsehuju1opneoclar fnbo,4dsé4herbxo vm01 - fitness: 271\n",
      "Yfsq ijnghreotd+eomsehuju1opneoclar fnbo,4dsé4herbxo vm01 - fitness: 270\n",
      "Yfsq ijnghreotd+eomsehuju1opneoclar cnbo,4dsé4herbxo vm01 - fitness: 267\n",
      "Yfsq ijnghreotd+eomsehuju1opneoclar cnbo,4asé4herbxo vm01 - fitness: 264\n",
      "Yfsq ijnghneotd+eomsehuju1opneoclar cnbo,4asé4herbxo vm01 - fitness: 260\n",
      "Yfsq ijnghneotd+eomsehuju1opneoclar cnbo,4asé4herdxo vm01 - fitness: 258\n",
      "Yfsq ijnghneotd+eomsehuju1opneoclar cnbo,4asé+herbxo um01 - fitness: 250\n",
      "Yfsq ijnghneotd+eomsehuju1opneoclar cnbo,4asé+herexo um01 - fitness: 247\n",
      "Yfsq ijnglneotd+eomsehuju1opneoclar cnbo,4asé+herexo um01 - fitness: 243\n",
      "Yfsq ijnghnentd+eomsehuju+opneoclar cnbo,4asé+herexo um01 - fitness: 240\n",
      "Yfoq ijnghnentd+eomsehuju+opneoclar cnbo,4asé+herexo um01 - fitness: 236\n",
      "Yfoq ijnghnentd+eomsehuju+opnhoclar cnbo,4asé+herexo um01 - fitness: 235\n",
      "Yfoq ijnghnentd+eomsehuju+opnhoclar ckbo,4asé+herexo um01 - fitness: 234\n",
      "Yfoq ijnghnentd+eomsehuju+opnhoclar ckbo,4asé+hereyo um01 - fitness: 233\n",
      "Yfoq ijnghnentd+eomsehuju+opnhoclar ckbo,4asé+herezo um01 - fitness: 232\n",
      "Yfoq ijnghnentd+eomsehuju+opnfoclar ckjo,4asé+herezo um01 - fitness: 230\n",
      "Yfoq ijngknentd+eomsehuju+opnfoclar ckjo,4asé+herezo um01 - fitness: 227\n",
      "Yfoq ijngknentd+eomsehuju+opnfoclar ckjo, asé+herezo um01 - fitness: 207\n",
      "Yfoq iingknentd+eomsehuju+opnfoclar ckjo, asé+herezo um01 - fitness: 206\n",
      "Yfoq fingknentd+eomsehuju+opnfoclar ckjo, asé+herezo um01 - fitness: 203\n",
      "Yfoq fingknentd+eomsehuju+opnfoclar bkjo, asé+herezo um01 - fitness: 202\n",
      "Yfoq fingknentd+eomsehuju+opnfoclar akjo, asé+herezo um01 - fitness: 201\n",
      "Yfoq fingkmentd+eomsehuju+opnfoclar akjo, asé+herezo um01 - fitness: 200\n",
      "Yfoq fingkmentd+eomsehuju+opnfoalar amjo, asé+herezo um01 - fitness: 198\n",
      "Yfoq fingkmentd+eomsehuju+opnfpalar amjo, asé+herezo um01 - fitness: 197\n",
      "Yfoq fingkmentd+eomsehuju+opnfpalar amjo, asé+herezo um00 - fitness: 196\n",
      "Yfoq fingkmentd+eomsehuju+ornfpalar amjo, asé+herezo um00 - fitness: 194\n",
      "Yfoq fingkmentd+eomseguju+ornfpalar amjo, asé+herezo um00 - fitness: 193\n",
      "Yfoq fingkmentd+eomseguju+ornfsalar amjo, asé+herezo um00 - fitness: 192\n",
      "Yfoq fingkmentd+eomseguju+ornfsalar amjo, asé+ierezo um00 - fitness: 191\n",
      "Yfoq fingkmentd+comseguju+ornfsalar amjo, asé+ierezo um00 - fitness: 189\n",
      "Yfoq fingkmentd+comseguju+ornfsalar amjo, asé+ierezo um,0 - fitness: 185\n",
      "Yfoq finglmentd+comseguju+ornfsalar amdo, asé+ierezo um,0 - fitness: 184\n",
      "Yfoq finglmentd+comseguju+ornfsalar amdo, asé+iereéo um,0 - fitness: 77\n",
      "Yfoq finglmentd+comseguju+ornfsalar amdo, até+iereéo um,0 - fitness: 76\n",
      "Yfoq finglmentd+comseguiu+ornfsalar amdo, até+iereéo um,0 - fitness: 75\n",
      "Yfoq finglmentd+comseguiu+ornfsalar amdo, até+pereéo um,0 - fitness: 74\n",
      "Yfoq finglmentd+comseguiu+ornfsalar ameo, até+pereéo um,0 - fitness: 73\n",
      "Yfoq finglmentd+comseguiu+ornfsalar aleo, até+pereéo um,0 - fitness: 72\n",
      "Yfoq findlmentd+comseguiu+ornfsalar aleo, até+pereéo um,0 - fitness: 69\n",
      "Yfoq finblmentd+comseguiu+ornfsalar aleo, até+pereéo um,0 - fitness: 67\n",
      "Yfoq finblmentd comseguiu+ornfsalar aleo, até+pereéo um,0 - fitness: 56\n",
      "Ygoq finblmentd comseguiu+ornfsalar aleo, até+pereéo um,0 - fitness: 55\n",
      "Ygoq finblmentd comseguiu+prnfsalar aleo, até+pereéo um,0 - fitness: 54\n",
      "Ygoq finblmentd comseguiu+prnfsalar aleo, até+pereéo um,, - fitness: 50\n",
      "Ygoq finalmentd comseguiu+prnfsalar aleo, até+pereéo um,, - fitness: 49\n",
      "Ygoq finalmentd comseguiu+prnfsalar alfo, até+pereéo um,, - fitness: 48\n",
      "Ygoq finalmentd comseguiu+prnfsalar alfo, até+kereéo um,, - fitness: 47\n",
      "Ygoq finalmentd comseguiu+prnfsalar alfo, até+kereéo um,+ - fitness: 46\n",
      "Ygoq finalmentd comseguiu+prnfsalar alfo, até kereéo um,+ - fitness: 35\n",
      "Ygoq finalmente comseguiu+prnfsalar alfo, até kereéo um,+ - fitness: 34\n",
      "Ygoq finalmente comseguiu+prnfsalar alfo, até kereéo um + - fitness: 22\n",
      "Ygoq finalmente conseguiu+prnfsalar alfo, até kereéo um + - fitness: 21\n",
      "Ygoq finalmente conseguiu+prngsalar alfo, até kereéo um + - fitness: 20\n",
      "Ygoq finalmente conseguiu+prnfsalar alfo, até mereéo um + - fitness: 19\n",
      "Ygoq finalmente conseguiu+prngsalar alfo, até mereéo um + - fitness: 18\n",
      "Ygoq finalmente conseguiu+progsalar alfo, até mereéo um + - fitness: 17\n",
      "Ygoq finalmente conseguiu+progsamar alfo, até mereéo um + - fitness: 16\n",
      "Ygor finalmente conseguiu+progsamar alfo, até mereéo um + - fitness: 15\n",
      "Ygor finalmente conseguiu+programar alfo, até mereéo um + - fitness: 14\n",
      "Ygor finalmente conseguiu+programar alfo, até mereço um + - fitness: 12\n",
      "Ygor finalmente conseguiu programar alfo, até mereço um + - fitness: 1\n"
     ]
    }
   ],
   "source": [
    "populacao = cria_populacao_inicial(TAMANHO_POP, TAMANHO_SENHA_MAX)\n",
    "\n",
    "melhor_fitness_ja_visto = float('inf')\n",
    "\n",
    "print('Progresso da melhor senha já vista')\n",
    "\n",
    "while melhor_fitness_ja_visto != 0:\n",
    "    \n",
    "     # Seleção\n",
    "    fitness = funcao_objetivo_pop(populacao)\n",
    "    populacao = funcao_selecao(populacao, fitness)\n",
    "    \n",
    "    # Cruzamento\n",
    "    pais = populacao[0::2]\n",
    "    maes = populacao[1::2]\n",
    "    \n",
    "    contador = 0\n",
    "    \n",
    "    for pai, mae in zip(pais, maes):\n",
    "        if random.random() <= CHANCE_CRUZAMENTO:\n",
    "            filho1, filho2 = funcao_cruzamento(pai, mae)\n",
    "            populacao[contador] = filho1\n",
    "            populacao[contador + 1] = filho2\n",
    "        \n",
    "        contador = contador + 2   \n",
    "        \n",
    "    # Mutação\n",
    "    for n in range(len(populacao)):\n",
    "        if random.random() <= CHANCE_MUTACAO:\n",
    "            individuo = populacao[n]\n",
    "            populacao[n] = funcao_mutacao(individuo)            \n",
    "            \n",
    "    # melhor individuo já visto até agora\n",
    "    fitness = funcao_objetivo_pop(populacao)\n",
    "    menor_fitness = min(fitness)\n",
    "    if menor_fitness < melhor_fitness_ja_visto:        \n",
    "        posicao = fitness.index(menor_fitness)\n",
    "        melhor_individuo_ja_visto = populacao[posicao]\n",
    "        melhor_fitness_ja_visto = menor_fitness\n",
    "        print(\"\".join(melhor_individuo_ja_visto), \"- fitness:\", melhor_fitness_ja_visto)\n",
    "\n",
    "print()\n",
    "print(\"Melhor palpite da senha encontrado:\")\n",
    "print(\"\".join(melhor_individuo_ja_visto))"
   ]
  },
  {
   "cell_type": "markdown",
   "metadata": {},
   "source": [
    "A respeito do código montado, vale destacar que muitas funções foram semelhantes ao experimento 5, todavia, alteraram seus argumentos e novas funções para isso foram criadas."
   ]
  },
  {
   "cell_type": "markdown",
   "metadata": {},
   "source": [
    "Um ponto a dar ênfase é na constante \"PESO\", esta que torna possível a senha ser encontrada (além da mutação e de outros fatores), já que por meio dela que uma senha com quantidades de caracteres que destoam da senha correta sejam percebidas e como consequência \"punidas\". Portanto, essa punição foi determinado e o valor e o grau de crescimento dela é em relação a quantos caracteres essa senha testada está da senha correta, por exemplo, se a senha é \"Ygor\" e a tentativa de senha por acaso é \"Daniel\", o código não irá punir muito devido a distância de apenas 2 caracteres, contudo, caso a senha seja \"Caixão viajante\" devido a essa maior distância sua punição a levara para um lugar mais longe da lista de futuras possíveis tentativas."
   ]
  },
  {
   "cell_type": "markdown",
   "metadata": {},
   "source": [
    "## Conclusão\n",
    "\n"
   ]
  },
  {
   "cell_type": "markdown",
   "metadata": {},
   "source": [
    "Mediante ao problema apresentado que é da senha de tamanho variável, este que o computador não tem conhecimento do tamanho da senha e mesmo com essa problemática o objetivo é encontrar a senha desejada. Pode-se afirmar, então, que o experimento foi concluído com sucesso, já que usando funções semelhantes ao experimento 5 só que alteradas e criando um modo de \"punir\" as palavras com quantidade de caracteres errados, estes que a punição varia conforme o desvio em relação a senha correta, punição essa que está estabelecida como constante. Desse modo, alterando alguns argumentos e estabelecendo a senha correta, após executar todo o código a senha foi encontrada corretamente, conforme foi proposto. Ademais, cabe salientar a respeito desse método, que o tempo de execução não foi grande, considerando o limite estabelecido de caracteres como (100) para ele não rodar até travar, o tempo em relação a todas as possibilidades e ao tamanho dessa senha com a quantidade de caracteres possíveis, foi relativamente rápido, em média menos de trinta segundos.\n"
   ]
  },
  {
   "cell_type": "markdown",
   "metadata": {},
   "source": [
    "## Playground\n",
    "\n"
   ]
  },
  {
   "cell_type": "markdown",
   "metadata": {},
   "source": [
    "Todo código de teste que não faz parte do seu experimento deve vir aqui. Este código não será considerado na avaliação.\n",
    "\n"
   ]
  },
  {
   "cell_type": "code",
   "execution_count": null,
   "metadata": {},
   "outputs": [],
   "source": []
  }
 ],
 "metadata": {
  "kernelspec": {
   "display_name": "ilumpy",
   "language": "python",
   "name": "ilumpy"
  },
  "language_info": {
   "codemirror_mode": {
    "name": "ipython",
    "version": 3
   },
   "file_extension": ".py",
   "mimetype": "text/x-python",
   "name": "python",
   "nbconvert_exporter": "python",
   "pygments_lexer": "ipython3",
   "version": "3.9.7"
  },
  "org": null
 },
 "nbformat": 4,
 "nbformat_minor": 4
}
