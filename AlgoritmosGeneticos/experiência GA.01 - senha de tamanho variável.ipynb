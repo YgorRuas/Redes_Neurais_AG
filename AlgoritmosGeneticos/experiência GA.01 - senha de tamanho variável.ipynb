{
 "cells": [
  {
   "cell_type": "markdown",
   "metadata": {},
   "source": [
    "A variável de senha de tamanho\n",
    "========================================\n",
    "\n"
   ]
  },
  {
   "cell_type": "markdown",
   "metadata": {},
   "source": [
    "## Introdução\n",
    "\n"
   ]
  },
  {
   "cell_type": "markdown",
   "metadata": {},
   "source": [
    "A variável de senha de tamanho é semelhante ao experimento 5 que o objetivo é descobrir a senha, contudo, nesse desafio a maquina não sabe o tamanho da senha, complicando o caso.\n",
    "\n"
   ]
  },
  {
   "cell_type": "markdown",
   "metadata": {},
   "source": [
    "## Objetivo\n",
    "\n"
   ]
  },
  {
   "cell_type": "markdown",
   "metadata": {},
   "source": [
    "Objetivo: Resolver o problema da senha sem fornecer a informação do tamanho da senha para a função que gera a população."
   ]
  },
  {
   "cell_type": "markdown",
   "metadata": {},
   "source": [
    "## Importações\n",
    "\n"
   ]
  },
  {
   "cell_type": "markdown",
   "metadata": {},
   "source": [
    "Todos os comandos de `import` devem estar dentro desta seção.\n",
    "\n"
   ]
  },
  {
   "cell_type": "code",
   "execution_count": 14,
   "metadata": {},
   "outputs": [],
   "source": [
    "from funcoes import populacao_inicial_senha_vr\n",
    "from funcoes import funcao_objetivo_pop_senha_vr\n",
    "from funcoes import selecao_torneio_min_vr\n",
    "from funcoes import cruzamento_ponto_simples_vr as funcao_cruzamento\n",
    "from funcoes import mutacao_senha_vr\n",
    "import random"
   ]
  },
  {
   "cell_type": "markdown",
   "metadata": {},
   "source": [
    "## Códigos e discussão\n",
    "\n"
   ]
  },
  {
   "cell_type": "code",
   "execution_count": 15,
   "metadata": {},
   "outputs": [],
   "source": [
    "### CONSTANTES\n",
    "\n",
    "SENHA = \"Ygor finalmente conseguiu programar algo, até mereço um +\"\n",
    "LETRAS = \"abcdefghijklmnopqrstuvwxyzABCDEFGHIJKLMNOPQRSTUVWXYZ0123456789 é,ç+\"\n",
    "TAMANHO_SENHA_MAX = 100\n",
    "PESO = 50\n",
    "\n",
    "TAMANHO_POP = 50\n",
    "CHANCE_CRUZAMENTO = 0.5\n",
    "CHANCE_MUTACAO = 0.05\n",
    "NUM_COMBATENTES_NO_TORNEIO = 3\n",
    "\n",
    "NUM_GENES = len(SENHA)"
   ]
  },
  {
   "cell_type": "code",
   "execution_count": 16,
   "metadata": {},
   "outputs": [],
   "source": [
    "# funções locais\n",
    "\n",
    "def cria_populacao_inicial(tamanho, tamanho_senha):\n",
    "    return populacao_inicial_senha_vr(tamanho, tamanho_senha, LETRAS)\n",
    "\n",
    "def funcao_objetivo_pop(populacao):\n",
    "    return funcao_objetivo_pop_senha_vr(populacao, SENHA, PESO)\n",
    "\n",
    "def funcao_selecao(populacao, fitness):\n",
    "    return selecao_torneio_min_vr(populacao, fitness, NUM_COMBATENTES_NO_TORNEIO)\n",
    "\n",
    "def funcao_mutacao(individuo):\n",
    "    return mutacao_senha_vr(individuo, LETRAS,TAMANHO_SENHA_MAX)"
   ]
  },
  {
   "cell_type": "code",
   "execution_count": 17,
   "metadata": {
    "tags": []
   },
   "outputs": [
    {
     "name": "stdout",
     "output_type": "stream",
     "text": [
      "Progresso da melhor senha já vista\n",
      "DkltWga8D 8cc QoRdgB8llrvkBHVQkSqJu7L17hs1pyj5V6hQJfdlR7cg - fitness: 1829\n",
      "c0wS7GyudUTfsoRM7PJt,SjrvkBHVQkSqJu7L17hs1pyj5V6hQJfdlR7cg - fitness: 1691\n",
      "c0wS7GuudUTfsoRM7PJt,SjrvkBHVQkSqJu7L17hs1pyj5V6hQJfdlR7cg - fitness: 1687\n",
      "c0wS7GuudUTfsoRM7PJt,SjrvUBHVQkSqJu7L17hs1pyj5V6hQJfdlR7cg - fitness: 1665\n",
      "c0wS7GuudUTfsoRM7PJt,SjrvUBHVQkSqJu7L17hs1pyj5c6hQJfdlR7cg - fitness: 1652\n",
      "c0wS7GuudUTfsoRM7PJt,SjrvUBHVQkSqJu7L17hs1pyj5c6hQJfdlR79g - fitness: 1610\n",
      "c0wS7GuudUTfsoRM7PJt,SjrvUfHVQkSqJu7L17hs1pyj5c6hQJfdlR79g - fitness: 1574\n",
      "c0wS7GuudUTfsoRM7PJt,SjrvUfHVQkSqJu7L17hs1pyj5c6hQnfdlR79g - fitness: 1538\n",
      "c0wS7GuudUTfsoRMcPJt,SjrvUfHVQkSqJu7L17hs1pyj5c6hQJfdlR79g - fitness: 1530\n",
      "c0wS7GuudUTfsoRMcPJt,SjrvUfHVQkSqJu7L17hs1pyj5c6hQnfdlR79g - fitness: 1494\n",
      "c0wT7GuudUTfsoRMcPJt,SjrvUfHVQkSqJu7L17hs1pyj5c6hQnfdlR79g - fitness: 1493\n",
      "c0wT7GuudUTfsoRMcPJt,SjrvUfHVQkSqJu7L17hs1pyj5c6hQnfdle79g - fitness: 1474\n",
      "c0wT7GuudUTfsoRMcPJtoSjrvUfHVQkSqJu7L17hs1pyj5c6hQnfdle79g - fitness: 1427\n",
      "c0wT7GuudUTfsoRMcPwtoSjrvUfHVQkSqJu7L17hs1pyj5c6hQnfdle79g - fitness: 1400\n",
      "c0wT7GuudUTfsoRMcPwtoSjrvUfHVQkSqJu7L17hj1pyj5c6hQnfdle79g - fitness: 1391\n",
      "c0wT7GuudUTfsoRMcPwtoSjrvUfHVQkSqJu7L17hD1pyj5c6hQnfdle79g - fitness: 1353\n",
      "c0wT7GuudUTfsoRMcPwtoSjrvUfHVQkSqJu7L17hD1pyy5c6hQnfdle79g - fitness: 1338\n",
      "c0wT7GuudUTfsoRMcPwtoSjrvUfHVQkSqZu7L17hD1pyy5c6hQnfdle79g - fitness: 1322\n",
      "c0wT7GuuddTfsoRMcPwtoSjrvUfHVQkSqJu7r17hD1pyy5c6hQnfdle79g - fitness: 1319\n",
      "c0wT7GuuddTfsoRMcPwtoSjrvUfHVQkSqZu7L17hD1pyy5c6hQnfdle79g - fitness: 1307\n",
      "c0wt7GuudUTfsoRMcPwtoSjrvUfHVQkSqZu7L17hD1pyy5c6hQnfdle79g - fitness: 1294\n",
      "c0wt7GuudUTfsoRMcPwtoSjrvUfHVQkSqZu7L17hD1pyy5c6hQnfdle7 - fitness: 1280\n",
      "c0wt7GuudUTfsoRMcPwtoSjrvUfHVQkSqZu7U17hD1pyy5c6hQnfdle7 - fitness: 1271\n",
      "c0wt7GuuddTfsoRMcPwtoSjrvUfHVQkSqZu7L17hD1pyy5c6hQnfdle7 - fitness: 1265\n",
      "c0wt7GuuddTfsoRMcPwtoSjrvUfHVQkSqZu7Lf7hD1pyy5c6hQnfdle79g - fitness: 1226\n",
      "c0wt7GuuddTfsoRMcPwtoSjrvUfHVQkSqZu7Lf7hD1pyy5c6hQnfdle7 - fitness: 1212\n",
      "c0wt7GuuddTfsoRMcmwtoSjrvUfHVQkSqZu7Lf7hD1pyy5c6hQnfdle7 - fitness: 1183\n",
      "c0wt7GuuddTfsoRMcPwtoSjrvUfHVQkSqZu7Lf7hD1pyy5cuhQnfdle7 - fitness: 1181\n",
      "c0wt7GuuddTfsoRMcmwtoSjrvUfHVQkSqZu7Lf7hD1pyy5c6hQnfQle7 - fitness: 1164\n",
      "c0wt7GuuddTfsoRMcmwtoSjrvUfHVQkXqZu7Lf7hD1pyy5c6hQnfQle7 - fitness: 1159\n",
      "c0wt7GuuddTfsoRMcmwtoSjrvUfHVqkSqZu7Lf7hD1pyy5c6hQnfQle7 - fitness: 1152\n",
      "c0wt7GuuddTfsoRMcmwtoSjrvUfHVqkSqZu7Lf7hD1pyy5c6hxnfQle7 - fitness: 1151\n",
      "c0wt7GuuddTfsoRMcmwtoSjrvUfHVqkSqZu7Lf7hD+pyy5c6hxnfQle7 - fitness: 1145\n",
      "c0wt7GuuddTfsoRMcmwtoSjrvNfHVqkSqZu7Lf7hD+pyy5c6hxnfQle7 - fitness: 1138\n",
      "c0wt7GuuddTfsoRMcmwtoSjrvNfHVqkSqZu7LfKhD+pyy5c6hxnfQle7 - fitness: 1118\n",
      "c0wt7GuuddTfsoRMcmwtgSjrvUfHVqkSqZu7LfKhD+pyy5c6hxnfQle7 - fitness: 1117\n",
      "c0wt7GuuddTfsoRMcmwtoSjrvNfHzqkSqZu7LfKhD+pyy5c6hxnfQle7 - fitness: 1104\n",
      "c0wt7GuuddTfsoRMcmwtoSjrvNfHzqkSqZu7PfKhD+pyy5c6hxnfQle7 - fitness: 1100\n",
      "cYwt7GuuddTfsoRMcmwtoSjrvNfHzqkSqZu7LfKhD+pyy5c6hxnfQle7 - fitness: 1063\n",
      "cYwt7GuuddTfsoRMcmwtoSjrvNfHzqkSqZu7ifKhD+pyy5c6hxnfQle7 - fitness: 1050\n",
      "cYwt7GuuddTfsoRMcmwtoSjrvNfHzqkaqZu7ifKhD+pyy5c6hxnfQle7 - fitness: 1036\n",
      "cYwt7GuuddTfsoRMcmwtoSjrvNfHzqkaqZu7ifKhD+pyy5c6yxnfQle7 - fitness: 1033\n",
      "cYwt7GuuddTfsoRMcmwtoSjrvNfHzqkaqZu7ifKhD+pyy5c6nxnfQle7 - fitness: 1030\n",
      "cYwt7GuuddTfsoRMcmwtosjrvNfHzqkaqZu7ifKhD+pyy5c6nxnfQle7 - fitness: 1022\n",
      "cYwt7GuuddTfsoRMcmwtoSjrv6fHzqkaqZu7ifKhD+pyy5c6nxnfQle7 - fitness: 1006\n",
      "cYwt7GuuddTfsoRMcmwtosjrv6fHzqkaqZu7ifKhD+pyy5c6nxnfQle7 - fitness: 998\n",
      "chwt7GuuddTfsoRMcmwtoSjrv6fHzqkaqZu7ifKhD+pyy5c6nxnfQle7 - fitness: 993\n",
      "cYwt7GuuddTfsoR9cmwtoSjrv6fHzqkaqZu7ifKhD+pyy5c6nxnfQle7 - fitness: 986\n",
      "cYwt7GuuddTfsoR9cmwtosjrv6fHzqkaqZu7ifKhD+pyy5c6nxnfQle7 - fitness: 978\n",
      "chwt7GuuddTfsoR9cmwtosjrv6fHzqkaqZu7ifKhD+pyy5c6nxnfQle7 - fitness: 965\n",
      "chwt7GuuddTfsoR9cmwtosjrv6fHzqkaqZu7ifKhD+pyy5c6nUnfQle7 - fitness: 962\n",
      "chwt7GuuddTfsoR9cmwtosjrv6fHpqkaqZu7ifKhD+pyy5c6nxnfQle7 - fitness: 955\n",
      "chwt7GuuddTfsoR9cmwtosjrv6fHpqkaqZu7ifKhD+pyy5c6nUnfQle7 - fitness: 952\n",
      "chwt7GuuddTfson9cmwtosjrv6fHpqkaqZu7ifKhD+pyy5c6nxnfQle7 - fitness: 945\n",
      "chwt7GuuddTfsoR9cmwtosjrv6fHpqkaqZu7ifKhD+pyy5cgnUnfQle7 - fitness: 907\n",
      "chwt7GuuddTfsoR9cmwtosjrv6fHpqkaqZu7ifKhD+pyy5cgnUnfQle7Q - fitness: 895\n",
      "chwt7GuuddTfson9cmwtosjrv6fHpqkaqZu7ifKhD+pyy5cgnUnfQle7Q - fitness: 885\n",
      "chwt7GuuddTfson9cmwtosjrv6fHpqkaqZu7ffKhD+pyy5cgnUnfQle7Q - fitness: 882\n",
      "chwt7GuuddTfson9cmwtosjrv6fHpqkaqZu7ifKhD+pyy5cgnUnfQue7Q - fitness: 876\n",
      "chwt GuuddTfson9cmwtosjrv6fHpqkaqZu7ifKhD+pyy5cgnUnfQle7Q - fitness: 862\n",
      "chwt GuuddTfson9cmwtosjrv6fHpqkaqZu7ifKhD+pyy5cgnUnfQue7Q - fitness: 853\n",
      "chwt GuuddTfson9cmwtjsjrv6fHpqkaqZu7ifKhD+pyy5cgnUnfQue7Q - fitness: 848\n",
      "chwt GuudkTfson9cmwtjsjrv6fHpqkaqZu7ifKhD+pyy5cgnUnfQue7Q - fitness: 841\n",
      "chwt GuuddTfson9cmwtjsjrv6fHpqkaqZu7ifqhD+pyy5cgnUnfQue7Q - fitness: 830\n",
      "chwt GuudkTfson9cmwtjsjrv6fHpqkaqZu7ifqhD+pyy5cgnUnfQue7Q - fitness: 823\n",
      "chwt GuudkTfson9cmwtjsmrv6fHpqkaqZu7ifqhD+pyy5cgnUnfQue7Q - fitness: 820\n",
      "chwt GuudkTfson9cmwtjsmrv6fHpqkaqZu7ifqhD+pty5cgnUnfQue7Q - fitness: 815\n",
      "chwt GuudkTfson9cmwtjsmrv6fHpqkaqZu7ioqhD+pty5cgnUnfQue7Q - fitness: 812\n",
      "chwt GuudkTfsoj9cmwtjsmrv6fHpqkaqZu7ifqhD+pty5cgnUnfQue7Q - fitness: 811\n",
      "chwt GuudkTfsoj9cmwtjsmrv6fHpqkaqZu7ioqhD+pty5cgnUnfQue7Q - fitness: 808\n",
      "chwt GuudkTfsoj9cmwtjsmrv6fHpqkaqZu7ioehD+pty5cgnUnfQue7Q - fitness: 800\n",
      "chwt GuudkTfsoj9cmwtjsmrv6fHpqkaqZu7ioehD+pty5ggnUnfQue7Q - fitness: 796\n",
      "chwt GmudkTfsoj9cmwtjsmrv6fHpqkaqZu7ioehD+pty5cgnUnfQue7Q - fitness: 792\n",
      "chwt GmudkTfsoj9cmwtjsmrv6fHpqkaqZu7ioehD+pty5ggnUnfQue7Q - fitness: 788\n",
      "chwt GmudkTfsoj9cmwtjsmrv6fHpqkaqZu7ioehD+pty5ggnUnfQuk7Q - fitness: 782\n",
      "chwt GmudkTfsoj9cmwtcsmrv6fHpqkaqZu7ioehD+pty5ggnUnfQuk7Q - fitness: 779\n",
      "chwt Gmudklfsoj9cmwtcsmrv6fHpqkaqZu7ioehD+pty5ggnUnfQuk7Q - fitness: 755\n",
      "chwt Gmudklfsoj9cmftcsmrv6fHpqkaqZu7ioehD+pty5ggnUnfQuk7Q - fitness: 754\n",
      "chwt Gmudklfsoj9cmwtcsmrv6fHpqkaqZu7ioehD+pty5ggnUnfQuk7M - fitness: 751\n",
      "chwt Gmudklfsoi9cmwtcsmrv6fHpqkaqZu7ioehD+pty5ggnUnfQuk7M - fitness: 750\n",
      "chwt Gmudllfsoi9cmwtcsmrv6fHpqkaqZu7ioehD+pty5ggnUnfQuk7M - fitness: 749\n",
      "chwt Gmudllfsoi9cmwtcsmrv6fHpqkaqZu7ioehD+pty5ggnrnfQuk7M - fitness: 746\n",
      "cgot Gmudllfsoi9cmwtcsmrv6fHpqkaqZu7ioehD+pty5ggnUnfQuk7M - fitness: 740\n",
      "cgot Gmudllfsoi9cmwtcsurv6fHpqkaqZu7ioehD+pty5ggnUnfQuk7M - fitness: 732\n",
      "cgot Gmudllfsoi9cmwtcsurv6sHpqkaqZu7ioehD+pty5ggnUnfQuk7M - fitness: 725\n",
      "cgot Gmudllfsoi0cmwtcsurv6fHpqkaqZu7ioehD+pty5ggnUnfQuk7M - fitness: 723\n",
      "cgot Zmudllfsoi0cmwtcsurv6fHpqkaqZu7ioehD+pty5ggnUnfQuk7M - fitness: 704\n",
      "cgot Gmudllfsoi9cmwtcsurv6sjpqkaqZu7ioehD+pty5ggnUnfQuk7M - fitness: 691\n",
      "cgot Zmudllfsoi0cmwtcsurv6sjpqkaqZu7ioehD+pty5ggnUnfQuk7M - fitness: 663\n",
      "cgot Zmudllfsoi0cmwtcsurv6sjpqkaqZu7ioehD+pty5ggnUnfDuk7M - fitness: 650\n",
      "cgot Zmudllfsoi0cmktcsurv6sjpqkaqZu7ioehD+pty5ggnUnfDuk7M - fitness: 644\n",
      "cgot hmudllfsoi0cmktcsurv6sjpqkaqZu7ioehD+pty5ggnUnfDuk7M - fitness: 634\n",
      "cgot hmudllfsoi0cmktcsurv6sjpqkaqZu7ioehD+pty5ggsUnfDuk7M - fitness: 631\n",
      "cgot hmudllfsoi0cmktcsurv6sjpqkaoZu7ioehD+pty5ggsUnfDuk7M - fitness: 629\n",
      "cgot hmudllfsoi0cmktcsurv6sjpqkaoZu7ioehD+pty5ggsUnfCuk7M - fitness: 628\n",
      "cgot hmudllfsoi0cmktcrurv6sjpqkaoZu7ioehD+pty5ggsUnfCuk7M - fitness: 627\n",
      "cgot hmudllfsoh0cmktcrurv6sjpqkaoZu7ioehD+pty5ggsUnfCuk7M - fitness: 626\n",
      "cgot hmudllfsqh0cmktcrurv6sjpqkaoZu7ioehD+pty5ggsUnfCuk7M - fitness: 624\n",
      "cgot hmudllfsqh0cmktcrurv6sjpqkaoZu7ioehD+pty5ggsUnpCuk7M - fitness: 616\n",
      "cgot hgudllfsqh0cmktcrurv6sjpqkaoZu7ioehD+pty5ggsUnpCuk7M - fitness: 614\n",
      "Qgot hgudllfsqh0cmktcrurv6sjpqkaoZu7ioehD+pty5ggsUnpCuk7M - fitness: 612\n",
      "Qgot hgudllfsqh0coktcrurv6sjpqkaoZu7ioehD+pty5ggsUnpCuk7M - fitness: 610\n",
      "Qgot hgudllfsqh0coktcrurv6sjppkaoZu7ioehD+pty5ggsUnpCuk7M - fitness: 609\n",
      "Qgot hgudllfsqh0coktcrurv6sjppkaoZu7ZoehD+pty5ggsUnpCuk7M - fitness: 608\n",
      "Qgot hgudllfsqh0coktckurv6sjppkaoZu7ioehD+pty5ggsUnpCuk7M - fitness: 602\n",
      "Qgot hgrdllfsqh0coktckurv6sjppkaoZu7ioehD+pty5ggsUnpCuk7M - fitness: 599\n",
      "Qgot hgrdllfsqh0coktckurv6sjppkaoZu7ioehD+pty ggsUnpCuk7M - fitness: 578\n",
      "Qgot hgrdllfsqh0coktckurv6sjppkaoZu7ioehD+Yty ggsUnpCuk7M - fitness: 571\n",
      "Qgot hgrdllfsqh0coktckurv6rjppkaoZu7ioehD+Yty ggsUnpCuk7M - fitness: 570\n",
      "Qgot hgrdllfsqh0coktckurv,rjppkaoZu7ioehD+Yty ggsUnpCuk7M - fitness: 560\n",
      "Qgot hgrdllfsqh0coktchurv,rjppkaoZu7ioehD+Yty ggsUnpCuk7M - fitness: 557\n",
      "Qgot hgrdllfsqh0coktchurv,rjppkaoZu7ioehD+Yty ggsUnp6uk7M - fitness: 544\n",
      "Qgot hgrdllfsqh0coktchurv,rjppkaoZu7ioeh8+Yty ggsUnp6uk7M - fitness: 532\n",
      "Qgot hgrdllfsqh0coktchurv,rjppkaoZu7ioeh8+Yty ggsUnp6uk1M - fitness: 526\n",
      "Qgot hgrdllfsqh0coktchurv,rjphkaoZu7ioeh8+Yty ggsUnp6uk1M - fitness: 518\n",
      "Qgot hgrdllfsqh0coktchurv,rjphkaoZu7Zoeh8+Yty ggsUnp6uk1M - fitness: 517\n",
      "Qgot hgrdllfsth0coktchurv,rjphkaoZu7Zoeh8+Yty ggsUnp6uk1M - fitness: 514\n",
      "Qgot hgrdllfsth0coktchuqv,rjphkaoZu7Zoeh8+Yty ggsUnp6uk1M - fitness: 513\n",
      "Qgot hgrdllfsth0coktchuqv,rjphkaoZu7Zoeh8+Yty ggsUrp6uk1M - fitness: 509\n",
      "Qgot hgrdllfsth0coktchuqv,rjphkaoZu7Zleh8+Yty mgsUnp6uk1M - fitness: 504\n",
      "Qgot hgrdllfsth0coktchuqv,rjphkaoZu7Zleh8+Yty mgsUzp6uk1M - fitness: 492\n",
      "Qgot hhrdllfsth0coktehujv,rjphkalZu7Zlet8+Yty mgsUnp6uk1M - fitness: 491\n",
      "Qgot hhrdllfsth0coktehujv,rjphkalZu7Zlet5+Yty mgsUnp6uk1M - fitness: 488\n",
      "Qgot hhrdllfsth0coktehujv,rjphkalZu7Zlet5+Yty mgsUnp6uk1  - fitness: 465\n",
      "Qgot hhrdllfsth0coktehujv,rjphkalZu7Zlek5+Yty mgsUnp6uk1  - fitness: 464\n",
      "Qgot hhrdllfrth0coktehujv,rjphkalZu7Zlek5+Yty mgsUnp6uk1  - fitness: 463\n",
      "Tgot hhrdllfrth0coktehujv,rjphkalZu7Zlek5+Yty mgsUnp6uk1  - fitness: 460\n",
      "Tgot hhrdllfrth0coktehuju,rjphkalZu7Zlek5+Yty mgsUnp6uk1  - fitness: 459\n",
      "Tgot hhrdllfrth0coktehuju,rjphmalZu7Zlek5+Yty mgsUnp6uk1  - fitness: 457\n",
      "Tgot hhrdllfrth0coktehuju,rjphmalZu7Zlek5+Yty mgsUnp6uk15 - fitness: 456\n",
      "Tgot hhrdllfrth0coktehuju,rjphmalZu7Zlek5+hty mgsUnp6uk15 - fitness: 455\n",
      "Tgot hhrdllfrth0coktehuju,rjphmalZu7Zlek5+hty mgsUnp6uk1, - fitness: 446\n",
      "Tgot hhrdllfrth0coktehuju,rjphmalZu7Zlek5+hty mgstnp6uk1, - fitness: 445\n",
      "Tgot hhrdllfrth0coktehuju,rjohmalZu7Zlek5+hty mgstnp6uk1, - fitness: 444\n",
      "Tgot hhrdllfrth0coktehuju,rjohmalZu7Zlek5+hty mgstnp uk1, - fitness: 422\n",
      "Tgot hhldllfrth0coktehuju,rjohvalZu7Zlek5+hty mgsftp6uk1, - fitness: 421\n",
      "Tgot hhldllfrth0coktehuju,rjohvalZu7Zler5+hty mgsftp6uk1, - fitness: 420\n",
      "Tgot hhldllfrth0coktehuju,rjohvalZs7Zler5+hty mgsftp6uk1, - fitness: 418\n",
      "Tgot hhldlmfrth0coktehuju,rjohvalZs7Zler5+hty mgsftp6uk1, - fitness: 417\n",
      "Tgot hhldlmfpth0coktehuju,rjohvalZs7Zler5+hty mgsftp6uk1, - fitness: 415\n",
      "Tgot hhldlmfptg0coktehuju,rjohvalZs7Zler5+hty mgsftp6uk1, - fitness: 414\n",
      "Tgot hhldlmfptg0coktehuju,rjohqalZs7Zler5+hty mgsftp6uk1, - fitness: 411\n",
      "Tgot hhldlmfptg0coktehuju,rjohqalZs7Zler5+hty mgsftp6uk,, - fitness: 406\n",
      "Tgot hhldlmfptg0coktehuju,rjohqalZs7Zler5+hty mgsfup6uk,, - fitness: 405\n",
      "Tgot hhldlmfptg0coktehuju,rjohqalZs7Zler5+hty mgsfwp6uk,, - fitness: 403\n",
      "Tgot hhldlmfptg0coktehuju,rjohqamZs7Zler5+hty mgsfwp6uk,, - fitness: 402\n",
      "Tgot hhlclmfptg0coktehuju,rjohqamZs7Zler5+hty mgsfwp6uk,, - fitness: 401\n",
      "Tgot hhlclmfptg0coktehuju,rjohqamZs1Zler5+hty mgsfwp6uk,, - fitness: 395\n",
      "Tgot hhlclmfptg0coktehuju,rjohqamZs1Zler5 hty mgsfwp6uk,, - fitness: 384\n",
      "Tgot hhlclmfptg0coktehuju,rkohqamZs1Zler5 hty mgsfwp6uk,, - fitness: 383\n",
      "Tgot hhlclmfptg0coktehuju,rkohqamZs1Zler5 hté mgsfwp6uk,, - fitness: 271\n",
      "Tgot hhlclmfptg0coktehuju,rkohqamZs1Zler+ hté mgsfwp6uk,, - fitness: 263\n",
      "Ygor hhlclmfptg coktehuju,rkohqamZs1Zler5 hté mgsfwp6uk,, - fitness: 248\n",
      "Ygor hhlclmfptg coktehuju,rkohqamZs1Zler1 hté mgsfwp6uk,, - fitness: 244\n",
      "Ygor hhlclmfptg coktehuju,rpohqamZs1Zler1 hté mgsfwp6uk,, - fitness: 239\n",
      "Ygor hhlclmfptg coktehuju,rpogqamZs1Zler1 hté mgsfwp6uk,, - fitness: 238\n",
      "Ygor hhlclmfptg coktehuju,rpogqamZs1Zler1 fté mgsfwp6uk,, - fitness: 236\n",
      "Ygor hhlclmfptg coktehuju,rpogqamZs1fler1 fté mgsfwp6uk,, - fitness: 234\n",
      "Ygor hhlclmfptg coktehuju,rpogqamZs1fler1 fté mgsfwp4uk,, - fitness: 232\n",
      "Ygor hhlclmfptg coktehuju,rpogqamZs1fler1 fté mgsfwo4uk,, - fitness: 231\n",
      "Ygor hhlclmfptg coktehuiu,rpogqamZs1fler1 fté mgsfwo4uk,, - fitness: 230\n",
      "Ygor hhlclmfptg coktehuiu,rpogqamZs1fler1 fté mgsfzo4uk,, - fitness: 227\n",
      "Ygor hhlclmfptg coktehuiu,rpogqamZs1fler1 fté mgsfzo4ul,, - fitness: 226\n",
      "Ygor hhlclmfptg coktehuiu,rsogqamZs1fler1 fté mgsfzo4ul,, - fitness: 225\n",
      "Ygor hhnclmfptg coktehuiu,rsogqamZs1fler1 fté mgsfzo4ul,, - fitness: 223\n",
      "Ygor hhlclmfptg coltehuiu,rsogqamgs1fler1 fté mgsfzo+ul,, - fitness: 214\n",
      "Ygor hhlclmfptg coltehuiu,rsogqamgs,fler1 fté mgsfzo+ul,, - fitness: 209\n",
      "Ygor hhlclmfptg coltehuiu,rsogqamgs,fler1 fté mesfzo+ul,, - fitness: 207\n",
      "Ygor hhlclmfptg coltehuiu,rsogqamgs,fler1 fté mesfço+ul,, - fitness: 98\n",
      "Ygor fhlclmfptg coltehuiu,rsogqamgs,fler1 fté mesfço+ul,, - fitness: 96\n",
      "Ygor fhlclmfptg coltehuiu,rsogqamcs,fler1 fté mesfço+ul,, - fitness: 92\n",
      "Ygor fhlclmfptg cootehuiu,rsogqamcs,fler1 fté mesfço+ul,, - fitness: 91\n",
      "Ygor fhlclmfptg cootehuiu,rsogqamcs,fler+ fté mesfço+ul,, - fitness: 87\n",
      "Ygor fhlclmfptg cootehuiu,rsogramcs,fler+ fté mesfço+ul,, - fitness: 86\n",
      "Ygor fhlclmfptg cootehuiu rsogramcs,fler+ fté mesfço+ul,, - fitness: 74\n",
      "Ygor fhlclmfptg cootehuiu psogramcs,fler+ fté mesfço+ul,, - fitness: 72\n",
      "Ygor fhlclmfptg cootehuiu psogramcs,fler+ fté merfço+ul,, - fitness: 71\n",
      "Ygor fhlblmfptg cootehuiu psogramcs,fler+ fté merfço+ul,, - fitness: 70\n",
      "Ygor fhlblmfntg cootehuiu psogramcs,fler+ fté merfço+ul,, - fitness: 68\n",
      "Ygor fhlblmfntg cootehuiu psogramcs,flem+ fté merfço+ul,, - fitness: 67\n",
      "Ygor fhlblmfntg cooteguiu psogramcs,flem+ fté merfço+ul,, - fitness: 66\n",
      "Ygor fhlblmfntg cooteguiu psogramcs,flem+ cté merfço+ul,, - fitness: 63\n",
      "Ygor fhlblmfnte cooteguiu psogramcs,flem+ cté merfço+ul,, - fitness: 61\n",
      "Ygor fhlblmfnte conteguiu psogramcs,flem+ cté merfço+ul,, - fitness: 60\n",
      "Ygor fhlblmfnte conteguiu psogramcs,flem+ até merfço+ul,, - fitness: 58\n",
      "Ygor fhlblmfnte conteguiu psogramcs,flem+ até merfço+ul,+ - fitness: 57\n",
      "Ygor fhoblmfnte conteguiu psogramcs,flem+ até merfço+ul,+ - fitness: 56\n",
      "Ygor fhoblmfnte conteguiu psogramcs,flem+ até mereço+ul,+ - fitness: 55\n",
      "Ygor fhoblmfnte conteguiu psogramcs flem+ até mereço+ul,+ - fitness: 43\n",
      "Ygor fhoalmfnte conteguiu psogramcs flem+ até mereço+ul,+ - fitness: 42\n",
      "Ygor fhoalmfnte conteguiu psogramcs fleo+ até mereço+ul,+ - fitness: 40\n",
      "Ygor fhoalmfnte conteguiu psogramcs flfo+ até mereço+ul,+ - fitness: 39\n",
      "Ygor fhoalmfnte conteguiu psogramcs blfo+ até mereço+ul,+ - fitness: 35\n",
      "Ygor fhoalmfnte conteguiu psogramcs blfo+ até mereço ul,+ - fitness: 24\n",
      "Ygor fhoalmfnte conteguiu psogramcs blfo+ até mereço ul + - fitness: 12\n",
      "Ygor fhoalmfnte conteguiu programcs blfo+ até mereço ul + - fitness: 11\n",
      "Ygor fioalmfnte conteguiu programcs blfo+ até mereço ul + - fitness: 10\n",
      "Ygor fioalmfnte conseguiu programcs blfo+ até mereço ul + - fitness: 9\n",
      "Ygor finalmfnte conseguiu programcs blfo+ até mereço ul + - fitness: 8\n",
      "Ygor finalmfnte conseguiu programcs blgo+ até mereço ul + - fitness: 7\n",
      "Ygor finalmfnte conseguiu programcr blgo+ até mereço ul + - fitness: 6\n",
      "Ygor finalmfnte conseguiu programcr algo+ até mereço ul + - fitness: 5\n",
      "Ygor finalmente conseguiu programcr algo+ até mereço ul + - fitness: 4\n",
      "Ygor finalmente conseguiu programcr algo+ até mereço um + - fitness: 3\n",
      "Ygor finalmente conseguiu programar algo+ até mereço um + - fitness: 1\n",
      "Ygor finalmente conseguiu programar algo, até mereço um + - fitness: 0\n",
      "\n",
      "Melhor palpite da senha encontrado:\n",
      "Ygor finalmente conseguiu programar algo, até mereço um +\n"
     ]
    }
   ],
   "source": [
    "populacao = cria_populacao_inicial(TAMANHO_POP, TAMANHO_SENHA_MAX)\n",
    "\n",
    "melhor_fitness_ja_visto = float('inf')\n",
    "\n",
    "print('Progresso da melhor senha já vista')\n",
    "\n",
    "while melhor_fitness_ja_visto != 0:\n",
    "    \n",
    "     # Seleção\n",
    "    fitness = funcao_objetivo_pop(populacao)\n",
    "    populacao = funcao_selecao(populacao, fitness)\n",
    "    \n",
    "    # Cruzamento\n",
    "    pais = populacao[0::2]\n",
    "    maes = populacao[1::2]\n",
    "    \n",
    "    contador = 0\n",
    "    \n",
    "    for pai, mae in zip(pais, maes):\n",
    "        if random.random() <= CHANCE_CRUZAMENTO:\n",
    "            filho1, filho2 = funcao_cruzamento(pai, mae)\n",
    "            populacao[contador] = filho1\n",
    "            populacao[contador + 1] = filho2\n",
    "        \n",
    "        contador = contador + 2   \n",
    "        \n",
    "    # Mutação\n",
    "    for n in range(len(populacao)):\n",
    "        if random.random() <= CHANCE_MUTACAO:\n",
    "            individuo = populacao[n]\n",
    "            populacao[n] = funcao_mutacao(individuo)            \n",
    "            \n",
    "    # melhor individuo já visto até agora\n",
    "    fitness = funcao_objetivo_pop(populacao)\n",
    "    menor_fitness = min(fitness)\n",
    "    if menor_fitness < melhor_fitness_ja_visto:        \n",
    "        posicao = fitness.index(menor_fitness)\n",
    "        melhor_individuo_ja_visto = populacao[posicao]\n",
    "        melhor_fitness_ja_visto = menor_fitness\n",
    "        print(\"\".join(melhor_individuo_ja_visto), \"- fitness:\", melhor_fitness_ja_visto)\n",
    "\n",
    "print()\n",
    "print(\"Melhor palpite da senha encontrado:\")\n",
    "print(\"\".join(melhor_individuo_ja_visto))"
   ]
  },
  {
   "cell_type": "markdown",
   "metadata": {},
   "source": [
    "A respeito do código montado, vale destacar que muitas funções foram semelhantes ao experimento 5, todavia, alteraram seus argumentos e novas funções para isso foram criadas."
   ]
  },
  {
   "cell_type": "markdown",
   "metadata": {},
   "source": [
    "Um ponto a dar ênfase é na constante \"PESO\", esta que torna possível a senha ser encontrada (além da mutação e de outros fatores), já que por meio dela que uma senha com quantidades de caracteres que destoam da senha correta sejam percebidas e como consequência \"punidas\". Portanto, essa punição foi determinado e o valor e o grau de crescimento dela é em relação a quantos caracteres essa senha testada está da senha correta, por exemplo, se a senha é \"Ygor\" e a tentativa de senha por acaso é \"Daniel\", o código não irá punir muito devido a distância de apenas 2 caracteres, contudo, caso a senha seja \"Caixão viajante\" devido a essa maior distância sua punição a levara para um lugar mais longe da lista de futuras possíveis tentativas."
   ]
  },
  {
   "cell_type": "markdown",
   "metadata": {},
   "source": [
    "## Conclusão\n",
    "\n"
   ]
  },
  {
   "cell_type": "markdown",
   "metadata": {},
   "source": [
    "Mediante ao problema apresentado que é da senha de tamanho variável, este que o computador não tem conhecimento do tamanho da senha e mesmo com essa problemática o objetivo é encontrar a senha desejada. Pode-se afirmar, então, que o experimento foi concluído com sucesso, já que usando funções semelhantes ao experimento 5 só que alteradas e criando um modo de \"punir\" as palavras com quantidade de caracteres errados, estes que a punição varia conforme o desvio em relação a senha correta, punição essa que está estabelecida como constante. Desse modo, alterando alguns argumentos e estabelecendo a senha correta, após executar todo o código a senha foi encontrada corretamente, conforme foi proposto. Ademais, cabe salientar a respeito desse método, que o tempo de execução não foi grande, considerando o limite estabelecido de caracteres como (100) para ele não rodar até travar, o tempo em relação a todas as possibilidades e ao tamanho dessa senha com a quantidade de caracteres possíveis, foi relativamente rápido, em média menos de trinta segundos.\n"
   ]
  },
  {
   "cell_type": "markdown",
   "metadata": {},
   "source": [
    "## Playground\n",
    "\n"
   ]
  },
  {
   "cell_type": "markdown",
   "metadata": {},
   "source": [
    "Todo código de teste que não faz parte do seu experimento deve vir aqui. Este código não será considerado na avaliação.\n",
    "\n"
   ]
  },
  {
   "cell_type": "code",
   "execution_count": null,
   "metadata": {},
   "outputs": [],
   "source": []
  }
 ],
 "metadata": {
  "kernelspec": {
   "display_name": "ilumpy",
   "language": "python",
   "name": "ilumpy"
  },
  "language_info": {
   "codemirror_mode": {
    "name": "ipython",
    "version": 3
   },
   "file_extension": ".py",
   "mimetype": "text/x-python",
   "name": "python",
   "nbconvert_exporter": "python",
   "pygments_lexer": "ipython3",
   "version": "3.9.7"
  },
  "org": null
 },
 "nbformat": 4,
 "nbformat_minor": 4
}
